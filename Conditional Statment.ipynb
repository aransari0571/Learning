{
 "cells": [
  {
   "cell_type": "code",
   "execution_count": 1,
   "id": "3acc549a",
   "metadata": {},
   "outputs": [
    {
     "name": "stdout",
     "output_type": "stream",
     "text": [
      "Data Science\n"
     ]
    }
   ],
   "source": [
    "if True:  #indentation is always 4 spaces\n",
    "    print('Data Science')"
   ]
  },
  {
   "cell_type": "code",
   "execution_count": 2,
   "id": "66857e1f",
   "metadata": {},
   "outputs": [
    {
     "name": "stdout",
     "output_type": "stream",
     "text": [
      "Data Science\n",
      "Machine Learning\n"
     ]
    }
   ],
   "source": [
    "if True:  #indentation is always 4 spaces\n",
    "    print('Data Science')\n",
    "    print(\"Machine Learning\")"
   ]
  },
  {
   "cell_type": "code",
   "execution_count": 3,
   "id": "dc52f476",
   "metadata": {},
   "outputs": [
    {
     "name": "stdout",
     "output_type": "stream",
     "text": [
      "good bye\n"
     ]
    }
   ],
   "source": [
    "if False:  \n",
    "    print('Data Science')\n",
    "\n",
    "print(\"good bye\")"
   ]
  },
  {
   "cell_type": "code",
   "execution_count": 4,
   "id": "869f983b",
   "metadata": {},
   "outputs": [
    {
     "name": "stdout",
     "output_type": "stream",
     "text": [
      "Data Science\n",
      "good bye\n"
     ]
    }
   ],
   "source": [
    "if True:  \n",
    "    print('Data Science')\n",
    "\n",
    "print(\"good bye\")"
   ]
  },
  {
   "cell_type": "code",
   "execution_count": 5,
   "id": "c4fe98f9",
   "metadata": {},
   "outputs": [
    {
     "name": "stdout",
     "output_type": "stream",
     "text": [
      "Data Science\n"
     ]
    }
   ],
   "source": [
    "if True:  \n",
    "    print('Data Science')\n",
    "else:\n",
    "    print(\"good bye\")"
   ]
  },
  {
   "cell_type": "code",
   "execution_count": 6,
   "id": "870e42ea",
   "metadata": {},
   "outputs": [
    {
     "name": "stdout",
     "output_type": "stream",
     "text": [
      "good bye\n"
     ]
    }
   ],
   "source": [
    "if False:  \n",
    "    print('Data Science')\n",
    "else:\n",
    "    print(\"good bye\")"
   ]
  },
  {
   "cell_type": "code",
   "execution_count": 7,
   "id": "bc3ebde0",
   "metadata": {},
   "outputs": [
    {
     "name": "stdout",
     "output_type": "stream",
     "text": [
      "Even Number \n"
     ]
    }
   ],
   "source": [
    "# I want to  print only even numbers\n",
    "x = 4\n",
    "r = x % 2\n",
    "\n",
    "\n",
    "if r == 0:\n",
    "    print(\"Even Number \")"
   ]
  },
  {
   "cell_type": "code",
   "execution_count": 8,
   "id": "48a338a1",
   "metadata": {},
   "outputs": [],
   "source": [
    "x = 5\n",
    "r = x % 2\n",
    "\n",
    "\n",
    "if r == 0:\n",
    "    print(\"Even Number \")"
   ]
  },
  {
   "cell_type": "code",
   "execution_count": 9,
   "id": "211f5ae5",
   "metadata": {},
   "outputs": [
    {
     "name": "stdout",
     "output_type": "stream",
     "text": [
      "Odd Number \n"
     ]
    }
   ],
   "source": [
    "x = 9\n",
    "r = x % 2\n",
    "\n",
    "\n",
    "if r == 0:\n",
    "    print(\"Even Number \")\n",
    "\n",
    "if r == 1:\n",
    "    print(\"Odd Number \")"
   ]
  },
  {
   "cell_type": "code",
   "execution_count": 10,
   "id": "e0f6aa92",
   "metadata": {},
   "outputs": [
    {
     "name": "stdout",
     "output_type": "stream",
     "text": [
      "Even Number \n"
     ]
    }
   ],
   "source": [
    "x = 8\n",
    "r = x % 2\n",
    "\n",
    "\n",
    "if r == 0:\n",
    "    print(\"Even Number \")\n",
    "\n",
    "if r == 1:\n",
    "    print(\"Odd Number \")"
   ]
  },
  {
   "cell_type": "code",
   "execution_count": 11,
   "id": "28536b64",
   "metadata": {},
   "outputs": [
    {
     "name": "stdout",
     "output_type": "stream",
     "text": [
      "Odd Number \n"
     ]
    }
   ],
   "source": [
    "x = 5\n",
    "r = x % 2\n",
    "\n",
    "\n",
    "if r == 0:\n",
    "    print(\"Even Number \")\n",
    "\n",
    "print(\"Odd Number \")"
   ]
  },
  {
   "cell_type": "code",
   "execution_count": 12,
   "id": "1122605f",
   "metadata": {},
   "outputs": [
    {
     "name": "stdout",
     "output_type": "stream",
     "text": [
      "Even Number \n",
      "Odd Number \n"
     ]
    }
   ],
   "source": [
    "x = 4\n",
    "r = x % 2\n",
    "\n",
    "\n",
    "if r == 0:\n",
    "    print(\"Even Number \")\n",
    "\n",
    "print(\"Odd Number \")"
   ]
  },
  {
   "cell_type": "code",
   "execution_count": 13,
   "id": "ba07a67b",
   "metadata": {},
   "outputs": [
    {
     "name": "stdout",
     "output_type": "stream",
     "text": [
      "Even Number \n"
     ]
    }
   ],
   "source": [
    "x = 4\n",
    "r = x % 2\n",
    "\n",
    "\n",
    "if r == 0:\n",
    "    print(\"Even Number \")\n",
    "else:\n",
    "    print(\"Odd Number \")"
   ]
  },
  {
   "cell_type": "code",
   "execution_count": 14,
   "id": "80578d9a",
   "metadata": {},
   "outputs": [
    {
     "name": "stdout",
     "output_type": "stream",
     "text": [
      "Odd Number \n"
     ]
    }
   ],
   "source": [
    "x = 9\n",
    "r = x % 2\n",
    "\n",
    "\n",
    "if r == 0:\n",
    "    print(\"Even Number \")\n",
    "else:\n",
    "    print(\"Odd Number \")"
   ]
  },
  {
   "cell_type": "code",
   "execution_count": 15,
   "id": "421130f5",
   "metadata": {},
   "outputs": [
    {
     "name": "stdout",
     "output_type": "stream",
     "text": [
      "Odd Number \n"
     ]
    }
   ],
   "source": [
    "x = 17\n",
    "r = x % 2\n",
    "\n",
    "\n",
    "if r == 0:\n",
    "    print(\"Even Number \")\n",
    "\n",
    "if r != 0:\n",
    "    print(\"Odd Number \")"
   ]
  },
  {
   "cell_type": "code",
   "execution_count": 16,
   "id": "a74105e3",
   "metadata": {},
   "outputs": [
    {
     "name": "stdout",
     "output_type": "stream",
     "text": [
      "Even Number \n"
     ]
    }
   ],
   "source": [
    "x = 18\n",
    "r = x % 2\n",
    "\n",
    "\n",
    "if r == 0:\n",
    "    print(\"Even Number \")\n",
    "\n",
    "if r != 0:\n",
    "    print(\"Odd Number \")"
   ]
  },
  {
   "cell_type": "code",
   "execution_count": 17,
   "id": "fcedc6e7",
   "metadata": {},
   "outputs": [
    {
     "name": "stdout",
     "output_type": "stream",
     "text": [
      "Odd Number \n"
     ]
    }
   ],
   "source": [
    "x = 3\n",
    "r = x % 2\n",
    "\n",
    "\n",
    "if r == 0:\n",
    "    print(\"Even Number \")\n",
    "    if x>5:\n",
    "        print(\"Greater Number\")\n",
    "\n",
    "else:\n",
    "    print(\"Odd Number \")"
   ]
  },
  {
   "cell_type": "code",
   "execution_count": 18,
   "id": "bc2963e0",
   "metadata": {},
   "outputs": [
    {
     "name": "stdout",
     "output_type": "stream",
     "text": [
      "Even Number \n"
     ]
    }
   ],
   "source": [
    "x = 4\n",
    "r = x % 2\n",
    "\n",
    "\n",
    "if r == 0:\n",
    "    print(\"Even Number \")\n",
    "    if x>5:\n",
    "        print(\"Greater Number\")\n",
    "\n",
    "else:\n",
    "    print(\"Odd Number \")"
   ]
  },
  {
   "cell_type": "code",
   "execution_count": 19,
   "id": "4576e1a2",
   "metadata": {},
   "outputs": [
    {
     "name": "stdout",
     "output_type": "stream",
     "text": [
      "Even Number \n",
      "Greater Number\n"
     ]
    }
   ],
   "source": [
    "x = 8\n",
    "r = x % 2\n",
    "\n",
    "\n",
    "if r == 0:\n",
    "    print(\"Even Number \")\n",
    "    if x>5:\n",
    "        print(\"Greater Number\")\n",
    "\n",
    "else:\n",
    "    print(\"Odd Number \")"
   ]
  },
  {
   "cell_type": "code",
   "execution_count": 20,
   "id": "6af0393a",
   "metadata": {},
   "outputs": [
    {
     "name": "stdout",
     "output_type": "stream",
     "text": [
      "Even Number \n",
      "not greater \n"
     ]
    }
   ],
   "source": [
    "x = 2\n",
    "r = x % 2\n",
    "\n",
    "\n",
    "if r == 0:\n",
    "    print(\"Even Number \")\n",
    "\n",
    "\n",
    "    if x>5:\n",
    "        print(\"Greater Number\")\n",
    "    else:\n",
    "        print(\"not greater \")\n",
    "\n",
    "\n",
    "else:\n",
    "    print(\"Odd Number \")"
   ]
  },
  {
   "cell_type": "code",
   "execution_count": null,
   "id": "d2159a4f",
   "metadata": {},
   "outputs": [],
   "source": []
  },
  {
   "cell_type": "code",
   "execution_count": null,
   "id": "e59ae7d9",
   "metadata": {},
   "outputs": [],
   "source": []
  }
 ],
 "metadata": {
  "kernelspec": {
   "display_name": "Python 3",
   "language": "python",
   "name": "python3"
  },
  "language_info": {
   "codemirror_mode": {
    "name": "ipython",
    "version": 3
   },
   "file_extension": ".py",
   "mimetype": "text/x-python",
   "name": "python",
   "nbconvert_exporter": "python",
   "pygments_lexer": "ipython3",
   "version": "3.13.5"
  }
 },
 "nbformat": 4,
 "nbformat_minor": 5
}
