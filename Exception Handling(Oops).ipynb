{
 "cells": [
  {
   "cell_type": "code",
   "execution_count": 1,
   "id": "09217bbe",
   "metadata": {},
   "outputs": [
    {
     "name": "stdout",
     "output_type": "stream",
     "text": [
      "2.5\n",
      "Buy\n"
     ]
    }
   ],
   "source": [
    "a = 5\n",
    "b = 2\n",
    "\n",
    "print(a / b)\n",
    "print('Buy')\n"
   ]
  },
  {
   "cell_type": "code",
   "execution_count": null,
   "id": "5d350033",
   "metadata": {},
   "outputs": [
    {
     "name": "stdout",
     "output_type": "stream",
     "text": [
      "0.0\n",
      "Buy\n"
     ]
    }
   ],
   "source": [
    "a = 5\n",
    "b = 0\n",
    "\n",
    "\n",
    "print( b/a)\n",
    "print('Buy')\n"
   ]
  },
  {
   "cell_type": "code",
   "execution_count": 5,
   "id": "8e6d7529",
   "metadata": {},
   "outputs": [
    {
     "name": "stdout",
     "output_type": "stream",
     "text": [
      "Buy\n"
     ]
    },
    {
     "ename": "ZeroDivisionError",
     "evalue": "division by zero",
     "output_type": "error",
     "traceback": [
      "\u001b[31m---------------------------------------------------------------------------\u001b[39m",
      "\u001b[31mZeroDivisionError\u001b[39m                         Traceback (most recent call last)",
      "\u001b[36mCell\u001b[39m\u001b[36m \u001b[39m\u001b[32mIn[5]\u001b[39m\u001b[32m, line 5\u001b[39m\n\u001b[32m      2\u001b[39m b = \u001b[32m0\u001b[39m\n\u001b[32m      4\u001b[39m \u001b[38;5;28mprint\u001b[39m(\u001b[33m'\u001b[39m\u001b[33mBuy\u001b[39m\u001b[33m'\u001b[39m)\n\u001b[32m----> \u001b[39m\u001b[32m5\u001b[39m \u001b[38;5;28mprint\u001b[39m(\u001b[43ma\u001b[49m\u001b[43m/\u001b[49m\u001b[43mb\u001b[49m)\n",
      "\u001b[31mZeroDivisionError\u001b[39m: division by zero"
     ]
    }
   ],
   "source": [
    "a = 5\n",
    "b = 0\n",
    "\n",
    "print('Buy')\n",
    "print(a/b)\n"
   ]
  },
  {
   "cell_type": "code",
   "execution_count": 8,
   "id": "2c119c28",
   "metadata": {},
   "outputs": [
    {
     "ename": "ZeroDivisionError",
     "evalue": "division by zero",
     "output_type": "error",
     "traceback": [
      "\u001b[31m---------------------------------------------------------------------------\u001b[39m",
      "\u001b[31mZeroDivisionError\u001b[39m                         Traceback (most recent call last)",
      "\u001b[36mCell\u001b[39m\u001b[36m \u001b[39m\u001b[32mIn[8]\u001b[39m\u001b[32m, line 4\u001b[39m\n\u001b[32m      1\u001b[39m a = \u001b[32m5\u001b[39m\n\u001b[32m      2\u001b[39m b = \u001b[32m0\u001b[39m\n\u001b[32m----> \u001b[39m\u001b[32m4\u001b[39m \u001b[38;5;28mprint\u001b[39m( \u001b[43ma\u001b[49m\u001b[43m/\u001b[49m\u001b[43mb\u001b[49m)\n\u001b[32m      6\u001b[39m \u001b[38;5;28mprint\u001b[39m(\u001b[33m'\u001b[39m\u001b[33mBuy\u001b[39m\u001b[33m'\u001b[39m)\n",
      "\u001b[31mZeroDivisionError\u001b[39m: division by zero"
     ]
    }
   ],
   "source": [
    "a = 5\n",
    "b = 0\n",
    "\n",
    "print( a/b)\n",
    "\n",
    "print('Buy')\n",
    "\n"
   ]
  },
  {
   "cell_type": "code",
   "execution_count": 9,
   "id": "d1bb87cd",
   "metadata": {},
   "outputs": [
    {
     "name": "stdout",
     "output_type": "stream",
     "text": [
      "hey you cannot divide number by zero\n",
      "Buy\n"
     ]
    }
   ],
   "source": [
    "a = 5\n",
    "b = 0\n",
    "\n",
    "try:\n",
    "    print( a/b)\n",
    "\n",
    "except Exception:\n",
    "    print('hey you cannot divide number by zero')\n",
    "\n",
    "print('Buy')"
   ]
  },
  {
   "cell_type": "code",
   "execution_count": 10,
   "id": "bbc5b3f2",
   "metadata": {},
   "outputs": [
    {
     "name": "stdout",
     "output_type": "stream",
     "text": [
      "0.0\n",
      "Buy\n"
     ]
    }
   ],
   "source": [
    "a = 5\n",
    "b = 0\n",
    "\n",
    "try:\n",
    "    print( b/a)\n",
    "\n",
    "except Exception:\n",
    "    print('hey you cannot divide number by zero')\n",
    "\n",
    "print('Buy')"
   ]
  },
  {
   "cell_type": "code",
   "execution_count": 11,
   "id": "86c849f8",
   "metadata": {},
   "outputs": [
    {
     "name": "stdout",
     "output_type": "stream",
     "text": [
      "hey you cannot divide number by zero: division by zero\n",
      "Buy\n"
     ]
    }
   ],
   "source": [
    "a = 5\n",
    "b = 0\n",
    "\n",
    "try:\n",
    "    print( a/b)\n",
    "\n",
    "except Exception as e:\n",
    "    print('hey you cannot divide number by zero:',e)\n",
    "\n",
    "print('Buy') "
   ]
  },
  {
   "cell_type": "code",
   "execution_count": 12,
   "id": "793c4c77",
   "metadata": {},
   "outputs": [
    {
     "name": "stdout",
     "output_type": "stream",
     "text": [
      "0.0\n",
      "Buy\n"
     ]
    }
   ],
   "source": [
    "a = 5\n",
    "b = 0\n",
    "\n",
    "try:\n",
    "    print( b/a)\n",
    "\n",
    "except Exception:\n",
    "    print('hey you cannot divide number by zero')\n",
    "\n",
    "print('Buy')"
   ]
  },
  {
   "cell_type": "code",
   "execution_count": 13,
   "id": "ddb4d566",
   "metadata": {},
   "outputs": [
    {
     "name": "stdout",
     "output_type": "stream",
     "text": [
      "resurce open\n",
      "1.0\n",
      "resurce close\n",
      "Buy\n"
     ]
    }
   ],
   "source": [
    "a = 5\n",
    "b = 5\n",
    "\n",
    "try:\n",
    "    print('resurce open')\n",
    "    print( a/b)\n",
    "    print('resurce close')  \n",
    "\n",
    "except Exception as e:\n",
    "    print('hey you cannot divide number by zero:',e)\n",
    "\n",
    "\n",
    "\n",
    "\n",
    "print('Buy')"
   ]
  },
  {
   "cell_type": "code",
   "execution_count": 14,
   "id": "f62bd7f8",
   "metadata": {},
   "outputs": [
    {
     "name": "stdout",
     "output_type": "stream",
     "text": [
      "resurce open\n",
      "hey you cannot divide number by zero: division by zero\n",
      "Buy\n"
     ]
    }
   ],
   "source": [
    "a = 5\n",
    "b = 0\n",
    "\n",
    "try:\n",
    "    print('resurce open')\n",
    "    print( a/b)\n",
    "    print('resurce close')  \n",
    "\n",
    "except Exception as e:\n",
    "    print('hey you cannot divide number by zero:',e)\n",
    "\n",
    "\n",
    "\n",
    "\n",
    "print('Buy')"
   ]
  },
  {
   "cell_type": "code",
   "execution_count": 15,
   "id": "00032261",
   "metadata": {},
   "outputs": [
    {
     "name": "stdout",
     "output_type": "stream",
     "text": [
      "resurce open\n",
      "1.0\n",
      "Buy\n"
     ]
    }
   ],
   "source": [
    "a = 5\n",
    "b = 5\n",
    "\n",
    "try:\n",
    "    print('resurce open')\n",
    "    print( a/b)\n",
    "     \n",
    "\n",
    "except Exception as e:\n",
    "    print('hey you cannot divide number by zero:',e)\n",
    "    print('resurce close')  \n",
    "\n",
    "\n",
    "\n",
    "\n",
    "print('Buy')"
   ]
  },
  {
   "cell_type": "code",
   "execution_count": 16,
   "id": "bfc614cf",
   "metadata": {},
   "outputs": [
    {
     "name": "stdout",
     "output_type": "stream",
     "text": [
      "resurce open\n",
      "hey you cannot divide number by zero: division by zero\n",
      "resurce close\n",
      "Buy\n"
     ]
    }
   ],
   "source": [
    "a = 5\n",
    "b = 0\n",
    "\n",
    "try:\n",
    "    print('resurce open')\n",
    "    print( a/b)\n",
    "     \n",
    "\n",
    "except Exception as e:\n",
    "    print('hey you cannot divide number by zero:',e)\n",
    "    print('resurce close')  \n",
    "\n",
    "\n",
    "\n",
    "\n",
    "print('Buy')"
   ]
  },
  {
   "cell_type": "code",
   "execution_count": 17,
   "id": "5065a362",
   "metadata": {},
   "outputs": [
    {
     "name": "stdout",
     "output_type": "stream",
     "text": [
      "resurce open\n",
      "1.0\n",
      "resurse closed \n",
      "Buy\n"
     ]
    }
   ],
   "source": [
    "a = 5\n",
    "b = 5\n",
    "\n",
    "try:\n",
    "    print('resurce open')\n",
    "    print( a/b)\n",
    "     \n",
    "\n",
    "except Exception as e:\n",
    "    print('hey you cannot divide number by zero:',e)\n",
    "    print('resurce close')  \n",
    "\n",
    "\n",
    "\n",
    "finally:\n",
    "    print('resurse closed ')\n",
    "\n",
    "\n",
    "\n",
    "\n",
    "\n",
    "\n",
    "\n",
    "print('Buy')"
   ]
  },
  {
   "cell_type": "code",
   "execution_count": 19,
   "id": "2ca48927",
   "metadata": {},
   "outputs": [
    {
     "name": "stdout",
     "output_type": "stream",
     "text": [
      "resurce open\n",
      "hey you cannot divide number by zero: division by zero\n",
      "resurse closed \n",
      "Buy\n"
     ]
    }
   ],
   "source": [
    "a = 5\n",
    "b = 0\n",
    "\n",
    "try:\n",
    "    print('resurce open')\n",
    "    print( a/b)\n",
    "     \n",
    "\n",
    "except Exception as e:\n",
    "    print('hey you cannot divide number by zero:',e)\n",
    "    #print('resurce close')  \n",
    "\n",
    "\n",
    "\n",
    "finally:\n",
    "    print('resurse closed ')\n",
    "\n",
    "\n",
    "\n",
    "\n",
    "\n",
    "\n",
    "\n",
    "print('Buy')"
   ]
  },
  {
   "cell_type": "code",
   "execution_count": null,
   "id": "d4edcea6",
   "metadata": {},
   "outputs": [],
   "source": []
  },
  {
   "cell_type": "code",
   "execution_count": null,
   "id": "682f553f",
   "metadata": {},
   "outputs": [],
   "source": []
  },
  {
   "cell_type": "code",
   "execution_count": null,
   "id": "bcb3de0f",
   "metadata": {},
   "outputs": [],
   "source": []
  },
  {
   "cell_type": "code",
   "execution_count": null,
   "id": "374ac0cf",
   "metadata": {},
   "outputs": [],
   "source": []
  },
  {
   "cell_type": "code",
   "execution_count": null,
   "id": "206800c0",
   "metadata": {},
   "outputs": [],
   "source": []
  }
 ],
 "metadata": {
  "kernelspec": {
   "display_name": "Python 3",
   "language": "python",
   "name": "python3"
  },
  "language_info": {
   "codemirror_mode": {
    "name": "ipython",
    "version": 3
   },
   "file_extension": ".py",
   "mimetype": "text/x-python",
   "name": "python",
   "nbconvert_exporter": "python",
   "pygments_lexer": "ipython3",
   "version": "3.13.5"
  }
 },
 "nbformat": 4,
 "nbformat_minor": 5
}
