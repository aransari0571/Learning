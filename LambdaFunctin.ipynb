{
 "cells": [
  {
   "cell_type": "code",
   "execution_count": 1,
   "id": "d73695a6",
   "metadata": {},
   "outputs": [
    {
     "data": {
      "text/plain": [
       "25"
      ]
     },
     "execution_count": 1,
     "metadata": {},
     "output_type": "execute_result"
    }
   ],
   "source": [
    "def square(a):  \n",
    "    return a * a\n",
    "\n",
    "square(5)"
   ]
  },
  {
   "cell_type": "code",
   "execution_count": 2,
   "id": "56c535ac",
   "metadata": {},
   "outputs": [
    {
     "name": "stdout",
     "output_type": "stream",
     "text": [
      "25\n"
     ]
    }
   ],
   "source": [
    "def square(a):  \n",
    "    return a * a\n",
    "\n",
    "result = square(5)\n",
    "print(result)"
   ]
  },
  {
   "cell_type": "code",
   "execution_count": 3,
   "id": "5b1fae36",
   "metadata": {},
   "outputs": [
    {
     "data": {
      "text/plain": [
       "25"
      ]
     },
     "execution_count": 3,
     "metadata": {},
     "output_type": "execute_result"
    }
   ],
   "source": [
    "f = lambda a: a * a\n",
    "result = f(5)   \n",
    "result"
   ]
  },
  {
   "cell_type": "code",
   "execution_count": 5,
   "id": "17617adc",
   "metadata": {},
   "outputs": [
    {
     "name": "stdout",
     "output_type": "stream",
     "text": [
      "8\n",
      "2\n"
     ]
    }
   ],
   "source": [
    "f = lambda a, b : a + b\n",
    "f1 = lambda a,b : a - b\n",
    "\n",
    "result1 = f(5, 3)\n",
    "result2 = f1(5,3)\n",
    "\n",
    "print(result1)\n",
    "print(result2)  "
   ]
  },
  {
   "cell_type": "code",
   "execution_count": 6,
   "id": "6d5d3fa5",
   "metadata": {},
   "outputs": [
    {
     "name": "stdout",
     "output_type": "stream",
     "text": [
      "8\n",
      "2\n",
      "15\n"
     ]
    }
   ],
   "source": [
    "f = lambda a, b : a + b\n",
    "f1 = lambda a,b : a - b\n",
    "f2 = lambda a,b : a * b \n",
    "result1 = f(5, 3)\n",
    "result2 = f1(5,3)\n",
    "result3 = f2(5,3)\n",
    "\n",
    "print(result1)\n",
    "print(result2)\n",
    "print(result3)"
   ]
  },
  {
   "cell_type": "code",
   "execution_count": 8,
   "id": "668e7432",
   "metadata": {},
   "outputs": [
    {
     "data": {
      "text/plain": [
       "['False',\n",
       " 'None',\n",
       " 'True',\n",
       " 'and',\n",
       " 'as',\n",
       " 'assert',\n",
       " 'async',\n",
       " 'await',\n",
       " 'break',\n",
       " 'class',\n",
       " 'continue',\n",
       " 'def',\n",
       " 'del',\n",
       " 'elif',\n",
       " 'else',\n",
       " 'except',\n",
       " 'finally',\n",
       " 'for',\n",
       " 'from',\n",
       " 'global',\n",
       " 'if',\n",
       " 'import',\n",
       " 'in',\n",
       " 'is',\n",
       " 'lambda',\n",
       " 'nonlocal',\n",
       " 'not',\n",
       " 'or',\n",
       " 'pass',\n",
       " 'raise',\n",
       " 'return',\n",
       " 'try',\n",
       " 'while',\n",
       " 'with',\n",
       " 'yield']"
      ]
     },
     "execution_count": 8,
     "metadata": {},
     "output_type": "execute_result"
    }
   ],
   "source": [
    "import keyword\n",
    "keyword.kwlist"
   ]
  },
  {
   "cell_type": "markdown",
   "id": "47175964",
   "metadata": {},
   "source": [
    "# lambda function 3 type \n",
    "# 1 filter\n",
    "# 2 map\n",
    "# 3 reduce"
   ]
  },
  {
   "cell_type": "code",
   "execution_count": 9,
   "id": "12693bd3",
   "metadata": {},
   "outputs": [
    {
     "ename": "NameError",
     "evalue": "name 'is_even' is not defined",
     "output_type": "error",
     "traceback": [
      "\u001b[31m---------------------------------------------------------------------------\u001b[39m",
      "\u001b[31mNameError\u001b[39m                                 Traceback (most recent call last)",
      "\u001b[36mCell\u001b[39m\u001b[36m \u001b[39m\u001b[32mIn[9]\u001b[39m\u001b[32m, line 2\u001b[39m\n\u001b[32m      1\u001b[39m num = [\u001b[32m1\u001b[39m,\u001b[32m2\u001b[39m,\u001b[32m3\u001b[39m,\u001b[32m4\u001b[39m,\u001b[32m5\u001b[39m,\u001b[32m6\u001b[39m,\u001b[32m7\u001b[39m,\u001b[32m8\u001b[39m,\u001b[32m9\u001b[39m,\u001b[32m10\u001b[39m]\n\u001b[32m----> \u001b[39m\u001b[32m2\u001b[39m even = \u001b[38;5;28mlist\u001b[39m(\u001b[38;5;28mfilter\u001b[39m(\u001b[43mis_even\u001b[49m, num))\n",
      "\u001b[31mNameError\u001b[39m: name 'is_even' is not defined"
     ]
    }
   ],
   "source": [
    "num = [1,2,3,4,5,6,7,8,9,10]\n",
    "even = list(filter(is_even, num))"
   ]
  },
  {
   "cell_type": "code",
   "execution_count": 10,
   "id": "053b3dc5",
   "metadata": {},
   "outputs": [
    {
     "name": "stdout",
     "output_type": "stream",
     "text": [
      "[2, 4, 6, 8, 10]\n"
     ]
    }
   ],
   "source": [
    "def is_even(n):\n",
    "    return n % 2 == 0\n",
    "\n",
    "num = [1,2,3,4,5,6,7,8,9,10]\n",
    "even = list(filter(is_even, num))   \n",
    "print(even)\n",
    "    "
   ]
  },
  {
   "cell_type": "code",
   "execution_count": 11,
   "id": "91d83abf",
   "metadata": {},
   "outputs": [
    {
     "name": "stdout",
     "output_type": "stream",
     "text": [
      "[1, 3, 5, 7, 9]\n"
     ]
    }
   ],
   "source": [
    "def is_odd(n):\n",
    "    return n % 2 != 0\n",
    "\n",
    "num = [1,2,3,4,5,6,7,8,9,10]\n",
    "\n",
    "odd = list(filter(is_odd, num))\n",
    "print(odd)\n",
    "\n",
    "    "
   ]
  },
  {
   "cell_type": "code",
   "execution_count": 12,
   "id": "af69b56d",
   "metadata": {},
   "outputs": [
    {
     "name": "stdout",
     "output_type": "stream",
     "text": [
      "[2, 4, 6, 8, 10]\n"
     ]
    }
   ],
   "source": [
    "num = [1,2,3,4,5,6,7,8,9,10]\n",
    "even = list(filter(lambda n : n%2==0, num))\n",
    "print(even)"
   ]
  },
  {
   "cell_type": "code",
   "execution_count": 14,
   "id": "7cd20e2e",
   "metadata": {},
   "outputs": [
    {
     "name": "stdout",
     "output_type": "stream",
     "text": [
      "[1, 3, 5, 7, 9]\n"
     ]
    }
   ],
   "source": [
    "num = [1,2,3,4,5,6,7,8,9,10]\n",
    "\n",
    "odd = list(filter(lambda n : n%2!=0, num))\n",
    "print(odd)"
   ]
  },
  {
   "cell_type": "code",
   "execution_count": 13,
   "id": "ac775952",
   "metadata": {},
   "outputs": [
    {
     "name": "stdout",
     "output_type": "stream",
     "text": [
      "[2, 4, 6, 8, 10]\n",
      "[1, 3, 5, 7, 9]\n"
     ]
    }
   ],
   "source": [
    "num = [1,2,3,4,5,6,7,8,9,10]\n",
    "even = list(filter(lambda n : n%2==0, num))\n",
    "print(even)\n",
    "odd = list(filter(lambda n : n%2!=0, num))\n",
    "print(odd)"
   ]
  },
  {
   "cell_type": "code",
   "execution_count": 16,
   "id": "62028a4a",
   "metadata": {},
   "outputs": [
    {
     "name": "stdout",
     "output_type": "stream",
     "text": [
      "[2, 4, 6, 8, 10]\n",
      "[4, 6, 8, 10, 12]\n"
     ]
    }
   ],
   "source": [
    "def update(x):\n",
    "    return x + 2\n",
    "\n",
    "num = [1,2,3,4,5,6,7,8,9,10]\n",
    "\n",
    "even = list(filter(is_even, num))\n",
    "double = list(map(update, even))\n",
    "\n",
    "print(even)\n",
    "print(double)"
   ]
  },
  {
   "cell_type": "code",
   "execution_count": 18,
   "id": "5e78e3ab",
   "metadata": {},
   "outputs": [
    {
     "name": "stdout",
     "output_type": "stream",
     "text": [
      "[2, 4, 6, 8, 10]\n",
      "[4, 8, 12, 16, 20]\n"
     ]
    }
   ],
   "source": [
    "num = [1,2,3,4,5,6,7,8,9,10]    \n",
    "\n",
    "even = list(filter(is_even, num))\n",
    "double = list(map(lambda x : x * 2, even))\n",
    "\n",
    "print(even)\n",
    "print(double)"
   ]
  },
  {
   "cell_type": "code",
   "execution_count": 19,
   "id": "e7deb1d5",
   "metadata": {},
   "outputs": [
    {
     "name": "stdout",
     "output_type": "stream",
     "text": [
      "[2, 4, 6, 8, 10]\n",
      "[4, 8, 12, 16, 20]\n",
      "[5, 7, 9, 11, 13]\n",
      "[1, 3, 5, 7, 9]\n"
     ]
    }
   ],
   "source": [
    "num = [1,2,3,4,5,6,7,8,9,10]\n",
    "\n",
    "even = list(filter(is_even, num))\n",
    "\n",
    "double = list(map(lambda x : x * 2, even))\n",
    "double1 = list(map(lambda x : x + 3, even))\n",
    "double2 = list(map(lambda x : x - 1, even))\n",
    "\n",
    "print(even)\n",
    "print(double)   \n",
    "print(double1)\n",
    "print(double2)  "
   ]
  },
  {
   "cell_type": "code",
   "execution_count": 20,
   "id": "e7ffc29b",
   "metadata": {},
   "outputs": [
    {
     "name": "stdout",
     "output_type": "stream",
     "text": [
      "[4, 8, 12, 16, 20]\n",
      "[1, 3, 5, 7, 9]\n"
     ]
    }
   ],
   "source": [
    "num = [1,2,3,4,5,6,7,8,9,10]\n",
    "\n",
    "even = list(filter(is_even, num))\n",
    "\n",
    "double = list(map(lambda x : x * 2, even))\n",
    "\n",
    "double2 = list(map(lambda x : x - 1, even))\n",
    "\n",
    "\n",
    "print(double)   \n",
    "print(double2)  "
   ]
  },
  {
   "cell_type": "code",
   "execution_count": 21,
   "id": "973ccca9",
   "metadata": {},
   "outputs": [
    {
     "name": "stdout",
     "output_type": "stream",
     "text": [
      "[4, 8, 12, 16, 20]\n",
      "[5, 7, 9, 11, 13]\n",
      "[1, 3, 5, 7, 9]\n"
     ]
    }
   ],
   "source": [
    "num = [1,2,3,4,5,6,7,8,9,10]\n",
    "\n",
    "even = list(filter(is_even, num))\n",
    "\n",
    "double = list(map(lambda x : x * 2, even))\n",
    "double1 = list(map(lambda x : x + 3, even))\n",
    "double2 = list(map(lambda x : x - 1, even))\n",
    "\n",
    "\n",
    "print(double)   \n",
    "print(double1)\n",
    "print(double2)  "
   ]
  },
  {
   "cell_type": "code",
   "execution_count": 22,
   "id": "47fdff70",
   "metadata": {},
   "outputs": [
    {
     "name": "stdout",
     "output_type": "stream",
     "text": [
      "12\n"
     ]
    }
   ],
   "source": [
    "from functools import reduce\n",
    "\n",
    "def add_all(a,b):\n",
    "    return a + b\n",
    "\n",
    "num = [1,2,3,4,5]\n",
    "\n",
    "even = list(filter(is_even, num))\n",
    "double = list(map(lambda x : x * 2, even))\n",
    "\n",
    "sum = reduce(add_all, double)\n",
    "sum\n",
    "print(sum)"
   ]
  },
  {
   "cell_type": "code",
   "execution_count": 23,
   "id": "97aebe3b",
   "metadata": {},
   "outputs": [
    {
     "name": "stdout",
     "output_type": "stream",
     "text": [
      "[2, 4]\n",
      "[4, 8]\n",
      "12\n"
     ]
    }
   ],
   "source": [
    "from functools import reduce\n",
    "\n",
    "\n",
    "\n",
    "num = [1,2,3,4,5]\n",
    "\n",
    "even = list(filter(is_even, num))\n",
    "double = list(map(lambda x : x * 2, even))\n",
    "sum = (reduce(lambda a, b: a + b, double))\n",
    "\n",
    "print(even)\n",
    "print(double)\n",
    "print(sum)"
   ]
  },
  {
   "cell_type": "markdown",
   "id": "df6010a4",
   "metadata": {},
   "source": [
    "# Python Decoretors"
   ]
  },
  {
   "cell_type": "code",
   "execution_count": 29,
   "id": "2398b62f",
   "metadata": {},
   "outputs": [
    {
     "name": "stdout",
     "output_type": "stream",
     "text": [
      "2.0\n"
     ]
    }
   ],
   "source": [
    "def div(a,b):\n",
    "    print(a / b)\n",
    "div(4,2)"
   ]
  },
  {
   "cell_type": "code",
   "execution_count": 30,
   "id": "541c37e3",
   "metadata": {},
   "outputs": [
    {
     "name": "stdout",
     "output_type": "stream",
     "text": [
      "0.5\n"
     ]
    }
   ],
   "source": [
    "def div(a,b):\n",
    "    print(a / b)\n",
    "\n",
    "div(2,4)"
   ]
  },
  {
   "cell_type": "code",
   "execution_count": 31,
   "id": "ce52f104",
   "metadata": {},
   "outputs": [
    {
     "name": "stdout",
     "output_type": "stream",
     "text": [
      "2.0\n"
     ]
    }
   ],
   "source": [
    "def div(a,b):\n",
    "    \n",
    "    if a<b:\n",
    "        a,b = b,a   \n",
    "    print(a / b)\n",
    "\n",
    "div(2,4)"
   ]
  }
 ],
 "metadata": {
  "kernelspec": {
   "display_name": "Python 3",
   "language": "python",
   "name": "python3"
  },
  "language_info": {
   "codemirror_mode": {
    "name": "ipython",
    "version": 3
   },
   "file_extension": ".py",
   "mimetype": "text/x-python",
   "name": "python",
   "nbconvert_exporter": "python",
   "pygments_lexer": "ipython3",
   "version": "3.13.5"
  }
 },
 "nbformat": 4,
 "nbformat_minor": 5
}
