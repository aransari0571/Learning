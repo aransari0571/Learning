{
 "cells": [
  {
   "cell_type": "code",
   "execution_count": 1,
   "id": "1cb0cf93",
   "metadata": {},
   "outputs": [
    {
     "name": "stdout",
     "output_type": "stream",
     "text": [
      "Data Science\n",
      "Data Science\n",
      "Data Science\n",
      "Data Science\n",
      "Data Science\n",
      "Data Science\n",
      "Data Science\n",
      "Data Science\n",
      "Data Science\n",
      "Data Science\n"
     ]
    }
   ],
   "source": [
    "i = 1\n",
    "while i <= 10:  # condition\n",
    "    print(\"Data Science\")\n",
    "    i = i +  1  # increment"
   ]
  },
  {
   "cell_type": "code",
   "execution_count": 2,
   "id": "98833b09",
   "metadata": {},
   "outputs": [
    {
     "name": "stdout",
     "output_type": "stream",
     "text": [
      " data science\n",
      " data science\n",
      " data science\n",
      " data science\n",
      " data science\n",
      " data science\n",
      " data science\n",
      " data science\n",
      " data science\n",
      " data science\n"
     ]
    }
   ],
   "source": [
    "\n",
    "i = 10\n",
    "while i >= 1:  # condition\n",
    "    print(\" data science\")\n",
    "    i = i - 1  # decrement"
   ]
  },
  {
   "cell_type": "code",
   "execution_count": 3,
   "id": "2ed2a1ab",
   "metadata": {},
   "outputs": [
    {
     "name": "stdout",
     "output_type": "stream",
     "text": [
      "Data Science\n",
      "Technology\n",
      "Technology\n",
      "Technology\n",
      "Technology\n",
      "\n",
      "Data Science\n",
      "Technology\n",
      "Technology\n",
      "Technology\n",
      "Technology\n",
      "\n",
      "Data Science\n",
      "Technology\n",
      "Technology\n",
      "Technology\n",
      "Technology\n",
      "\n",
      "Data Science\n",
      "Technology\n",
      "Technology\n",
      "Technology\n",
      "Technology\n",
      "\n",
      "Data Science\n",
      "Technology\n",
      "Technology\n",
      "Technology\n",
      "Technology\n",
      "\n"
     ]
    }
   ],
   "source": [
    "i = 1 \n",
    "\n",
    "while i <= 5:  # when we mention end then new line will not be created\n",
    "    print(\"Data Science\")\n",
    "\n",
    "\n",
    "    j = 1\n",
    "    while j <= 4:  \n",
    "        print(\"Technology\")\n",
    "        j = j + 1  \n",
    "\n",
    "    i = i + 1\n",
    "    print()\n",
    "    \n",
    "\n",
    "    #the output which we got is very lengty but how t make them one line"
   ]
  },
  {
   "cell_type": "code",
   "execution_count": 4,
   "id": "d928e6cf",
   "metadata": {},
   "outputs": [
    {
     "name": "stdout",
     "output_type": "stream",
     "text": [
      "Data Science Technology Technology Technology Technology \n",
      "Data Science Technology Technology Technology Technology \n",
      "Data Science Technology Technology Technology Technology \n",
      "Data Science Technology Technology Technology Technology \n",
      "Data Science Technology Technology Technology Technology \n"
     ]
    }
   ],
   "source": [
    "i = 1 \n",
    "\n",
    "while i <= 5:  # when we mention end then new line will not be created\n",
    "    print(\"Data Science\", end=\" \")\n",
    "\n",
    "    j = 1\n",
    "    while j <= 4:  \n",
    "        print(\"Technology\", end=\" \")\n",
    "        j = j + 1\n",
    "\n",
    "    i = i + 1\n",
    "    print()\n",
    "\n",
    "\n",
    "    #the output which we got is very lengty but how to make them one line\n",
    "    \n",
    "\n",
    "    "
   ]
  },
  {
   "cell_type": "code",
   "execution_count": 9,
   "id": "d55155d1",
   "metadata": {},
   "outputs": [
    {
     "name": "stdout",
     "output_type": "stream",
     "text": [
      "0\t1\t2\t\n",
      "0\t2\t4\t\n"
     ]
    }
   ],
   "source": [
    "i = 1\n",
    "while i <= 2 :\n",
    "    j = 0 \n",
    "    while j <= 2 :\n",
    "        print(i*j , end='\\t')\n",
    "        j += 1\n",
    "    print()\n",
    "    i += 1"
   ]
  },
  {
   "cell_type": "code",
   "execution_count": 13,
   "id": "6d5e033c",
   "metadata": {},
   "outputs": [
    {
     "name": "stdout",
     "output_type": "stream",
     "text": [
      "0\t1\t2\t3\t\n",
      "0\t2\t4\t6\t\n",
      "0\t3\t6\t9\t\n",
      "0\t4\t8\t12\t\n"
     ]
    }
   ],
   "source": [
    "i =  1 \n",
    "while i <= 4 :\n",
    "    j = 0\n",
    "    while j <= 3:\n",
    "        print(i*j, end='\\t')\n",
    "        j += 1\n",
    "    print()\n",
    "    i += 1"
   ]
  },
  {
   "cell_type": "markdown",
   "id": "4aca4c9d",
   "metadata": {},
   "source": [
    "FOR LOOP"
   ]
  },
  {
   "cell_type": "code",
   "execution_count": 14,
   "id": "a37c55ad",
   "metadata": {},
   "outputs": [
    {
     "name": "stdout",
     "output_type": "stream",
     "text": [
      "A\n",
      "R\n",
      " \n",
      "A\n",
      "N\n",
      "S\n",
      "A\n",
      "R\n",
      "I\n"
     ]
    }
   ],
   "source": [
    "name = 'AR ANSARI'\n",
    "\n",
    "for i in name :\n",
    "    print(i)"
   ]
  },
  {
   "cell_type": "code",
   "execution_count": 15,
   "id": "40b41602",
   "metadata": {},
   "outputs": [
    {
     "name": "stdout",
     "output_type": "stream",
     "text": [
      "2\n",
      "34\n",
      "6.5\n",
      "hi\n"
     ]
    }
   ],
   "source": [
    "for i in [2, 34, 6.5,'hi']:\n",
    "    print(i)"
   ]
  },
  {
   "cell_type": "code",
   "execution_count": 19,
   "id": "d356d6cf",
   "metadata": {},
   "outputs": [
    {
     "name": "stdout",
     "output_type": "stream",
     "text": [
      "0\n",
      "1\n",
      "2\n",
      "3\n",
      "4\n"
     ]
    }
   ],
   "source": [
    "for i in range(5) :\n",
    "  print(i)"
   ]
  },
  {
   "cell_type": "code",
   "execution_count": 20,
   "id": "dd041dba",
   "metadata": {},
   "outputs": [
    {
     "name": "stdout",
     "output_type": "stream",
     "text": [
      "2\n",
      "3\n",
      "4\n",
      "5\n",
      "6\n",
      "7\n",
      "8\n",
      "9\n"
     ]
    }
   ],
   "source": [
    "for i in range(2,10) :\n",
    "  print(i)"
   ]
  },
  {
   "cell_type": "code",
   "execution_count": 21,
   "id": "06bbf18c",
   "metadata": {},
   "outputs": [
    {
     "name": "stdout",
     "output_type": "stream",
     "text": [
      "1\n",
      "4\n",
      "7\n",
      "10\n",
      "13\n"
     ]
    }
   ],
   "source": [
    "for i in range(1, 15, 3) :\n",
    "  print(i)"
   ]
  },
  {
   "cell_type": "code",
   "execution_count": 23,
   "id": "042ba64b",
   "metadata": {},
   "outputs": [
    {
     "name": "stdout",
     "output_type": "stream",
     "text": [
      "5\n",
      "10\n",
      "15\n",
      "20\n",
      "25\n",
      "30\n",
      "35\n",
      "40\n",
      "45\n",
      "50\n"
     ]
    }
   ],
   "source": [
    "for i in range(1,51) :\n",
    "  if i%5 == 0 :\n",
    "    print(i)"
   ]
  },
  {
   "cell_type": "code",
   "execution_count": 27,
   "id": "c819234d",
   "metadata": {},
   "outputs": [
    {
     "name": "stdout",
     "output_type": "stream",
     "text": [
      "3\n",
      "6\n",
      "9\n",
      "12\n",
      "15\n",
      "18\n",
      "21\n",
      "24\n",
      "27\n",
      "30\n"
     ]
    }
   ],
   "source": [
    "for i in range(1,31) :\n",
    "  if i%3 == 0 :\n",
    "    print(i)"
   ]
  },
  {
   "cell_type": "code",
   "execution_count": null,
   "id": "c5a125a5",
   "metadata": {},
   "outputs": [
    {
     "name": "stdout",
     "output_type": "stream",
     "text": [
      "3\n",
      "5\n",
      "6\n",
      "9\n",
      "10\n",
      "12\n",
      "15\n",
      "18\n",
      "20\n",
      "21\n",
      "24\n",
      "25\n",
      "27\n",
      "30\n",
      "33\n",
      "35\n",
      "36\n",
      "39\n",
      "40\n",
      "42\n",
      "45\n",
      "48\n",
      "50\n"
     ]
    }
   ],
   "source": [
    "for i in range(1,51) :\n",
    "  if i%5 == 0  or  i%3 == 0 : # 5 and 3 ka tabel is print between 1 to 51\n",
    "    print(i)"
   ]
  },
  {
   "cell_type": "code",
   "execution_count": null,
   "id": "1962d3e8",
   "metadata": {},
   "outputs": [
    {
     "name": "stdout",
     "output_type": "stream",
     "text": [
      "1\n",
      "2\n",
      "3\n",
      "4\n",
      "6\n",
      "7\n",
      "8\n",
      "9\n",
      "11\n",
      "12\n",
      "13\n",
      "14\n",
      "16\n",
      "17\n",
      "18\n",
      "19\n",
      "21\n",
      "22\n",
      "23\n",
      "24\n",
      "26\n",
      "27\n",
      "28\n",
      "29\n",
      "31\n",
      "32\n",
      "33\n",
      "34\n",
      "36\n",
      "37\n",
      "38\n",
      "39\n",
      "41\n",
      "42\n",
      "43\n",
      "44\n",
      "46\n",
      "47\n",
      "48\n",
      "49\n"
     ]
    }
   ],
   "source": [
    "for i in range(1,51) : # 5 ka table is not print between 1 to 50\n",
    "  if i%5 != 0 :\n",
    "    print(i)"
   ]
  },
  {
   "cell_type": "code",
   "execution_count": null,
   "id": "6a8ee43f",
   "metadata": {},
   "outputs": [
    {
     "name": "stdout",
     "output_type": "stream",
     "text": [
      "choclet\n",
      "choclet\n",
      "choclet\n",
      "choclet\n",
      "choclet\n",
      "choclet\n",
      "choclet\n",
      "choclet\n",
      "choclet\n",
      "choclet\n"
     ]
    }
   ],
   "source": [
    "# write the code user ask chockle from vendor machin write the basic code\n",
    "\n",
    "x = int(input('How many choclet you want ?'))  #user defin \n",
    "\n",
    "i = 1 \n",
    "while i <= x:\n",
    "    print('choclet')\n",
    "    i += 1"
   ]
  },
  {
   "cell_type": "markdown",
   "id": "34c78bf7",
   "metadata": {},
   "source": [
    "3 KEYWORDS \n",
    "    i CONTINUE\n",
    "    ii PASS\n",
    "    iii  BREAK"
   ]
  },
  {
   "cell_type": "code",
   "execution_count": 32,
   "id": "5bd4d1a5",
   "metadata": {},
   "outputs": [
    {
     "name": "stdout",
     "output_type": "stream",
     "text": [
      "choclet\n",
      "choclet\n",
      "choclet\n",
      "choclet\n",
      "choclet\n"
     ]
    }
   ],
   "source": [
    "ava = 5  # the machin has only 5 choclet\n",
    "\n",
    "x = int(input('How many choclet you want ?'))  #user defin \n",
    "\n",
    "i = 1 \n",
    "while i <= x:\n",
    "    if i > ava:\n",
    "        break\n",
    "    print('choclet')\n",
    "    i += 1\n"
   ]
  },
  {
   "cell_type": "code",
   "execution_count": 41,
   "id": "570bcc6e",
   "metadata": {},
   "outputs": [
    {
     "name": "stdout",
     "output_type": "stream",
     "text": [
      "Hello 1\n",
      "Hello 2\n",
      "Hello 4\n",
      "Hello 5\n",
      "Hello 6\n",
      "Hello 7\n",
      "Hello 8\n",
      "Hello 9\n",
      "Hello 10\n"
     ]
    }
   ],
   "source": [
    "for i in range(1,11) :\n",
    "    if i == 3 :\n",
    "         continue\n",
    "    print(\"Hello\",i)"
   ]
  },
  {
   "cell_type": "code",
   "execution_count": 40,
   "id": "01690843",
   "metadata": {},
   "outputs": [
    {
     "name": "stdout",
     "output_type": "stream",
     "text": [
      "Hello 1\n",
      "Hello 2\n",
      "Hello 3\n",
      "Hello 4\n",
      "Hello 5\n"
     ]
    }
   ],
   "source": [
    "for i in range(1,11) :\n",
    "    if i == 6 :\n",
    "         break\n",
    "    print(\"Hello\", i)"
   ]
  },
  {
   "cell_type": "code",
   "execution_count": 38,
   "id": "b2a9978c",
   "metadata": {},
   "outputs": [
    {
     "ename": "_IncompleteInputError",
     "evalue": "incomplete input (3924340548.py, line 1)",
     "output_type": "error",
     "traceback": [
      "  \u001b[36mCell\u001b[39m\u001b[36m \u001b[39m\u001b[32mIn[38]\u001b[39m\u001b[32m, line 1\u001b[39m\n\u001b[31m    \u001b[39m\u001b[31mfor i in range(1,11) :\u001b[39m\n                          ^\n\u001b[31m_IncompleteInputError\u001b[39m\u001b[31m:\u001b[39m incomplete input\n"
     ]
    }
   ],
   "source": [
    "for i in range(1,11) :\n"
   ]
  },
  {
   "cell_type": "code",
   "execution_count": 39,
   "id": "79a48d52",
   "metadata": {},
   "outputs": [],
   "source": [
    "for i in range(1,11) :\n",
    "    pass"
   ]
  },
  {
   "cell_type": "code",
   "execution_count": 45,
   "id": "88dc91bc",
   "metadata": {},
   "outputs": [
    {
     "name": "stdout",
     "output_type": "stream",
     "text": [
      "1\n",
      "2\n",
      "4\n",
      "7\n",
      "8\n",
      "11\n",
      "13\n",
      "14\n",
      "16\n",
      "17\n",
      "19\n",
      "22\n",
      "23\n",
      "26\n",
      "28\n",
      "29\n",
      "31\n",
      "32\n",
      "34\n",
      "37\n",
      "38\n",
      "41\n",
      "43\n",
      "44\n",
      "46\n",
      "47\n",
      "49\n",
      "end\n"
     ]
    }
   ],
   "source": [
    "for i in range(1,51) :\n",
    "    if i%5 == 0 or i%3 == 0:    # 5 and 3 ka tabel is print between 1 to 51\n",
    "\n",
    "        continue\n",
    "    print(i)\n",
    "print('end')"
   ]
  },
  {
   "cell_type": "code",
   "execution_count": null,
   "id": "a04bebb0",
   "metadata": {},
   "outputs": [],
   "source": []
  },
  {
   "cell_type": "code",
   "execution_count": 46,
   "id": "581a30a6",
   "metadata": {},
   "outputs": [
    {
     "name": "stdout",
     "output_type": "stream",
     "text": [
      "# # # # #\n",
      "# # # # #\n",
      "# # # # #\n",
      "# # # # #\n",
      "# # # # #\n"
     ]
    }
   ],
   "source": [
    "print('# # # # #')\n",
    "print('# # # # #')\n",
    "print('# # # # #')\n",
    "print('# # # # #')\n",
    "print('# # # # #')"
   ]
  },
  {
   "cell_type": "code",
   "execution_count": 48,
   "id": "d2d87499",
   "metadata": {},
   "outputs": [
    {
     "name": "stdout",
     "output_type": "stream",
     "text": [
      "# # # # #\n",
      "# # # # #\n",
      "# # # # #\n",
      "# # # # #\n"
     ]
    }
   ],
   "source": [
    "for i in range(1,5) :\n",
    "    i = i+1\n",
    "    print('# # # # #')"
   ]
  },
  {
   "cell_type": "code",
   "execution_count": 50,
   "id": "a6a428e7",
   "metadata": {},
   "outputs": [
    {
     "name": "stdout",
     "output_type": "stream",
     "text": [
      "# # # # # # # # # # #\n",
      "# # # # # # # # # # #\n",
      "# # # # # # # # # # #\n",
      "# # # # # # # # # # #\n",
      "# # # # # # # # # # #\n",
      "# # # # # # # # # # #\n",
      "# # # # # # # # # # #\n",
      "# # # # # # # # # # #\n",
      "# # # # # # # # # # #\n"
     ]
    }
   ],
   "source": [
    "for i in range(1,10) :\n",
    "    i = i+1\n",
    "    print('# # # # # # # # # # #')"
   ]
  },
  {
   "cell_type": "code",
   "execution_count": 52,
   "id": "40ab1755",
   "metadata": {},
   "outputs": [
    {
     "name": "stdout",
     "output_type": "stream",
     "text": [
      "# # # # #\n",
      "# # # # #\n",
      "# # # # #\n",
      "# # # # #\n"
     ]
    }
   ],
   "source": [
    "for i in range(1,5) :\n",
    "    if i<=5:\n",
    "     print('# # # # #')"
   ]
  },
  {
   "cell_type": "code",
   "execution_count": null,
   "id": "16d9c5eb",
   "metadata": {},
   "outputs": [
    {
     "name": "stdout",
     "output_type": "stream",
     "text": [
      "#\n",
      "#\n",
      "#\n",
      "#\n",
      "#\n"
     ]
    }
   ],
   "source": [
    "for i in range(5):\n",
    "    print('#')"
   ]
  },
  {
   "cell_type": "code",
   "execution_count": 54,
   "id": "4ae71652",
   "metadata": {},
   "outputs": [
    {
     "name": "stdout",
     "output_type": "stream",
     "text": [
      "# # # # #\n",
      "# # # # #\n",
      "# # # # #\n",
      "# # # # #\n",
      "# # # # #\n"
     ]
    }
   ],
   "source": [
    "for i in range(5):\n",
    "    print('# # # # #')"
   ]
  },
  {
   "cell_type": "code",
   "execution_count": null,
   "id": "05c644bd",
   "metadata": {},
   "outputs": [
    {
     "name": "stdout",
     "output_type": "stream",
     "text": [
      "# # # # # # # # # # "
     ]
    }
   ],
   "source": [
    "for i in range(5):\n",
    "    print('#', end=\" \")\n",
    "\n",
    "\n",
    "    \n",
    "for j in range(5):\n",
    "    print('#', end=\" \")"
   ]
  },
  {
   "cell_type": "code",
   "execution_count": 57,
   "id": "d1b12ff2",
   "metadata": {},
   "outputs": [
    {
     "name": "stdout",
     "output_type": "stream",
     "text": [
      "# # # # # \n",
      "# # # # # "
     ]
    }
   ],
   "source": [
    "for i in range(5):\n",
    "    print('#', end=\" \")\n",
    "\n",
    "print()\n",
    "    \n",
    "for j in range(5):\n",
    "    print('#', end=\" \")"
   ]
  },
  {
   "cell_type": "code",
   "execution_count": 59,
   "id": "e0cc7686",
   "metadata": {},
   "outputs": [
    {
     "name": "stdout",
     "output_type": "stream",
     "text": [
      "# \n",
      "# # \n",
      "# # # \n",
      "# # # # \n",
      "# # # # # \n"
     ]
    }
   ],
   "source": [
    "for i in range(5):\n",
    "    for j in range(i+1):\n",
    "         print('#', end=\" \")\n",
    "\n",
    "    print()\n",
    "\n"
   ]
  },
  {
   "cell_type": "code",
   "execution_count": 71,
   "id": "54a6e78b",
   "metadata": {},
   "outputs": [
    {
     "name": "stdout",
     "output_type": "stream",
     "text": [
      "# \t\n",
      "# \t# \t\n",
      "# \t# \t# \t\n",
      "# \t# \t# \t# \t\n"
     ]
    }
   ],
   "source": [
    "for i in range(1,5):\n",
    "        print(\"# \\t\" * i)"
   ]
  },
  {
   "cell_type": "code",
   "execution_count": 72,
   "id": "28620ec2",
   "metadata": {},
   "outputs": [
    {
     "name": "stdout",
     "output_type": "stream",
     "text": [
      "# \n",
      "# # \n",
      "# # # \n",
      "# # # # \n"
     ]
    }
   ],
   "source": [
    "for i in range(1,5):\n",
    "    for j in range(4):\n",
    "        if i>j :\n",
    "            print(\"#\", end=\" \")\n",
    "    print()\n"
   ]
  },
  {
   "cell_type": "code",
   "execution_count": 75,
   "id": "ed49e4ea",
   "metadata": {},
   "outputs": [
    {
     "name": "stdout",
     "output_type": "stream",
     "text": [
      "# # # # \n",
      "# # # \n",
      "# # \n",
      "# \n"
     ]
    }
   ],
   "source": [
    "for i in range(4):\n",
    "    for j in range(4-i):\n",
    "        \n",
    "            print(\"#\", end=\" \")\n",
    "    print()\n"
   ]
  },
  {
   "cell_type": "code",
   "execution_count": 76,
   "id": "2d2909a5",
   "metadata": {},
   "outputs": [
    {
     "name": "stdout",
     "output_type": "stream",
     "text": [
      "####\n",
      "###\n",
      "##\n",
      "#\n"
     ]
    }
   ],
   "source": [
    "for i in range(1,5):\n",
    "    print(\"#\" *(5-i))"
   ]
  },
  {
   "cell_type": "code",
   "execution_count": 77,
   "id": "b0199861",
   "metadata": {},
   "outputs": [
    {
     "name": "stdout",
     "output_type": "stream",
     "text": [
      "30\n",
      "20\n",
      "15\n"
     ]
    }
   ],
   "source": [
    "num = [12,32,30,20,15,44,33,22]\n",
    "for num in num :\n",
    "    if num % 5 == 0:\n",
    "        print(num)"
   ]
  },
  {
   "cell_type": "code",
   "execution_count": 79,
   "id": "85e8aa62",
   "metadata": {},
   "outputs": [
    {
     "name": "stdout",
     "output_type": "stream",
     "text": [
      "30\n"
     ]
    }
   ],
   "source": [
    "num = [12,32,30,20,15,44,33,22]\n",
    "for num in num :\n",
    "    if num % 5 == 0:\n",
    "        print(num)\n",
    "        break"
   ]
  },
  {
   "cell_type": "code",
   "execution_count": 82,
   "id": "75b173f2",
   "metadata": {},
   "outputs": [
    {
     "name": "stdout",
     "output_type": "stream",
     "text": [
      "30\n",
      "20\n",
      "15\n"
     ]
    }
   ],
   "source": [
    "num = [12,32,30,20,15,44,33,22]\n",
    "for num in num :\n",
    "    if num % 5 == 0:\n",
    "        print(num)\n",
    "        continue"
   ]
  },
  {
   "cell_type": "code",
   "execution_count": 84,
   "id": "dc368e5d",
   "metadata": {},
   "outputs": [
    {
     "name": "stdout",
     "output_type": "stream",
     "text": [
      "Number is not found\n",
      "Number is not found\n",
      "Number is not found\n",
      "Number is not found\n",
      "Number is not found\n",
      "Number is not found\n",
      "Number is not found\n",
      "Number is not found\n"
     ]
    }
   ],
   "source": [
    "num = [12,33,44,66,34,24,32,37]\n",
    "for num in num :\n",
    "    if num % 5 == 0:\n",
    "        print(num) # jitna nhi num variabe me value h ge utna hi output aye ge\n",
    "        break\n",
    "    else:\n",
    "        print(\"Number is not found\")"
   ]
  }
 ],
 "metadata": {
  "kernelspec": {
   "display_name": "Python 3",
   "language": "python",
   "name": "python3"
  },
  "language_info": {
   "codemirror_mode": {
    "name": "ipython",
    "version": 3
   },
   "file_extension": ".py",
   "mimetype": "text/x-python",
   "name": "python",
   "nbconvert_exporter": "python",
   "pygments_lexer": "ipython3",
   "version": "3.13.5"
  }
 },
 "nbformat": 4,
 "nbformat_minor": 5
}
