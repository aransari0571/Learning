{
 "cells": [
  {
   "cell_type": "code",
   "execution_count": 1,
   "id": "96860fbe",
   "metadata": {},
   "outputs": [
    {
     "name": "stdout",
     "output_type": "stream",
     "text": [
      "Collecting numpy\n",
      "  Downloading numpy-2.3.2-cp313-cp313-win_amd64.whl.metadata (60 kB)\n",
      "Downloading numpy-2.3.2-cp313-cp313-win_amd64.whl (12.8 MB)\n",
      "   ---------------------------------------- 0.0/12.8 MB ? eta -:--:--\n",
      "   ---------------------------------------- 0.0/12.8 MB ? eta -:--:--\n",
      "    --------------------------------------- 0.3/12.8 MB ? eta -:--:--\n",
      "   -- ------------------------------------- 0.8/12.8 MB 1.6 MB/s eta 0:00:08\n",
      "   -- ------------------------------------- 0.8/12.8 MB 1.6 MB/s eta 0:00:08\n",
      "   ---- ----------------------------------- 1.3/12.8 MB 1.3 MB/s eta 0:00:09\n",
      "   ---- ----------------------------------- 1.6/12.8 MB 1.4 MB/s eta 0:00:09\n",
      "   ------ --------------------------------- 2.1/12.8 MB 1.6 MB/s eta 0:00:07\n",
      "   ------- -------------------------------- 2.4/12.8 MB 1.6 MB/s eta 0:00:07\n",
      "   --------- ------------------------------ 2.9/12.8 MB 1.7 MB/s eta 0:00:06\n",
      "   --------- ------------------------------ 3.1/12.8 MB 1.7 MB/s eta 0:00:06\n",
      "   ----------- ---------------------------- 3.7/12.8 MB 1.7 MB/s eta 0:00:06\n",
      "   ------------ --------------------------- 3.9/12.8 MB 1.7 MB/s eta 0:00:06\n",
      "   ------------- -------------------------- 4.2/12.8 MB 1.6 MB/s eta 0:00:06\n",
      "   ------------- -------------------------- 4.2/12.8 MB 1.6 MB/s eta 0:00:06\n",
      "   ------------- -------------------------- 4.5/12.8 MB 1.5 MB/s eta 0:00:06\n",
      "   --------------- ------------------------ 5.0/12.8 MB 1.5 MB/s eta 0:00:06\n",
      "   ---------------- ----------------------- 5.2/12.8 MB 1.5 MB/s eta 0:00:05\n",
      "   ------------------ --------------------- 5.8/12.8 MB 1.6 MB/s eta 0:00:05\n",
      "   ------------------- -------------------- 6.3/12.8 MB 1.6 MB/s eta 0:00:05\n",
      "   --------------------- ------------------ 6.8/12.8 MB 1.7 MB/s eta 0:00:04\n",
      "   ---------------------- ----------------- 7.3/12.8 MB 1.7 MB/s eta 0:00:04\n",
      "   ----------------------- ---------------- 7.6/12.8 MB 1.7 MB/s eta 0:00:04\n",
      "   ------------------------ --------------- 7.9/12.8 MB 1.7 MB/s eta 0:00:03\n",
      "   -------------------------- ------------- 8.4/12.8 MB 1.7 MB/s eta 0:00:03\n",
      "   --------------------------- ------------ 8.7/12.8 MB 1.7 MB/s eta 0:00:03\n",
      "   --------------------------- ------------ 8.7/12.8 MB 1.7 MB/s eta 0:00:03\n",
      "   --------------------------- ------------ 8.9/12.8 MB 1.6 MB/s eta 0:00:03\n",
      "   ---------------------------- ----------- 9.2/12.8 MB 1.6 MB/s eta 0:00:03\n",
      "   ----------------------------- ---------- 9.4/12.8 MB 1.6 MB/s eta 0:00:03\n",
      "   ------------------------------ --------- 9.7/12.8 MB 1.6 MB/s eta 0:00:02\n",
      "   ------------------------------- -------- 10.0/12.8 MB 1.6 MB/s eta 0:00:02\n",
      "   ------------------------------- -------- 10.2/12.8 MB 1.5 MB/s eta 0:00:02\n",
      "   -------------------------------- ------- 10.5/12.8 MB 1.5 MB/s eta 0:00:02\n",
      "   --------------------------------- ------ 10.7/12.8 MB 1.5 MB/s eta 0:00:02\n",
      "   ---------------------------------- ----- 11.0/12.8 MB 1.5 MB/s eta 0:00:02\n",
      "   ----------------------------------- ---- 11.3/12.8 MB 1.5 MB/s eta 0:00:02\n",
      "   ----------------------------------- ---- 11.3/12.8 MB 1.5 MB/s eta 0:00:02\n",
      "   ------------------------------------ --- 11.5/12.8 MB 1.5 MB/s eta 0:00:01\n",
      "   ------------------------------------ --- 11.8/12.8 MB 1.5 MB/s eta 0:00:01\n",
      "   ------------------------------------- -- 12.1/12.8 MB 1.4 MB/s eta 0:00:01\n",
      "   ---------------------------------------  12.6/12.8 MB 1.5 MB/s eta 0:00:01\n",
      "   ---------------------------------------  12.6/12.8 MB 1.5 MB/s eta 0:00:01\n",
      "   ---------------------------------------- 12.8/12.8 MB 1.4 MB/s eta 0:00:00\n",
      "Installing collected packages: numpy\n",
      "Successfully installed numpy-2.3.2\n",
      "Note: you may need to restart the kernel to use updated packages.\n"
     ]
    },
    {
     "name": "stderr",
     "output_type": "stream",
     "text": [
      "\n",
      "[notice] A new release of pip is available: 25.1.1 -> 25.2\n",
      "[notice] To update, run: python.exe -m pip install --upgrade pip\n"
     ]
    }
   ],
   "source": [
    "pip install numpy"
   ]
  },
  {
   "cell_type": "code",
   "execution_count": 43,
   "id": "cd6aa77e",
   "metadata": {},
   "outputs": [],
   "source": [
    "import numpy as np  \n"
   ]
  },
  {
   "cell_type": "code",
   "execution_count": 44,
   "id": "d8437035",
   "metadata": {},
   "outputs": [
    {
     "data": {
      "text/plain": [
       "'2.1.3'"
      ]
     },
     "execution_count": 44,
     "metadata": {},
     "output_type": "execute_result"
    }
   ],
   "source": [
    "np.__version__  #2 underscores"
   ]
  },
  {
   "cell_type": "code",
   "execution_count": 5,
   "id": "02728c29",
   "metadata": {},
   "outputs": [
    {
     "data": {
      "text/plain": [
       "[0, 1, 2, 3, 4, 5]"
      ]
     },
     "execution_count": 5,
     "metadata": {},
     "output_type": "execute_result"
    }
   ],
   "source": [
    "my_list = [0,1, 2, 3, 4, 5]   \n",
    "my_list"
   ]
  },
  {
   "cell_type": "code",
   "execution_count": 6,
   "id": "90952578",
   "metadata": {},
   "outputs": [
    {
     "data": {
      "text/plain": [
       "list"
      ]
     },
     "execution_count": 6,
     "metadata": {},
     "output_type": "execute_result"
    }
   ],
   "source": [
    "type(my_list)   "
   ]
  },
  {
   "cell_type": "code",
   "execution_count": 7,
   "id": "a7f8105e",
   "metadata": {},
   "outputs": [
    {
     "data": {
      "text/plain": [
       "array([0, 1, 2, 3, 4, 5])"
      ]
     },
     "execution_count": 7,
     "metadata": {},
     "output_type": "execute_result"
    }
   ],
   "source": [
    "arr = np.array(my_list) \n",
    "arr"
   ]
  },
  {
   "cell_type": "code",
   "execution_count": null,
   "id": "23cba6e8",
   "metadata": {},
   "outputs": [
    {
     "name": "stdout",
     "output_type": "stream",
     "text": [
      "<class 'numpy.ndarray'>\n"
     ]
    }
   ],
   "source": [
    "print(type(arr))  # <class 'numpy.ndarray'> mutipal array and 3D array"
   ]
  },
  {
   "cell_type": "code",
   "execution_count": 9,
   "id": "f7f63a75",
   "metadata": {},
   "outputs": [
    {
     "data": {
      "text/plain": [
       "array([10, 11, 12, 13, 14, 15, 16, 17, 18, 19])"
      ]
     },
     "execution_count": 9,
     "metadata": {},
     "output_type": "execute_result"
    }
   ],
   "source": [
    "np.arange( 10,20)"
   ]
  },
  {
   "cell_type": "code",
   "execution_count": 10,
   "id": "e185b47b",
   "metadata": {},
   "outputs": [
    {
     "data": {
      "text/plain": [
       "array([10, 12, 14, 16, 18])"
      ]
     },
     "execution_count": 10,
     "metadata": {},
     "output_type": "execute_result"
    }
   ],
   "source": [
    "np.arange( 10,20,2)"
   ]
  },
  {
   "cell_type": "code",
   "execution_count": null,
   "id": "dc656217",
   "metadata": {},
   "outputs": [
    {
     "data": {
      "text/plain": [
       "array([], dtype=int64)"
      ]
     },
     "execution_count": 11,
     "metadata": {},
     "output_type": "execute_result"
    }
   ],
   "source": [
    "np.arange(20,10)#  also the 1st argument is greater than the 2nd, so it returns an empty array "
   ]
  },
  {
   "cell_type": "code",
   "execution_count": 12,
   "id": "d2b2afed",
   "metadata": {},
   "outputs": [
    {
     "data": {
      "text/plain": [
       "array([-20, -19, -18, -17, -16, -15, -14, -13, -12, -11, -10,  -9,  -8,\n",
       "        -7,  -6,  -5,  -4,  -3,  -2,  -1,   0,   1,   2,   3,   4,   5,\n",
       "         6,   7,   8,   9])"
      ]
     },
     "execution_count": 12,
     "metadata": {},
     "output_type": "execute_result"
    }
   ],
   "source": [
    "np.arange(-20, 10)"
   ]
  },
  {
   "cell_type": "code",
   "execution_count": null,
   "id": "880c49a4",
   "metadata": {},
   "outputs": [
    {
     "data": {
      "text/plain": [
       "array([0., 0., 0., 0., 0.])"
      ]
     },
     "execution_count": 13,
     "metadata": {},
     "output_type": "execute_result"
    }
   ],
   "source": [
    "np.zeros(5)  # 1D array of zeros\n",
    "# this is called parameter tunning"
   ]
  },
  {
   "cell_type": "code",
   "execution_count": null,
   "id": "e4e0443a",
   "metadata": {},
   "outputs": [
    {
     "data": {
      "text/plain": [
       "array([0, 0, 0, 0, 0])"
      ]
     },
     "execution_count": 15,
     "metadata": {},
     "output_type": "execute_result"
    }
   ],
   "source": [
    "np.zeros(5, dtype=int)  # 1D array of zeros\n",
    "# this is called hyperparameter tuning (changing the dtype)"
   ]
  },
  {
   "cell_type": "code",
   "execution_count": null,
   "id": "0e353407",
   "metadata": {},
   "outputs": [
    {
     "data": {
      "text/plain": [
       "array([[0., 0.],\n",
       "       [0., 0.]])"
      ]
     },
     "execution_count": 16,
     "metadata": {},
     "output_type": "execute_result"
    }
   ],
   "source": [
    "np.zeros([2,2])  # 2D array of zeros"
   ]
  },
  {
   "cell_type": "code",
   "execution_count": 17,
   "id": "5b088fb5",
   "metadata": {},
   "outputs": [
    {
     "data": {
      "text/plain": [
       "array([[0, 0],\n",
       "       [0, 0]])"
      ]
     },
     "execution_count": 17,
     "metadata": {},
     "output_type": "execute_result"
    }
   ],
   "source": [
    "np.zeros([2,2], dtype=int)  # 2D array of zeros with integer type"
   ]
  },
  {
   "cell_type": "code",
   "execution_count": null,
   "id": "7ce29a36",
   "metadata": {},
   "outputs": [
    {
     "data": {
      "text/plain": [
       "array([[0, 0, 0, 0],\n",
       "       [0, 0, 0, 0],\n",
       "       [0, 0, 0, 0],\n",
       "       [0, 0, 0, 0],\n",
       "       [0, 0, 0, 0]])"
      ]
     },
     "execution_count": 18,
     "metadata": {},
     "output_type": "execute_result"
    }
   ],
   "source": [
    "np.zeros([5,4],dtype=int)  # ndarray means greater than 3 array"
   ]
  },
  {
   "cell_type": "code",
   "execution_count": 19,
   "id": "8c973342",
   "metadata": {},
   "outputs": [],
   "source": [
    "#np.array([3,4])\n",
    "# 3 --- means always be row\n",
    "# 4 --- means always be column"
   ]
  },
  {
   "cell_type": "code",
   "execution_count": null,
   "id": "b8ac068a",
   "metadata": {},
   "outputs": [
    {
     "data": {
      "text/plain": [
       "array([[0, 0, 0, 0, 0, 0, 0, 0, 0, 0],\n",
       "       [0, 0, 0, 0, 0, 0, 0, 0, 0, 0],\n",
       "       [0, 0, 0, 0, 0, 0, 0, 0, 0, 0],\n",
       "       [0, 0, 0, 0, 0, 0, 0, 0, 0, 0],\n",
       "       [0, 0, 0, 0, 0, 0, 0, 0, 0, 0],\n",
       "       [0, 0, 0, 0, 0, 0, 0, 0, 0, 0],\n",
       "       [0, 0, 0, 0, 0, 0, 0, 0, 0, 0],\n",
       "       [0, 0, 0, 0, 0, 0, 0, 0, 0, 0],\n",
       "       [0, 0, 0, 0, 0, 0, 0, 0, 0, 0],\n",
       "       [0, 0, 0, 0, 0, 0, 0, 0, 0, 0]])"
      ]
     },
     "execution_count": 20,
     "metadata": {},
     "output_type": "execute_result"
    }
   ],
   "source": [
    "np.zeros((10,10), dtype=int) # ndarray means greater than 3 array"
   ]
  },
  {
   "cell_type": "code",
   "execution_count": 21,
   "id": "dddafde6",
   "metadata": {},
   "outputs": [
    {
     "data": {
      "text/plain": [
       "array([1., 1.])"
      ]
     },
     "execution_count": 21,
     "metadata": {},
     "output_type": "execute_result"
    }
   ],
   "source": [
    "np.ones(2)"
   ]
  },
  {
   "cell_type": "code",
   "execution_count": 23,
   "id": "af422351",
   "metadata": {},
   "outputs": [
    {
     "data": {
      "text/plain": [
       "array([1, 1])"
      ]
     },
     "execution_count": 23,
     "metadata": {},
     "output_type": "execute_result"
    }
   ],
   "source": [
    "np.ones((2), dtype=int)  "
   ]
  },
  {
   "cell_type": "code",
   "execution_count": 24,
   "id": "c9ec8acc",
   "metadata": {},
   "outputs": [
    {
     "data": {
      "text/plain": [
       "array([[1, 1, 1, 1, 1],\n",
       "       [1, 1, 1, 1, 1],\n",
       "       [1, 1, 1, 1, 1],\n",
       "       [1, 1, 1, 1, 1]])"
      ]
     },
     "execution_count": 24,
     "metadata": {},
     "output_type": "execute_result"
    }
   ],
   "source": [
    "np.ones((4,5), dtype=int)"
   ]
  },
  {
   "cell_type": "code",
   "execution_count": 25,
   "id": "3004a162",
   "metadata": {},
   "outputs": [
    {
     "ename": "NameError",
     "evalue": "name 'rand' is not defined",
     "output_type": "error",
     "traceback": [
      "\u001b[31m---------------------------------------------------------------------------\u001b[39m",
      "\u001b[31mNameError\u001b[39m                                 Traceback (most recent call last)",
      "\u001b[36mCell\u001b[39m\u001b[36m \u001b[39m\u001b[32mIn[25]\u001b[39m\u001b[32m, line 1\u001b[39m\n\u001b[32m----> \u001b[39m\u001b[32m1\u001b[39m \u001b[43mrand\u001b[49m(\u001b[32m3\u001b[39m,\u001b[32m2\u001b[39m)\n",
      "\u001b[31mNameError\u001b[39m: name 'rand' is not defined"
     ]
    }
   ],
   "source": [
    "rand(3,2)"
   ]
  },
  {
   "cell_type": "code",
   "execution_count": 26,
   "id": "8bf1e869",
   "metadata": {},
   "outputs": [
    {
     "ename": "NameError",
     "evalue": "name 'random' is not defined",
     "output_type": "error",
     "traceback": [
      "\u001b[31m---------------------------------------------------------------------------\u001b[39m",
      "\u001b[31mNameError\u001b[39m                                 Traceback (most recent call last)",
      "\u001b[36mCell\u001b[39m\u001b[36m \u001b[39m\u001b[32mIn[26]\u001b[39m\u001b[32m, line 1\u001b[39m\n\u001b[32m----> \u001b[39m\u001b[32m1\u001b[39m \u001b[43mrandom\u001b[49m.rand(\u001b[32m3\u001b[39m,\u001b[32m2\u001b[39m)\n",
      "\u001b[31mNameError\u001b[39m: name 'random' is not defined"
     ]
    }
   ],
   "source": [
    "random.rand(3,2)"
   ]
  },
  {
   "cell_type": "code",
   "execution_count": 30,
   "id": "15a78879",
   "metadata": {},
   "outputs": [
    {
     "data": {
      "text/plain": [
       "array([[0.28766668, 0.87908615],\n",
       "       [0.51726067, 0.19125348],\n",
       "       [0.74106814, 0.30732732]])"
      ]
     },
     "execution_count": 30,
     "metadata": {},
     "output_type": "execute_result"
    }
   ],
   "source": [
    "np.random.rand(3,2)"
   ]
  },
  {
   "cell_type": "code",
   "execution_count": 31,
   "id": "b8375c4b",
   "metadata": {},
   "outputs": [
    {
     "data": {
      "text/plain": [
       "array([0.80170452, 0.56738526, 0.46358196])"
      ]
     },
     "execution_count": 31,
     "metadata": {},
     "output_type": "execute_result"
    }
   ],
   "source": [
    "np.random.rand(3)"
   ]
  },
  {
   "cell_type": "code",
   "execution_count": 45,
   "id": "ed8bef13",
   "metadata": {},
   "outputs": [
    {
     "data": {
      "text/plain": [
       "3"
      ]
     },
     "execution_count": 45,
     "metadata": {},
     "output_type": "execute_result"
    }
   ],
   "source": [
    "np.random.randint(0,10)"
   ]
  },
  {
   "cell_type": "code",
   "execution_count": 46,
   "id": "8ab36a38",
   "metadata": {},
   "outputs": [
    {
     "data": {
      "text/plain": [
       "array([4, 2, 2], dtype=int32)"
      ]
     },
     "execution_count": 46,
     "metadata": {},
     "output_type": "execute_result"
    }
   ],
   "source": [
    "np.random.randint(0,10,3)"
   ]
  },
  {
   "cell_type": "code",
   "execution_count": 51,
   "id": "e6050043",
   "metadata": {},
   "outputs": [
    {
     "data": {
      "text/plain": [
       "array([33, 49,  9, 35,  1], dtype=int32)"
      ]
     },
     "execution_count": 51,
     "metadata": {},
     "output_type": "execute_result"
    }
   ],
   "source": [
    "np.random.randint(0,50,5)"
   ]
  },
  {
   "cell_type": "code",
   "execution_count": 42,
   "id": "7a68a210",
   "metadata": {},
   "outputs": [
    {
     "name": "stdout",
     "output_type": "stream",
     "text": [
      "[[15 38 29 34 32 10 30 33 35 20]\n",
      " [33 21 21 39 14 31 30 27 39 24]\n",
      " [12 20 27 35 22 28 10 27 16 19]\n",
      " [23 13 37 25 29 30 15 24 13 37]\n",
      " [15 15 22 18 36 29 11 38 20 29]\n",
      " [22 34 31 31 14 12 31 25 38 13]\n",
      " [11 14 39 32 30 36 29 17 31 28]\n",
      " [10 38 19 38 29 38 28 39 37 34]]\n"
     ]
    }
   ],
   "source": [
    "n = np.random.randint(10,40,(8,10))\n",
    "print(n)"
   ]
  },
  {
   "cell_type": "code",
   "execution_count": 41,
   "id": "1960a571",
   "metadata": {},
   "outputs": [
    {
     "name": "stdout",
     "output_type": "stream",
     "text": [
      "[27 24 35 36 38 17 31 39 32 18]\n"
     ]
    }
   ],
   "source": [
    "print(n[0]) #row print"
   ]
  },
  {
   "cell_type": "code",
   "execution_count": 40,
   "id": "f7cb035b",
   "metadata": {},
   "outputs": [
    {
     "name": "stdout",
     "output_type": "stream",
     "text": [
      "[10 39 28 26 15 36 28 21 30 21]\n"
     ]
    }
   ],
   "source": [
    "print(n[5]) #row print"
   ]
  },
  {
   "cell_type": "code",
   "execution_count": 39,
   "id": "f3e641a3",
   "metadata": {},
   "outputs": [
    {
     "name": "stdout",
     "output_type": "stream",
     "text": [
      "[[27 24 35 36 38 17 31 39 32 18]\n",
      " [28 17 38 34 14 13 35 36 24 16]\n",
      " [35 23 17 20 23 12 16 16 37 20]\n",
      " [12 12 27 20 37 25 16 12 26 16]\n",
      " [37 34 27 26 19 21 12 37 36 35]\n",
      " [10 39 28 26 15 36 28 21 30 21]]\n"
     ]
    }
   ],
   "source": [
    "print(n[0:6]) # 1 to 5 row print"
   ]
  },
  {
   "cell_type": "code",
   "execution_count": 38,
   "id": "5a7f747f",
   "metadata": {},
   "outputs": [
    {
     "name": "stdout",
     "output_type": "stream",
     "text": [
      "[[27 24 35 36 38 17 31 39 32 18]\n",
      " [28 17 38 34 14 13 35 36 24 16]\n",
      " [35 23 17 20 23 12 16 16 37 20]\n",
      " [12 12 27 20 37 25 16 12 26 16]\n",
      " [37 34 27 26 19 21 12 37 36 35]\n",
      " [10 39 28 26 15 36 28 21 30 21]\n",
      " [30 24 37 37 17 29 35 10 27 39]\n",
      " [11 30 38 26 35 25 21 21 39 34]]\n"
     ]
    }
   ],
   "source": [
    "print(n)"
   ]
  },
  {
   "cell_type": "code",
   "execution_count": 37,
   "id": "37d954a1",
   "metadata": {},
   "outputs": [
    {
     "name": "stdout",
     "output_type": "stream",
     "text": [
      "[[11 30 38 26 35 25 21 21 39 34]\n",
      " [30 24 37 37 17 29 35 10 27 39]\n",
      " [10 39 28 26 15 36 28 21 30 21]\n",
      " [37 34 27 26 19 21 12 37 36 35]\n",
      " [12 12 27 20 37 25 16 12 26 16]\n",
      " [35 23 17 20 23 12 16 16 37 20]\n",
      " [28 17 38 34 14 13 35 36 24 16]\n",
      " [27 24 35 36 38 17 31 39 32 18]]\n"
     ]
    }
   ],
   "source": [
    "print(n[::-1])  # all reverse row print and called backward indexing"
   ]
  },
  {
   "cell_type": "code",
   "execution_count": 36,
   "id": "9f8431e8",
   "metadata": {},
   "outputs": [
    {
     "name": "stdout",
     "output_type": "stream",
     "text": [
      "[[27 24 35 36 38 17 31 39 32 18]\n",
      " [28 17 38 34 14 13 35 36 24 16]\n",
      " [35 23 17 20 23 12 16 16 37 20]\n",
      " [12 12 27 20 37 25 16 12 26 16]\n",
      " [37 34 27 26 19 21 12 37 36 35]\n",
      " [10 39 28 26 15 36 28 21 30 21]\n",
      " [30 24 37 37 17 29 35 10 27 39]\n",
      " [11 30 38 26 35 25 21 21 39 34]]\n"
     ]
    }
   ],
   "source": [
    "print(n[::1]) # called forward indexing is equal to variable (n)"
   ]
  },
  {
   "cell_type": "code",
   "execution_count": 35,
   "id": "edc607e7",
   "metadata": {},
   "outputs": [
    {
     "name": "stdout",
     "output_type": "stream",
     "text": [
      "[[27 24 35 36 38 17 31 39 32 18]\n",
      " [35 23 17 20 23 12 16 16 37 20]\n",
      " [37 34 27 26 19 21 12 37 36 35]\n",
      " [30 24 37 37 17 29 35 10 27 39]]\n"
     ]
    }
   ],
   "source": [
    "print(n[::2]) # 0 row is print and 1 row is delet then 2 row is perint and 3s is delet and so on"
   ]
  },
  {
   "cell_type": "code",
   "execution_count": 34,
   "id": "2de189e8",
   "metadata": {},
   "outputs": [
    {
     "name": "stdout",
     "output_type": "stream",
     "text": [
      "[[27 24 35 36 38 17 31 39 32 18]\n",
      " [28 17 38 34 14 13 35 36 24 16]\n",
      " [35 23 17 20 23 12 16 16 37 20]\n",
      " [12 12 27 20 37 25 16 12 26 16]\n",
      " [37 34 27 26 19 21 12 37 36 35]]\n"
     ]
    }
   ],
   "source": [
    "print(n[0:5]) # zero row and 5 col"
   ]
  },
  {
   "cell_type": "code",
   "execution_count": 33,
   "id": "f3862c0a",
   "metadata": {},
   "outputs": [
    {
     "name": "stdout",
     "output_type": "stream",
     "text": [
      "17\n"
     ]
    }
   ],
   "source": [
    "print(n[0,5])"
   ]
  },
  {
   "cell_type": "code",
   "execution_count": 32,
   "id": "77c839cb",
   "metadata": {},
   "outputs": [
    {
     "name": "stdout",
     "output_type": "stream",
     "text": [
      "[[27 24 35 36 38 17 31 39 32 18]\n",
      " [28 17 38 34 14 13 35 36 24 16]\n",
      " [35 23 17 20 23 12 16 16 37 20]\n",
      " [12 12 27 20 37 25 16 12 26 16]\n",
      " [37 34 27 26 19 21 12 37 36 35]\n",
      " [10 39 28 26 15 36 28 21 30 21]\n",
      " [30 24 37 37 17 29 35 10 27 39]\n",
      " [11 30 38 26 35 25 21 21 39 34]]\n"
     ]
    }
   ],
   "source": [
    "print(n)"
   ]
  },
  {
   "cell_type": "code",
   "execution_count": 31,
   "id": "fb83fa47",
   "metadata": {},
   "outputs": [
    {
     "name": "stdout",
     "output_type": "stream",
     "text": [
      "26\n"
     ]
    }
   ],
   "source": [
    "print(n[5,3]) #5 rows, 3 columns"
   ]
  },
  {
   "cell_type": "code",
   "execution_count": 30,
   "id": "8ab20bc7",
   "metadata": {},
   "outputs": [
    {
     "name": "stdout",
     "output_type": "stream",
     "text": [
      "21\n"
     ]
    }
   ],
   "source": [
    "print(n[5,-3])#5 rows, -3  reverse columns"
   ]
  },
  {
   "cell_type": "code",
   "execution_count": null,
   "id": "3daee9c1",
   "metadata": {},
   "outputs": [],
   "source": [
    "# : in matrix record\n",
    "# , in matrix specific position (element)"
   ]
  },
  {
   "cell_type": "code",
   "execution_count": 25,
   "id": "842ebe28",
   "metadata": {},
   "outputs": [
    {
     "data": {
      "text/plain": [
       "array([[ 1,  2,  3,  4],\n",
       "       [ 5,  6,  7,  8],\n",
       "       [ 9, 10, 11, 12]])"
      ]
     },
     "execution_count": 25,
     "metadata": {},
     "output_type": "execute_result"
    }
   ],
   "source": [
    "np.arange(1,13).reshape(3,4)"
   ]
  },
  {
   "cell_type": "code",
   "execution_count": 26,
   "id": "67242509",
   "metadata": {},
   "outputs": [
    {
     "ename": "ValueError",
     "evalue": "cannot reshape array of size 12 into shape (5,5)",
     "output_type": "error",
     "traceback": [
      "\u001b[1;31m---------------------------------------------------------------------------\u001b[0m",
      "\u001b[1;31mValueError\u001b[0m                                Traceback (most recent call last)",
      "Cell \u001b[1;32mIn[26], line 1\u001b[0m\n\u001b[1;32m----> 1\u001b[0m np\u001b[38;5;241m.\u001b[39marange(\u001b[38;5;241m1\u001b[39m,\u001b[38;5;241m13\u001b[39m)\u001b[38;5;241m.\u001b[39mreshape(\u001b[38;5;241m5\u001b[39m,\u001b[38;5;241m5\u001b[39m)\n",
      "\u001b[1;31mValueError\u001b[0m: cannot reshape array of size 12 into shape (5,5)"
     ]
    }
   ],
   "source": [
    "np.arange(1,13).reshape(5,5)"
   ]
  },
  {
   "cell_type": "code",
   "execution_count": 27,
   "id": "9365f6cd",
   "metadata": {},
   "outputs": [
    {
     "data": {
      "text/plain": [
       "array([[ 1,  2,  3],\n",
       "       [ 4,  5,  6],\n",
       "       [ 7,  8,  9],\n",
       "       [10, 11, 12]])"
      ]
     },
     "execution_count": 27,
     "metadata": {},
     "output_type": "execute_result"
    }
   ],
   "source": [
    "np.arange(1,13).reshape(4,3)"
   ]
  },
  {
   "cell_type": "code",
   "execution_count": 28,
   "id": "92ca8c6a",
   "metadata": {},
   "outputs": [
    {
     "data": {
      "text/plain": [
       "array([[ 1],\n",
       "       [ 2],\n",
       "       [ 3],\n",
       "       [ 4],\n",
       "       [ 5],\n",
       "       [ 6],\n",
       "       [ 7],\n",
       "       [ 8],\n",
       "       [ 9],\n",
       "       [10],\n",
       "       [11],\n",
       "       [12]])"
      ]
     },
     "execution_count": 28,
     "metadata": {},
     "output_type": "execute_result"
    }
   ],
   "source": [
    "np.arange(1,13).reshape(12,1)"
   ]
  },
  {
   "cell_type": "code",
   "execution_count": 29,
   "id": "ca95a8b2",
   "metadata": {},
   "outputs": [
    {
     "data": {
      "text/plain": [
       "array([[ 1,  2,  3,  4,  5,  6,  7,  8,  9, 10, 11, 12]])"
      ]
     },
     "execution_count": 29,
     "metadata": {},
     "output_type": "execute_result"
    }
   ],
   "source": [
    "np.arange(1,13).reshape(1,12)"
   ]
  },
  {
   "cell_type": "code",
   "execution_count": null,
   "id": "229d47ec",
   "metadata": {},
   "outputs": [],
   "source": []
  },
  {
   "cell_type": "code",
   "execution_count": null,
   "id": "0e9af991",
   "metadata": {},
   "outputs": [],
   "source": []
  },
  {
   "cell_type": "code",
   "execution_count": null,
   "id": "fa4401e5",
   "metadata": {},
   "outputs": [],
   "source": []
  },
  {
   "cell_type": "code",
   "execution_count": null,
   "id": "9c01b9ba",
   "metadata": {},
   "outputs": [],
   "source": []
  },
  {
   "cell_type": "code",
   "execution_count": null,
   "id": "8ddc15fc",
   "metadata": {},
   "outputs": [],
   "source": []
  },
  {
   "cell_type": "code",
   "execution_count": null,
   "id": "3f81f722",
   "metadata": {},
   "outputs": [],
   "source": []
  },
  {
   "cell_type": "code",
   "execution_count": null,
   "id": "b4571e99",
   "metadata": {},
   "outputs": [],
   "source": []
  }
 ],
 "metadata": {
  "kernelspec": {
   "display_name": "base",
   "language": "python",
   "name": "python3"
  },
  "language_info": {
   "codemirror_mode": {
    "name": "ipython",
    "version": 3
   },
   "file_extension": ".py",
   "mimetype": "text/x-python",
   "name": "python",
   "nbconvert_exporter": "python",
   "pygments_lexer": "ipython3",
   "version": "3.13.5"
  }
 },
 "nbformat": 4,
 "nbformat_minor": 5
}
