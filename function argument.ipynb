{
 "cells": [
  {
   "cell_type": "code",
   "execution_count": 1,
   "id": "20fecb76",
   "metadata": {},
   "outputs": [],
   "source": [
    "def hello():\n",
    "    print(\"Good Evening\")"
   ]
  },
  {
   "cell_type": "code",
   "execution_count": 2,
   "id": "ae130a62",
   "metadata": {},
   "outputs": [
    {
     "name": "stdout",
     "output_type": "stream",
     "text": [
      "Good Evening\n"
     ]
    }
   ],
   "source": [
    "def hello(): # This function prints a greeting message\n",
    "    print(\"Good Evening\")\n",
    "\n",
    "hello() # Calling the function to execute its code"
   ]
  },
  {
   "cell_type": "code",
   "execution_count": 3,
   "id": "853e6500",
   "metadata": {},
   "outputs": [
    {
     "name": "stdout",
     "output_type": "stream",
     "text": [
      "Good Evening\n",
      "Good Evening\n",
      "Good Evening\n",
      "Good Evening\n"
     ]
    }
   ],
   "source": [
    "def hello(): # This function prints a greeting message\n",
    "    print(\"Good Evening\")\n",
    "\n",
    "hello() # Calling the function to execute its code\n",
    "\n",
    "\n",
    "\n",
    "def hello(): # This function prints a greeting message\n",
    "    print(\"Good Evening\")\n",
    "\n",
    "hello() # Calling the function to execute its code\n",
    "\n",
    "\n",
    "\n",
    "def hello(): # This function prints a greeting message\n",
    "    print(\"Good Evening\")\n",
    "\n",
    "hello() # Calling the function to execute its code\n",
    "\n",
    "\n",
    "\n",
    "def hello(): # This function prints a greeting message\n",
    "    print(\"Good Evening\")\n",
    "\n",
    "hello() # Calling the function to execute its code"
   ]
  },
  {
   "cell_type": "code",
   "execution_count": 4,
   "id": "880389a0",
   "metadata": {},
   "outputs": [
    {
     "name": "stdout",
     "output_type": "stream",
     "text": [
      "Good Evening\n",
      "Good Evening\n",
      "Good Evening\n",
      "Good Evening\n"
     ]
    }
   ],
   "source": [
    "def hello(): #this function without arguments\n",
    "    print(\"Good Evening\")\n",
    "\n",
    "\n",
    "\n",
    "hello()\n",
    "hello()\n",
    "hello()\n",
    "hello()"
   ]
  },
  {
   "cell_type": "code",
   "execution_count": 5,
   "id": "8abc968e",
   "metadata": {},
   "outputs": [
    {
     "name": "stdout",
     "output_type": "stream",
     "text": [
      "11\n"
     ]
    }
   ],
   "source": [
    "def add(x,y):# this function with  2 arguments\n",
    "# in this code x is  position 5 and y is position 6\n",
    "    c = x + y\n",
    "    print(c)\n",
    "\n",
    "add(5,6)    # Calling the function with arguments"
   ]
  },
  {
   "cell_type": "code",
   "execution_count": 6,
   "id": "99100d15",
   "metadata": {},
   "outputs": [
    {
     "name": "stdout",
     "output_type": "stream",
     "text": [
      "18\n"
     ]
    }
   ],
   "source": [
    "def add(x,y,z) : # this function with 3 arguments\n",
    "    c = x + y + z\n",
    "    print(c)\n",
    "\n",
    "add(5,6,7)    # Calling the function with arguments"
   ]
  },
  {
   "cell_type": "code",
   "execution_count": 7,
   "id": "2ff30720",
   "metadata": {},
   "outputs": [
    {
     "data": {
      "text/plain": [
       "18"
      ]
     },
     "execution_count": 7,
     "metadata": {},
     "output_type": "execute_result"
    }
   ],
   "source": [
    "def add(x,y,z) : # this function with 3 arguments\n",
    "    c = x + y + z\n",
    "    return c #in  function we use return statement avoid print statement\n",
    "\n",
    "add(5,6,7)    # Calling the function with arguments"
   ]
  },
  {
   "cell_type": "code",
   "execution_count": 8,
   "id": "ea3a54b1",
   "metadata": {},
   "outputs": [
    {
     "name": "stdout",
     "output_type": "stream",
     "text": [
      "Good Evening\n"
     ]
    },
    {
     "data": {
      "text/plain": [
       "18"
      ]
     },
     "execution_count": 8,
     "metadata": {},
     "output_type": "execute_result"
    }
   ],
   "source": [
    "def hello(): #this function without arguments\n",
    "    print(\"Good Evening\")\n",
    "\n",
    "\n",
    "def add(x,y,z) : # this function with 3 arguments\n",
    "    c = x + y + z\n",
    "    return c\n",
    "\n",
    "\n",
    "hello()\n",
    "add(5,6,7)    # Calling the function with arguments\n"
   ]
  },
  {
   "cell_type": "code",
   "execution_count": 9,
   "id": "38fd0214",
   "metadata": {},
   "outputs": [
    {
     "name": "stdout",
     "output_type": "stream",
     "text": [
      "Hello, Good Evening!\n",
      "50\n",
      "25\n"
     ]
    }
   ],
   "source": [
    "def greet():\n",
    "    print(\"Hello, Good Evening!\")\n",
    "\n",
    "def add(x, y, z):\n",
    "    d = x + y + z\n",
    "    print(d)        \n",
    "\n",
    "def subtract(x, y):\n",
    "    e = x - y\n",
    "    print(e)\n",
    "    \n",
    "\n",
    "greet()\n",
    "add(5, 30, 15)\n",
    "subtract(30, 5)"
   ]
  },
  {
   "cell_type": "code",
   "execution_count": 10,
   "id": "11f80d8d",
   "metadata": {},
   "outputs": [
    {
     "data": {
      "text/plain": [
       "(25, 35)"
      ]
     },
     "execution_count": 10,
     "metadata": {},
     "output_type": "execute_result"
    }
   ],
   "source": [
    "def add_sub(x, y): #in this case have 2 operations add and sub so we can return both values in tuple form\n",
    "\n",
    "    c = x - y\n",
    "    d = x + y   \n",
    "\n",
    "    return c, d\n",
    "\n",
    "add_sub(30, 5) #the output will be (25, 35) in tuple form"
   ]
  },
  {
   "cell_type": "code",
   "execution_count": 11,
   "id": "7f93bcd6",
   "metadata": {},
   "outputs": [
    {
     "name": "stdout",
     "output_type": "stream",
     "text": [
      "(25, 35)\n",
      "<class 'tuple'>\n"
     ]
    }
   ],
   "source": [
    "def add_sub(x, y):\n",
    "\n",
    "    c = x - y\n",
    "    d = x + y   \n",
    "\n",
    "    return c, d\n",
    "\n",
    "result = add_sub(30, 5) #the output will be (25, 35) in tuple form\n",
    "print(result)\n",
    "print(type(result))"
   ]
  },
  {
   "cell_type": "code",
   "execution_count": 12,
   "id": "38f6a036",
   "metadata": {},
   "outputs": [
    {
     "name": "stdout",
     "output_type": "stream",
     "text": [
      "25\n",
      "35\n",
      "<class 'int'>\n",
      "<class 'int'>\n"
     ]
    }
   ],
   "source": [
    "def add_sub(x, y):\n",
    "\n",
    "    c = x - y\n",
    "    d = x + y   \n",
    "\n",
    "    return c, d\n",
    "\n",
    "result, result2 = add_sub(30, 5) #the output will be 25 and 35 in integer form\n",
    "print(result)\n",
    "print(result2)\n",
    "\n",
    "print(type(result))\n",
    "print(type(result2))    "
   ]
  },
  {
   "cell_type": "code",
   "execution_count": 13,
   "id": "b566df4e",
   "metadata": {},
   "outputs": [
    {
     "name": "stdout",
     "output_type": "stream",
     "text": [
      "25\n",
      "35\n",
      "150\n",
      "<class 'int'>\n",
      "<class 'int'>\n",
      "<class 'int'>\n"
     ]
    }
   ],
   "source": [
    "def add_sub_mul(x, y):\n",
    "\n",
    "    c = x - y\n",
    "    d = x + y   \n",
    "    e = x * y\n",
    "\n",
    "    return c, d, e\n",
    "\n",
    "result, result2, result3 = add_sub_mul(30, 5) #the output will be 25, 35 and 150 in integer form\n",
    "print(result)\n",
    "print(result2)\n",
    "print(result3)\n",
    "\n",
    "print(type(result))\n",
    "print(type(result2))\n",
    "print(type(result3))"
   ]
  },
  {
   "cell_type": "markdown",
   "id": "b243a91e",
   "metadata": {},
   "source": [
    "FUNCTION ARGUMENT IS 2 PART\n",
    "\n",
    "1  FORMAL ARGUMENT\n",
    "\n",
    "\n",
    "\n",
    "2  CTUAL ARGUMENT"
   ]
  },
  {
   "cell_type": "code",
   "execution_count": 14,
   "id": "21e5698c",
   "metadata": {},
   "outputs": [
    {
     "name": "stdout",
     "output_type": "stream",
     "text": [
      "8\n"
     ]
    }
   ],
   "source": [
    "def update() :\n",
    "    x = 8 \n",
    "    print(x)\n",
    "\n",
    "update()"
   ]
  },
  {
   "cell_type": "code",
   "execution_count": 15,
   "id": "3b09ad84",
   "metadata": {},
   "outputs": [
    {
     "name": "stdout",
     "output_type": "stream",
     "text": [
      "11\n"
     ]
    }
   ],
   "source": [
    "def add(x,y):# x and y are called formal arguments(mention at the time of function definition)\n",
    "    c = x + y\n",
    "    print(c)\n",
    "\n",
    "add(5,6)    # 5 and 6 are called actual arguments(used at the time of function call)"
   ]
  },
  {
   "cell_type": "markdown",
   "id": "22b70453",
   "metadata": {},
   "source": [
    "ACTUAL ARGUMENT IN 5 PART\n",
    "\n",
    "1 POSITION\n",
    "\n",
    "2 KEYWORD\n",
    "\n",
    "3 DEAULT\n",
    "\n",
    "4 VARIABLE LENGTH\n",
    "\n",
    "5 KEYWORD-VARIABE(KWARGS)\n"
   ]
  },
  {
   "cell_type": "code",
   "execution_count": 16,
   "id": "d92d6bef",
   "metadata": {},
   "outputs": [
    {
     "name": "stdout",
     "output_type": "stream",
     "text": [
      "Name: Alice\n",
      "Age: 30\n"
     ]
    }
   ],
   "source": [
    "# positional arguments\n",
    "def person(name, age):\n",
    "    print(\"Name:\", name)\n",
    "    print(\"Age:\", age)\n",
    "\n",
    "person(\"Alice\", 30  )"
   ]
  },
  {
   "cell_type": "markdown",
   "id": "45b56483",
   "metadata": {},
   "source": [
    "# positional arguments\n"
   ]
  },
  {
   "cell_type": "code",
   "execution_count": 17,
   "id": "5c5b616b",
   "metadata": {},
   "outputs": [
    {
     "name": "stdout",
     "output_type": "stream",
     "text": [
      "30\n",
      "Alice\n"
     ]
    }
   ],
   "source": [
    "# positional arguments\n",
    "def person(name, age):\n",
    "    print(name)\n",
    "    print(age)\n",
    "\n",
    "person(30, \"Alice\"  )"
   ]
  },
  {
   "cell_type": "code",
   "execution_count": 18,
   "id": "83cd2788",
   "metadata": {},
   "outputs": [
    {
     "name": "stdout",
     "output_type": "stream",
     "text": [
      "30\n"
     ]
    },
    {
     "ename": "TypeError",
     "evalue": "unsupported operand type(s) for -: 'str' and 'int'",
     "output_type": "error",
     "traceback": [
      "\u001b[31m---------------------------------------------------------------------------\u001b[39m",
      "\u001b[31mTypeError\u001b[39m                                 Traceback (most recent call last)",
      "\u001b[36mCell\u001b[39m\u001b[36m \u001b[39m\u001b[32mIn[18]\u001b[39m\u001b[32m, line 6\u001b[39m\n\u001b[32m      3\u001b[39m     \u001b[38;5;28mprint\u001b[39m(name)\n\u001b[32m      4\u001b[39m     \u001b[38;5;28mprint\u001b[39m(age - \u001b[32m1\u001b[39m)\n\u001b[32m----> \u001b[39m\u001b[32m6\u001b[39m \u001b[43mperson\u001b[49m\u001b[43m(\u001b[49m\u001b[32;43m30\u001b[39;49m\u001b[43m,\u001b[49m\u001b[43m \u001b[49m\u001b[33;43m\"\u001b[39;49m\u001b[33;43mAlice\u001b[39;49m\u001b[33;43m\"\u001b[39;49m\u001b[43m  \u001b[49m\u001b[43m)\u001b[49m\n",
      "\u001b[36mCell\u001b[39m\u001b[36m \u001b[39m\u001b[32mIn[18]\u001b[39m\u001b[32m, line 4\u001b[39m, in \u001b[36mperson\u001b[39m\u001b[34m(name, age)\u001b[39m\n\u001b[32m      2\u001b[39m \u001b[38;5;28;01mdef\u001b[39;00m\u001b[38;5;250m \u001b[39m\u001b[34mperson\u001b[39m(name, age):\n\u001b[32m      3\u001b[39m     \u001b[38;5;28mprint\u001b[39m(name)\n\u001b[32m----> \u001b[39m\u001b[32m4\u001b[39m     \u001b[38;5;28mprint\u001b[39m(\u001b[43mage\u001b[49m\u001b[43m \u001b[49m\u001b[43m-\u001b[49m\u001b[43m \u001b[49m\u001b[32;43m1\u001b[39;49m)\n",
      "\u001b[31mTypeError\u001b[39m: unsupported operand type(s) for -: 'str' and 'int'"
     ]
    }
   ],
   "source": [
    "# positional arguments\n",
    "def person(name, age):\n",
    "    print(name)\n",
    "    print(age - 1)\n",
    "\n",
    "person(30, \"Alice\"  )"
   ]
  },
  {
   "cell_type": "code",
   "execution_count": null,
   "id": "91f2250a",
   "metadata": {},
   "outputs": [
    {
     "name": "stdout",
     "output_type": "stream",
     "text": [
      "Alice\n",
      "29\n"
     ]
    }
   ],
   "source": [
    "# positional arguments\n",
    "def person(name, age):\n",
    "    print(name)\n",
    "    print(age - 1)\n",
    "\n",
    "person(\"Alice\" , 30  )"
   ]
  },
  {
   "cell_type": "markdown",
   "id": "12fd512e",
   "metadata": {},
   "source": [
    "# keyword arguments\n"
   ]
  },
  {
   "cell_type": "code",
   "execution_count": null,
   "id": "8b7c40eb",
   "metadata": {},
   "outputs": [
    {
     "name": "stdout",
     "output_type": "stream",
     "text": [
      "Alice\n",
      "30\n"
     ]
    }
   ],
   "source": [
    "# keyword arguments\n",
    "\n",
    "def person(name, age):\n",
    "    print(name)\n",
    "    print(age)\n",
    "\n",
    "person(\"Alice\", 30)\n"
   ]
  },
  {
   "cell_type": "code",
   "execution_count": null,
   "id": "9a3f742d",
   "metadata": {},
   "outputs": [
    {
     "name": "stdout",
     "output_type": "stream",
     "text": [
      "30\n"
     ]
    },
    {
     "ename": "TypeError",
     "evalue": "can only concatenate str (not \"int\") to str",
     "output_type": "error",
     "traceback": [
      "\u001b[31m---------------------------------------------------------------------------\u001b[39m",
      "\u001b[31mTypeError\u001b[39m                                 Traceback (most recent call last)",
      "\u001b[36mCell\u001b[39m\u001b[36m \u001b[39m\u001b[32mIn[42]\u001b[39m\u001b[32m, line 7\u001b[39m\n\u001b[32m      4\u001b[39m     \u001b[38;5;28mprint\u001b[39m(name)\n\u001b[32m      5\u001b[39m     \u001b[38;5;28mprint\u001b[39m(age + \u001b[32m1\u001b[39m)\n\u001b[32m----> \u001b[39m\u001b[32m7\u001b[39m \u001b[43mperson\u001b[49m\u001b[43m(\u001b[49m\u001b[32;43m30\u001b[39;49m\u001b[43m,\u001b[49m\u001b[43m \u001b[49m\u001b[33;43m\"\u001b[39;49m\u001b[33;43mAlice\u001b[39;49m\u001b[33;43m\"\u001b[39;49m\u001b[43m)\u001b[49m\n",
      "\u001b[36mCell\u001b[39m\u001b[36m \u001b[39m\u001b[32mIn[42]\u001b[39m\u001b[32m, line 5\u001b[39m, in \u001b[36mperson\u001b[39m\u001b[34m(name, age)\u001b[39m\n\u001b[32m      3\u001b[39m \u001b[38;5;28;01mdef\u001b[39;00m\u001b[38;5;250m \u001b[39m\u001b[34mperson\u001b[39m(name, age):\n\u001b[32m      4\u001b[39m     \u001b[38;5;28mprint\u001b[39m(name)\n\u001b[32m----> \u001b[39m\u001b[32m5\u001b[39m     \u001b[38;5;28mprint\u001b[39m(\u001b[43mage\u001b[49m\u001b[43m \u001b[49m\u001b[43m+\u001b[49m\u001b[43m \u001b[49m\u001b[32;43m1\u001b[39;49m)\n",
      "\u001b[31mTypeError\u001b[39m: can only concatenate str (not \"int\") to str"
     ]
    }
   ],
   "source": [
    "# keyword arguments\n",
    "\n",
    "def person(name, age):\n",
    "    print(name)\n",
    "    print(age + 1)\n",
    "\n",
    "person(30, \"Alice\")\n",
    "\n"
   ]
  },
  {
   "cell_type": "code",
   "execution_count": null,
   "id": "69dcaa80",
   "metadata": {},
   "outputs": [
    {
     "name": "stdout",
     "output_type": "stream",
     "text": [
      "Alice\n",
      "31\n"
     ]
    }
   ],
   "source": [
    "# keyword arguments\n",
    "\n",
    "def person(name, age):\n",
    "    print(name)\n",
    "    print(age + 1)\n",
    "\n",
    "person(age=30, name=\"Alice\")\n",
    "# this concept is called keyword arguments  \n"
   ]
  },
  {
   "cell_type": "markdown",
   "id": "3d71efdc",
   "metadata": {},
   "source": [
    "# default arguments\n",
    "\n"
   ]
  },
  {
   "cell_type": "code",
   "execution_count": null,
   "id": "b11ee8b1",
   "metadata": {},
   "outputs": [
    {
     "name": "stdout",
     "output_type": "stream",
     "text": [
      "Alice\n",
      "30\n"
     ]
    }
   ],
   "source": [
    "# default arguments\n",
    "\n",
    "def person(name, age=30):\n",
    "    print(name)\n",
    "    print(age)\n",
    "\n",
    "person(\"Alice\")\n",
    "# this is called default arguments  \n"
   ]
  },
  {
   "cell_type": "code",
   "execution_count": null,
   "id": "fd38f2d0",
   "metadata": {},
   "outputs": [
    {
     "name": "stdout",
     "output_type": "stream",
     "text": [
      "Alice\n",
      "25\n"
     ]
    }
   ],
   "source": [
    "# default arguments\n",
    "\n",
    "def person(name, age=30):\n",
    "    print(name)\n",
    "    print(age)\n",
    "\n",
    "person(\"Alice\", 25)\n",
    "# this is called default arguments  \n"
   ]
  },
  {
   "cell_type": "markdown",
   "id": "8b2bb5c6",
   "metadata": {},
   "source": [
    "# variable length argument \n",
    "\n"
   ]
  },
  {
   "cell_type": "code",
   "execution_count": null,
   "id": "1a34a7b4",
   "metadata": {},
   "outputs": [
    {
     "name": "stdout",
     "output_type": "stream",
     "text": [
      "11\n"
     ]
    }
   ],
   "source": [
    "def sum(a,b):\n",
    "    c = a+b\n",
    "    print(c)\n",
    "\n",
    "sum(5,6)"
   ]
  },
  {
   "cell_type": "code",
   "execution_count": 2,
   "id": "309fc186",
   "metadata": {},
   "outputs": [
    {
     "ename": "TypeError",
     "evalue": "sum() takes 2 positional arguments but 7 were given",
     "output_type": "error",
     "traceback": [
      "\u001b[31m---------------------------------------------------------------------------\u001b[39m",
      "\u001b[31mTypeError\u001b[39m                                 Traceback (most recent call last)",
      "\u001b[36mCell\u001b[39m\u001b[36m \u001b[39m\u001b[32mIn[2]\u001b[39m\u001b[32m, line 5\u001b[39m\n\u001b[32m      2\u001b[39m     c = a+b\n\u001b[32m      3\u001b[39m     \u001b[38;5;28mprint\u001b[39m(c)\n\u001b[32m----> \u001b[39m\u001b[32m5\u001b[39m \u001b[38;5;28;43msum\u001b[39;49m\u001b[43m(\u001b[49m\u001b[32;43m5\u001b[39;49m\u001b[43m,\u001b[49m\u001b[32;43m6\u001b[39;49m\u001b[43m,\u001b[49m\u001b[32;43m7\u001b[39;49m\u001b[43m,\u001b[49m\u001b[32;43m8\u001b[39;49m\u001b[43m,\u001b[49m\u001b[32;43m9\u001b[39;49m\u001b[43m,\u001b[49m\u001b[32;43m4\u001b[39;49m\u001b[43m,\u001b[49m\u001b[32;43m3\u001b[39;49m\u001b[43m)\u001b[49m\n",
      "\u001b[31mTypeError\u001b[39m: sum() takes 2 positional arguments but 7 were given"
     ]
    }
   ],
   "source": [
    "def sum(a,b):\n",
    "    c = a+b\n",
    "    print(c)\n",
    "\n",
    "sum(5,6,7,8,9,4,3)"
   ]
  },
  {
   "cell_type": "code",
   "execution_count": null,
   "id": "c2f5ac0a",
   "metadata": {},
   "outputs": [
    {
     "ename": "TypeError",
     "evalue": "unsupported operand type(s) for +: 'int' and 'tuple'",
     "output_type": "error",
     "traceback": [
      "\u001b[31m---------------------------------------------------------------------------\u001b[39m",
      "\u001b[31mTypeError\u001b[39m                                 Traceback (most recent call last)",
      "\u001b[36mCell\u001b[39m\u001b[36m \u001b[39m\u001b[32mIn[3]\u001b[39m\u001b[32m, line 5\u001b[39m\n\u001b[32m      2\u001b[39m     c = a+b\n\u001b[32m      3\u001b[39m     \u001b[38;5;28mprint\u001b[39m(c)\n\u001b[32m----> \u001b[39m\u001b[32m5\u001b[39m \u001b[38;5;28;43msum\u001b[39;49m\u001b[43m(\u001b[49m\u001b[32;43m5\u001b[39;49m\u001b[43m,\u001b[49m\u001b[32;43m6\u001b[39;49m\u001b[43m,\u001b[49m\u001b[32;43m7\u001b[39;49m\u001b[43m,\u001b[49m\u001b[32;43m8\u001b[39;49m\u001b[43m,\u001b[49m\u001b[32;43m9\u001b[39;49m\u001b[43m,\u001b[49m\u001b[32;43m4\u001b[39;49m\u001b[43m,\u001b[49m\u001b[32;43m3\u001b[39;49m\u001b[43m)\u001b[49m\n",
      "\u001b[36mCell\u001b[39m\u001b[36m \u001b[39m\u001b[32mIn[3]\u001b[39m\u001b[32m, line 2\u001b[39m, in \u001b[36msum\u001b[39m\u001b[34m(a, *b)\u001b[39m\n\u001b[32m      1\u001b[39m \u001b[38;5;28;01mdef\u001b[39;00m\u001b[38;5;250m \u001b[39m\u001b[34msum\u001b[39m(a,*b):\n\u001b[32m----> \u001b[39m\u001b[32m2\u001b[39m     c = \u001b[43ma\u001b[49m\u001b[43m+\u001b[49m\u001b[43mb\u001b[49m\n\u001b[32m      3\u001b[39m     \u001b[38;5;28mprint\u001b[39m(c)\n",
      "\u001b[31mTypeError\u001b[39m: unsupported operand type(s) for +: 'int' and 'tuple'"
     ]
    }
   ],
   "source": [
    "def sum(a,*b):\n",
    "    c = a+b\n",
    "    print(c)\n",
    "# a = int and b = tuple but int and tupl not combain\n",
    "sum(5,6,7,8,9,4,3)"
   ]
  },
  {
   "cell_type": "code",
   "execution_count": 4,
   "id": "b38bb195",
   "metadata": {},
   "outputs": [
    {
     "name": "stdout",
     "output_type": "stream",
     "text": [
      "<class 'int'>\n",
      "<class 'tuple'>\n"
     ]
    }
   ],
   "source": [
    "def sum(a,*b):\n",
    "   # c = a+b\n",
    "    #print(c)\n",
    "    print(type(a))\n",
    "    print(type(b))\n",
    "\n",
    "sum(5,6,7,8,9,4,3)"
   ]
  },
  {
   "cell_type": "code",
   "execution_count": null,
   "id": "cd876b00",
   "metadata": {},
   "outputs": [
    {
     "name": "stdout",
     "output_type": "stream",
     "text": [
      "42\n"
     ]
    }
   ],
   "source": [
    "def sum(a, *b):\n",
    "    c = a\n",
    "\n",
    "    for i in b:\n",
    "        c = c + i\n",
    "    print(c)\n",
    "#is called  variable length argument\n",
    "\n",
    "\n",
    "sum(5,6,7,8,9,4,3)"
   ]
  },
  {
   "cell_type": "code",
   "execution_count": 10,
   "id": "803563e8",
   "metadata": {},
   "outputs": [
    {
     "name": "stdout",
     "output_type": "stream",
     "text": [
      "21\n"
     ]
    }
   ],
   "source": [
    "def sum(a, *b):\n",
    "    c = 0\n",
    "\n",
    "    for i in b:\n",
    "        c = c + i\n",
    "    print(c)\n",
    "#is called  variable length argument\n",
    "\n",
    "\n",
    "sum(5,6,7,8)"
   ]
  },
  {
   "cell_type": "code",
   "execution_count": 11,
   "id": "552073c1",
   "metadata": {},
   "outputs": [
    {
     "name": "stdout",
     "output_type": "stream",
     "text": [
      "30\n"
     ]
    }
   ],
   "source": [
    "def sum(a, *b):\n",
    "    c = 9\n",
    "\n",
    "    for i in b:\n",
    "        c = c + i\n",
    "    print(c)\n",
    "#is called  variable length argument\n",
    "\n",
    "\n",
    "sum(5,6,7,8)"
   ]
  },
  {
   "cell_type": "code",
   "execution_count": null,
   "id": "bbff7e34",
   "metadata": {},
   "outputs": [
    {
     "name": "stdout",
     "output_type": "stream",
     "text": [
      "96\n"
     ]
    }
   ],
   "source": [
    "def sum(a, *b):\n",
    "    c = a\n",
    "\n",
    "    for i in b:\n",
    "        c = c + i\n",
    "    print(c)\n",
    "\n",
    "#is called  variable length argument\n",
    "\n",
    "sum(5,6,7,8,9,4,3,-100,55,44,33,22,)"
   ]
  },
  {
   "cell_type": "markdown",
   "id": "5081d8ec",
   "metadata": {},
   "source": [
    "# kwargs (keyword argument + variable length argument)\n"
   ]
  },
  {
   "cell_type": "code",
   "execution_count": 12,
   "id": "34e909b2",
   "metadata": {},
   "outputs": [],
   "source": [
    "def person():\n",
    "    person('Alex', 34, 'John',9877567)"
   ]
  },
  {
   "cell_type": "code",
   "execution_count": 13,
   "id": "472557b2",
   "metadata": {},
   "outputs": [
    {
     "name": "stdout",
     "output_type": "stream",
     "text": [
      "Alex\n",
      "(34, 'John', 8977567)\n"
     ]
    }
   ],
   "source": [
    "def person(name, *data):\n",
    "    print(name)\n",
    "    print(data)\n",
    "\n",
    "person('Alex', 34, 'John', 8977567)"
   ]
  },
  {
   "cell_type": "code",
   "execution_count": 14,
   "id": "4adf180a",
   "metadata": {},
   "outputs": [
    {
     "ename": "TypeError",
     "evalue": "person() got an unexpected keyword argument 'age'",
     "output_type": "error",
     "traceback": [
      "\u001b[31m---------------------------------------------------------------------------\u001b[39m",
      "\u001b[31mTypeError\u001b[39m                                 Traceback (most recent call last)",
      "\u001b[36mCell\u001b[39m\u001b[36m \u001b[39m\u001b[32mIn[14]\u001b[39m\u001b[32m, line 5\u001b[39m\n\u001b[32m      2\u001b[39m     \u001b[38;5;28mprint\u001b[39m(name)\n\u001b[32m      3\u001b[39m     \u001b[38;5;28mprint\u001b[39m(data)\n\u001b[32m----> \u001b[39m\u001b[32m5\u001b[39m \u001b[43mperson\u001b[49m\u001b[43m(\u001b[49m\u001b[33;43m'\u001b[39;49m\u001b[33;43mAlex\u001b[39;49m\u001b[33;43m'\u001b[39;49m\u001b[43m,\u001b[49m\u001b[43m \u001b[49m\u001b[43mage\u001b[49m\u001b[43m \u001b[49m\u001b[43m=\u001b[49m\u001b[43m \u001b[49m\u001b[32;43m34\u001b[39;49m\u001b[43m,\u001b[49m\u001b[43m \u001b[49m\u001b[43madd\u001b[49m\u001b[43m \u001b[49m\u001b[43m=\u001b[49m\u001b[43m \u001b[49m\u001b[33;43m'\u001b[39;49m\u001b[33;43mJohn\u001b[39;49m\u001b[33;43m'\u001b[39;49m\u001b[43m,\u001b[49m\u001b[43m  \u001b[49m\u001b[43mmob\u001b[49m\u001b[43m \u001b[49m\u001b[43m=\u001b[49m\u001b[43m \u001b[49m\u001b[32;43m8977567\u001b[39;49m\u001b[43m)\u001b[49m\n",
      "\u001b[31mTypeError\u001b[39m: person() got an unexpected keyword argument 'age'"
     ]
    }
   ],
   "source": [
    "def person(name, *data):\n",
    "    print(name)\n",
    "    print(data)\n",
    "\n",
    "person('Alex', age = 34, add = 'John',  mob = 8977567)"
   ]
  },
  {
   "cell_type": "code",
   "execution_count": 15,
   "id": "7b2aebf4",
   "metadata": {},
   "outputs": [
    {
     "name": "stdout",
     "output_type": "stream",
     "text": [
      "Alex\n",
      "{'age': 34, 'add': 'John', 'mob': 8977567}\n"
     ]
    }
   ],
   "source": [
    "def person(name, **data):\n",
    "    print(name)\n",
    "    print(data)\n",
    "\n",
    "person('Alex', age = 34, add = 'John',  mob = 8977567)"
   ]
  },
  {
   "cell_type": "code",
   "execution_count": 17,
   "id": "7555c8b4",
   "metadata": {},
   "outputs": [
    {
     "name": "stdout",
     "output_type": "stream",
     "text": [
      "Alex\n",
      "{'age': 34, 'add': 'John', 'mob': 8977567, 'bank': 'icici', 'degree': 'phd'}\n"
     ]
    }
   ],
   "source": [
    "def person(name, **data):\n",
    "    print(name)\n",
    "    print(data)\n",
    "\n",
    "person('Alex', age = 34, add = 'John',  mob = 8977567, bank = 'icici', degree = 'phd')"
   ]
  },
  {
   "cell_type": "code",
   "execution_count": null,
   "id": "2ac40240",
   "metadata": {},
   "outputs": [],
   "source": []
  },
  {
   "cell_type": "code",
   "execution_count": null,
   "id": "5971667e",
   "metadata": {},
   "outputs": [],
   "source": []
  }
 ],
 "metadata": {
  "kernelspec": {
   "display_name": "Python 3",
   "language": "python",
   "name": "python3"
  },
  "language_info": {
   "codemirror_mode": {
    "name": "ipython",
    "version": 3
   },
   "file_extension": ".py",
   "mimetype": "text/x-python",
   "name": "python",
   "nbconvert_exporter": "python",
   "pygments_lexer": "ipython3",
   "version": "3.13.5"
  }
 },
 "nbformat": 4,
 "nbformat_minor": 5
}
