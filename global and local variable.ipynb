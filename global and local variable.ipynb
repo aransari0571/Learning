{
 "cells": [
  {
   "cell_type": "markdown",
   "id": "01b5cb15",
   "metadata": {},
   "source": [
    "# Global variable vs Local variable "
   ]
  },
  {
   "cell_type": "markdown",
   "id": "8ac1b7db",
   "metadata": {},
   "source": [
    "\n",
    "# Local variable \n",
    "# Global variable \n",
    "# Global keyword\n",
    "# Globals()"
   ]
  },
  {
   "cell_type": "code",
   "execution_count": 1,
   "id": "e78032ed",
   "metadata": {},
   "outputs": [
    {
     "name": "stdout",
     "output_type": "stream",
     "text": [
      "10\n"
     ]
    }
   ],
   "source": [
    "a = 10 \n",
    "print(a)\n"
   ]
  },
  {
   "cell_type": "code",
   "execution_count": 2,
   "id": "3551b297",
   "metadata": {},
   "outputs": [],
   "source": [
    "a = 10 # a --- global variable \n",
    "\n",
    "def something():\n",
    "\n",
    "    b = 15 # b --- local vriable\n",
    "\n",
    "    print('In Function', b)\n",
    "    print('Out Function', a)\n",
    "\n"
   ]
  },
  {
   "cell_type": "code",
   "execution_count": 3,
   "id": "27c0a554",
   "metadata": {},
   "outputs": [
    {
     "name": "stdout",
     "output_type": "stream",
     "text": [
      "Out Function 10\n"
     ]
    }
   ],
   "source": [
    "a = 10 # a --- global variable \n",
    "\n",
    "def something():\n",
    "\n",
    "    b = 15 # b --- local vriable\n",
    "\n",
    "    print('In Function', b)\n",
    "\n",
    "\n",
    "print('Out Function', a)\n",
    "\n"
   ]
  },
  {
   "cell_type": "code",
   "execution_count": 4,
   "id": "3930aa0e",
   "metadata": {},
   "outputs": [
    {
     "name": "stdout",
     "output_type": "stream",
     "text": [
      "In Function 10\n",
      "Out Function 10\n"
     ]
    }
   ],
   "source": [
    "a = 10 # a --- global variable \n",
    "\n",
    "def something():\n",
    "\n",
    "    a = 15 # b --- local vriable\n",
    "\n",
    "\n",
    "print('In Function', a)\n",
    "print('Out Function', a)\n",
    "\n"
   ]
  },
  {
   "cell_type": "code",
   "execution_count": 5,
   "id": "0a9dfa6e",
   "metadata": {},
   "outputs": [
    {
     "name": "stdout",
     "output_type": "stream",
     "text": [
      "In Function 15\n",
      "Out Function 10\n"
     ]
    }
   ],
   "source": [
    "a = 10 # a --- global variable \n",
    "\n",
    "def something():\n",
    "\n",
    "    b = 15 # b --- local vriable\n",
    " \n",
    "    print('In Function', b) #local vriable\n",
    "\n",
    "\n",
    "\n",
    "something()\n",
    "print('Out Function', a) # global variable\n",
    "\n",
    "# 1stp prefernec is always local variable\n",
    "\n"
   ]
  },
  {
   "cell_type": "code",
   "execution_count": 6,
   "id": "f3c75bc0",
   "metadata": {},
   "outputs": [
    {
     "name": "stdout",
     "output_type": "stream",
     "text": [
      "In Function 10\n",
      "Out Function 10\n"
     ]
    }
   ],
   "source": [
    "a = 10 # a --- global variable \n",
    "\n",
    "def something():\n",
    "# if we remove this variable then can before it consider as global variable \n",
    "    #a = 15 # b --- local vriable\n",
    "    print('In Function', a)\n",
    "\n",
    "\n",
    "something()\n",
    "print('Out Function', a)\n",
    "\n",
    "# if we dont assign any variable inside the function bydefult both considerd as local variable"
   ]
  },
  {
   "cell_type": "code",
   "execution_count": 7,
   "id": "f7d55805",
   "metadata": {},
   "outputs": [
    {
     "name": "stdout",
     "output_type": "stream",
     "text": [
      "In Function 15\n",
      "Out Function 10\n"
     ]
    }
   ],
   "source": [
    "a = 10 # a --- global variable \n",
    "\n",
    "def something():\n",
    "# if we remove this variable then can before it consider as global variable \n",
    "    b = 15 # b --- local vriable\n",
    "    print('In Function', b)\n",
    "\n",
    "\n",
    "something()\n",
    "print('Out Function', a)\n",
    "\n"
   ]
  },
  {
   "cell_type": "code",
   "execution_count": 8,
   "id": "881c5db6",
   "metadata": {},
   "outputs": [
    {
     "name": "stdout",
     "output_type": "stream",
     "text": [
      "In Function 15\n",
      "Out Function 10\n"
     ]
    }
   ],
   "source": [
    "a = 10 # a --- global variable \n",
    "b = 15 # b --- global variable\n",
    "\n",
    "\n",
    "def something():\n",
    "# if we remove this variable then can before it consider as global variable \n",
    "\n",
    "    print('In Function', b)\n",
    "\n",
    "\n",
    "something()\n",
    "print('Out Function', a)\n",
    "\n"
   ]
  },
  {
   "cell_type": "code",
   "execution_count": 9,
   "id": "f7d79881",
   "metadata": {},
   "outputs": [
    {
     "name": "stdout",
     "output_type": "stream",
     "text": [
      "In Function 15\n",
      "Out Function 10\n"
     ]
    }
   ],
   "source": [
    "a = 10 # a --- global variable \n",
    "b = 25 # b --- global variable\n",
    "\n",
    "\n",
    "def something():\n",
    "# if we remove this variable then can before it consider as global variable \n",
    "    b = 15\n",
    "    print('In Function', b)\n",
    "\n",
    "\n",
    "something()\n",
    "print('Out Function', a)\n",
    "\n"
   ]
  },
  {
   "cell_type": "code",
   "execution_count": 10,
   "id": "950d3c40",
   "metadata": {},
   "outputs": [
    {
     "name": "stdout",
     "output_type": "stream",
     "text": [
      "In Function 15\n",
      "global variable 10\n",
      "Out Function 10\n"
     ]
    }
   ],
   "source": [
    "# if i want to defind globel variable inside thr  function\n",
    "\n",
    "a = 10 # a --- global variable \n",
    "\n",
    "def something():\n",
    "# if we remove this variable then can before it consider as global variable \n",
    "    global c\n",
    "    b = 15 # 15 is converted to local when user assigend a\n",
    "    print('In Function', b)\n",
    "    print('global variable', a)\n",
    "\n",
    "\n",
    "\n",
    "something()\n",
    "print('Out Function', a)\n",
    "\n",
    "\n",
    "# now in this case we dont have local variabel & al variable are global variable only\n"
   ]
  },
  {
   "cell_type": "code",
   "execution_count": 11,
   "metadata": {},
   "outputs": [
    {
     "name": "stdout",
     "output_type": "stream",
     "text": [
      "15\n"
     ]
    }
   ],
   "source": [
    "x = 10 \n",
    "\n",
    "def update_x():\n",
    "    global x # Decleare that we are using the global variable\n",
    "    x += 5 # Mdify the global variable \n",
    "\n",
    "update_x()\n",
    "print(x)"
   ]
  },
  {
   "cell_type": "code",
   "execution_count": 12,
   "id": "d1032dd7",
   "metadata": {},
   "outputs": [
    {
     "name": "stdout",
     "output_type": "stream",
     "text": [
      "10\n"
     ]
    }
   ],
   "source": [
    "x = 10 \n",
    "\n",
    "def update_x():\n",
    "    global x # Decleare that we are using the global variable\n",
    "    x += 0 # Mdify the global variable \n",
    "\n",
    "update_x()\n",
    "print(x)"
   ]
  },
  {
   "cell_type": "code",
   "execution_count": 13,
   "metadata": {},
   "outputs": [
    {
     "name": "stdout",
     "output_type": "stream",
     "text": [
      "30\n"
     ]
    }
   ],
   "source": [
    "x = 10 \n",
    "\n",
    "def update_x():\n",
    "    globals()['x'] += 20 # Mdify the global variable \n",
    "\n",
    "update_x()\n",
    "print(x)"
   ]
  },
  {
   "cell_type": "code",
   "execution_count": 14,
   "id": "79ddf9cb",
   "metadata": {},
   "outputs": [
    {
     "data": {
      "text/plain": [
       "['False',\n",
       " 'None',\n",
       " 'True',\n",
       " 'and',\n",
       " 'as',\n",
       " 'assert',\n",
       " 'async',\n",
       " 'await',\n",
       " 'break',\n",
       " 'class',\n",
       " 'continue',\n",
       " 'def',\n",
       " 'del',\n",
       " 'elif',\n",
       " 'else',\n",
       " 'except',\n",
       " 'finally',\n",
       " 'for',\n",
       " 'from',\n",
       " 'global',\n",
       " 'if',\n",
       " 'import',\n",
       " 'in',\n",
       " 'is',\n",
       " 'lambda',\n",
       " 'nonlocal',\n",
       " 'not',\n",
       " 'or',\n",
       " 'pass',\n",
       " 'raise',\n",
       " 'return',\n",
       " 'try',\n",
       " 'while',\n",
       " 'with',\n",
       " 'yield']"
      ]
     },
     "execution_count": 14,
     "metadata": {},
     "output_type": "execute_result"
    }
   ],
   "source": [
    "import keyword\n",
    "keyword.kwlist"
   ]
  },
  {
   "cell_type": "markdown",
   "id": "99591c84",
   "metadata": {},
   "source": [
    "# How to pass list to a function"
   ]
  },
  {
   "cell_type": "code",
   "execution_count": 15,
   "metadata": {},
   "outputs": [
    {
     "name": "stdout",
     "output_type": "stream",
     "text": [
      "6\n",
      "3\n"
     ]
    }
   ],
   "source": [
    "def count(lst):\n",
    "\n",
    "    even = 0\n",
    "    odd = 0 \n",
    "\n",
    "    for i in lst:\n",
    "        if i%2 == 0:\n",
    "            even += 1\n",
    "        else:\n",
    "            odd += 1\n",
    "    return even,odd \n",
    "\n",
    "lst = [10,3,4,5,6,2,7,64,8]\n",
    "even, odd = count(lst)\n",
    "\n",
    "print(even)\n",
    "print(odd)\n",
    "\n"
   ]
  },
  {
   "cell_type": "code",
   "execution_count": 19,
   "metadata": {},
   "outputs": [
    {
     "name": "stdout",
     "output_type": "stream",
     "text": [
      "Even Number: 8 \n",
      " Odd Number : 6\n"
     ]
    }
   ],
   "source": [
    "def count(lst):\n",
    "\n",
    "    even = 0\n",
    "    odd = 0 \n",
    "\n",
    "    for i in lst:\n",
    "        if i%2 == 0:\n",
    "            even += 1\n",
    "        else:\n",
    "            odd += 1\n",
    "    return even,odd \n",
    "\n",
    "lst = [10,3,4,5,6,2,7,64,8 ,11,13,15,14,18]\n",
    "even, odd = count(lst)\n",
    "\n",
    "print(\"Even Number: {} \\n Odd Number : {}\".format(even,odd))\n",
    "# format is function belongs to string & bydefault you need to pass any parameter\n",
    "\n"
   ]
  }
 ],
 "metadata": {
  "kernelspec": {
   "display_name": "Python 3",
   "language": "python",
   "name": "python3"
  },
  "language_info": {
   "codemirror_mode": {
    "name": "ipython",
    "version": 3
   },
   "file_extension": ".py",
   "mimetype": "text/x-python",
   "name": "python",
   "nbconvert_exporter": "python",
   "pygments_lexer": "ipython3",
   "version": "3.13.5"
  }
 },
 "nbformat": 4,
 "nbformat_minor": 5
}
