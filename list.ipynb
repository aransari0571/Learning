{
 "cells": [
  {
   "cell_type": "code",
   "execution_count": 2,
   "id": "24334bfe",
   "metadata": {},
   "outputs": [
    {
     "data": {
      "text/plain": [
       "[]"
      ]
     },
     "execution_count": 2,
     "metadata": {},
     "output_type": "execute_result"
    }
   ],
   "source": [
    "l2=[]\n",
    "l2\n"
   ]
  },
  {
   "cell_type": "code",
   "execution_count": 3,
   "id": "320f93c8",
   "metadata": {},
   "outputs": [
    {
     "ename": "NameError",
     "evalue": "name 'l' is not defined",
     "output_type": "error",
     "traceback": [
      "\u001b[31m---------------------------------------------------------------------------\u001b[39m",
      "\u001b[31mNameError\u001b[39m                                 Traceback (most recent call last)",
      "\u001b[36mCell\u001b[39m\u001b[36m \u001b[39m\u001b[32mIn[3]\u001b[39m\u001b[32m, line 1\u001b[39m\n\u001b[32m----> \u001b[39m\u001b[32m1\u001b[39m \u001b[38;5;28mtype\u001b[39m(\u001b[43ml\u001b[49m)  \u001b[38;5;66;03m# This will show the type of the variable 'l'\u001b[39;00m\n",
      "\u001b[31mNameError\u001b[39m: name 'l' is not defined"
     ]
    }
   ],
   "source": [
    "type(l)  # This will show the type of the variable 'l'"
   ]
  },
  {
   "cell_type": "code",
   "execution_count": null,
   "id": "ea8ac809",
   "metadata": {},
   "outputs": [],
   "source": [
    "l2.append(10) \n",
    "l2.append(40)\n",
    "l2.append(12.5) \n",
    "l2.append(20) \n",
    "l2.append(23) # Adding an element to the list\n",
    "l2.append(30) \n",
    "l2.append(\"hello\")\n",
    "l2.append(\"1+4j\") \n",
    "l2.append([3,4,5,6]) # Adding a string element to the list\n",
    "# Adding an element to the list]"
   ]
  },
  {
   "cell_type": "code",
   "execution_count": null,
   "id": "77036f5f",
   "metadata": {},
   "outputs": [
    {
     "data": {
      "text/plain": [
       "[10, 40, 12.5, 20, 23, 30, 'hello', '1+4j', [3, 4, 5, 6]]"
      ]
     },
     "execution_count": 27,
     "metadata": {},
     "output_type": "execute_result"
    }
   ],
   "source": [
    "l2"
   ]
  },
  {
   "cell_type": "code",
   "execution_count": null,
   "id": "e6798e5d",
   "metadata": {},
   "outputs": [
    {
     "data": {
      "text/plain": [
       "4"
      ]
     },
     "execution_count": 5,
     "metadata": {},
     "output_type": "execute_result"
    }
   ],
   "source": [
    "len(l)  # This will return the length of the list 'l'"
   ]
  },
  {
   "cell_type": "code",
   "execution_count": null,
   "id": "e36b6db4",
   "metadata": {},
   "outputs": [
    {
     "data": {
      "text/plain": [
       "[10, 20, 30, 40]"
      ]
     },
     "execution_count": 6,
     "metadata": {},
     "output_type": "execute_result"
    }
   ],
   "source": [
    "l"
   ]
  },
  {
   "cell_type": "code",
   "execution_count": null,
   "id": "325d6788",
   "metadata": {},
   "outputs": [
    {
     "data": {
      "text/plain": [
       "[10, 20, 30, 40]"
      ]
     },
     "execution_count": 7,
     "metadata": {},
     "output_type": "execute_result"
    }
   ],
   "source": [
    "l1=l.copy()\n",
    "l1  # This will create a copy of the list 'l'"
   ]
  },
  {
   "cell_type": "code",
   "execution_count": null,
   "id": "2e0f6b8f",
   "metadata": {},
   "outputs": [
    {
     "data": {
      "text/plain": [
       "True"
      ]
     },
     "execution_count": 8,
     "metadata": {},
     "output_type": "execute_result"
    }
   ],
   "source": [
    "l==l1"
   ]
  },
  {
   "cell_type": "code",
   "execution_count": null,
   "id": "c56ee764",
   "metadata": {},
   "outputs": [
    {
     "data": {
      "text/plain": [
       "False"
      ]
     },
     "execution_count": 9,
     "metadata": {},
     "output_type": "execute_result"
    }
   ],
   "source": [
    "l!=l1"
   ]
  },
  {
   "cell_type": "code",
   "execution_count": null,
   "id": "fd23b8e2",
   "metadata": {},
   "outputs": [
    {
     "name": "stdout",
     "output_type": "stream",
     "text": [
      "4\n",
      "4\n"
     ]
    }
   ],
   "source": [
    "print(len(l)) \n",
    "print(len(l1)) # This will print the length of the list 'l'"
   ]
  },
  {
   "cell_type": "code",
   "execution_count": null,
   "id": "bef0f28e",
   "metadata": {},
   "outputs": [
    {
     "name": "stdout",
     "output_type": "stream",
     "text": [
      "[10, 20, 30, 40]\n",
      "[10, 20, 30, 40]\n"
     ]
    }
   ],
   "source": [
    "print(l)  # This will print the contents of the list 'l'\n",
    "print(l1)  # This will print the contents of the copied list 'l1'"
   ]
  },
  {
   "cell_type": "code",
   "execution_count": null,
   "id": "d5df896d",
   "metadata": {},
   "outputs": [
    {
     "data": {
      "text/plain": [
       "2028369897152"
      ]
     },
     "execution_count": 12,
     "metadata": {},
     "output_type": "execute_result"
    }
   ],
   "source": [
    "id(l)  # This will return the memory address of the list 'l' same as id(l1)\n",
    "id(l1)  # This will return the memory address of the copied list 'l1"
   ]
  },
  {
   "cell_type": "code",
   "execution_count": null,
   "id": "3a2b7175",
   "metadata": {},
   "outputs": [],
   "source": [
    "l1.clear()  # This will clear the contents of the copied list 'l1'"
   ]
  },
  {
   "cell_type": "code",
   "execution_count": null,
   "id": "b500f411",
   "metadata": {},
   "outputs": [
    {
     "data": {
      "text/plain": [
       "[]"
      ]
     },
     "execution_count": 14,
     "metadata": {},
     "output_type": "execute_result"
    }
   ],
   "source": [
    "l1"
   ]
  },
  {
   "cell_type": "code",
   "execution_count": null,
   "id": "30af9d3b",
   "metadata": {},
   "outputs": [
    {
     "data": {
      "text/plain": [
       "2028376182912"
      ]
     },
     "execution_count": 31,
     "metadata": {},
     "output_type": "execute_result"
    }
   ],
   "source": [
    "id(l2)  # This will return the length of the list 'l'"
   ]
  },
  {
   "cell_type": "code",
   "execution_count": null,
   "id": "2d3ce560",
   "metadata": {},
   "outputs": [
    {
     "data": {
      "text/plain": [
       "9"
      ]
     },
     "execution_count": 30,
     "metadata": {},
     "output_type": "execute_result"
    }
   ],
   "source": [
    "len(l2)"
   ]
  },
  {
   "cell_type": "code",
   "execution_count": 12,
   "id": "d3c7d9ef",
   "metadata": {},
   "outputs": [
    {
     "data": {
      "text/plain": [
       "[]"
      ]
     },
     "execution_count": 12,
     "metadata": {},
     "output_type": "execute_result"
    }
   ],
   "source": [
    "l2"
   ]
  },
  {
   "cell_type": "markdown",
   "id": "1c1ee9e8",
   "metadata": {},
   "source": [
    "# string indexing\n",
    "# forward indexing\n",
    "# backward indexing\n",
    "# step indexing\n",
    "\n",
    "\n"
   ]
  },
  {
   "cell_type": "code",
   "execution_count": null,
   "id": "4e2a653d",
   "metadata": {},
   "outputs": [
    {
     "data": {
      "text/plain": [
       "'hello world'"
      ]
     },
     "execution_count": 39,
     "metadata": {},
     "output_type": "execute_result"
    }
   ],
   "source": [
    "\n",
    "z=\"hello world\"\n",
    "z"
   ]
  },
  {
   "cell_type": "code",
   "execution_count": null,
   "id": "97165438",
   "metadata": {},
   "outputs": [
    {
     "data": {
      "text/plain": [
       "'h'"
      ]
     },
     "execution_count": 40,
     "metadata": {},
     "output_type": "execute_result"
    }
   ],
   "source": [
    "z[0]"
   ]
  },
  {
   "cell_type": "code",
   "execution_count": null,
   "id": "e08698d5",
   "metadata": {},
   "outputs": [
    {
     "data": {
      "text/plain": [
       "'d'"
      ]
     },
     "execution_count": 41,
     "metadata": {},
     "output_type": "execute_result"
    }
   ],
   "source": [
    "z[-1]"
   ]
  },
  {
   "cell_type": "code",
   "execution_count": null,
   "id": "85ac17cb",
   "metadata": {},
   "outputs": [
    {
     "data": {
      "text/plain": [
       "'h'"
      ]
     },
     "execution_count": 42,
     "metadata": {},
     "output_type": "execute_result"
    }
   ],
   "source": [
    "z[-0]"
   ]
  },
  {
   "cell_type": "code",
   "execution_count": null,
   "id": "2822dfde",
   "metadata": {},
   "outputs": [
    {
     "ename": "IndexError",
     "evalue": "string index out of range",
     "output_type": "error",
     "traceback": [
      "\u001b[31m---------------------------------------------------------------------------\u001b[39m",
      "\u001b[31mIndexError\u001b[39m                                Traceback (most recent call last)",
      "\u001b[36mCell\u001b[39m\u001b[36m \u001b[39m\u001b[32mIn[43]\u001b[39m\u001b[32m, line 1\u001b[39m\n\u001b[32m----> \u001b[39m\u001b[32m1\u001b[39m \u001b[43mz\u001b[49m\u001b[43m[\u001b[49m\u001b[32;43m15\u001b[39;49m\u001b[43m]\u001b[49m\n",
      "\u001b[31mIndexError\u001b[39m: string index out of range"
     ]
    }
   ],
   "source": [
    "z[15]"
   ]
  },
  {
   "cell_type": "code",
   "execution_count": null,
   "id": "93d8558b",
   "metadata": {},
   "outputs": [
    {
     "data": {
      "text/plain": [
       "'hello'"
      ]
     },
     "execution_count": 44,
     "metadata": {},
     "output_type": "execute_result"
    }
   ],
   "source": [
    "z[0:5]"
   ]
  },
  {
   "cell_type": "code",
   "execution_count": null,
   "id": "db239f12",
   "metadata": {},
   "outputs": [
    {
     "data": {
      "text/plain": [
       "'hello wo'"
      ]
     },
     "execution_count": 45,
     "metadata": {},
     "output_type": "execute_result"
    }
   ],
   "source": [
    "z[0:8]"
   ]
  },
  {
   "cell_type": "code",
   "execution_count": null,
   "id": "7b0220d1",
   "metadata": {},
   "outputs": [
    {
     "data": {
      "text/plain": [
       "'world'"
      ]
     },
     "execution_count": 46,
     "metadata": {},
     "output_type": "execute_result"
    }
   ],
   "source": [
    "z[6:15]"
   ]
  },
  {
   "cell_type": "code",
   "execution_count": null,
   "id": "1478ae8d",
   "metadata": {},
   "outputs": [
    {
     "data": {
      "text/plain": [
       "'hello world'"
      ]
     },
     "execution_count": 47,
     "metadata": {},
     "output_type": "execute_result"
    }
   ],
   "source": [
    "z"
   ]
  },
  {
   "cell_type": "code",
   "execution_count": null,
   "id": "9a0f4b8b",
   "metadata": {},
   "outputs": [
    {
     "name": "stdout",
     "output_type": "stream",
     "text": [
      "h\n",
      "e\n",
      "l\n",
      "l\n",
      "o\n",
      " \n",
      "w\n",
      "o\n",
      "r\n",
      "l\n",
      "d\n"
     ]
    },
    {
     "ename": "IndexError",
     "evalue": "string index out of range",
     "output_type": "error",
     "traceback": [
      "\u001b[31m---------------------------------------------------------------------------\u001b[39m",
      "\u001b[31mIndexError\u001b[39m                                Traceback (most recent call last)",
      "\u001b[36mCell\u001b[39m\u001b[36m \u001b[39m\u001b[32mIn[49]\u001b[39m\u001b[32m, line 12\u001b[39m\n\u001b[32m     10\u001b[39m \u001b[38;5;28mprint\u001b[39m(z[\u001b[32m9\u001b[39m])\n\u001b[32m     11\u001b[39m \u001b[38;5;28mprint\u001b[39m(z[\u001b[32m10\u001b[39m])\n\u001b[32m---> \u001b[39m\u001b[32m12\u001b[39m \u001b[38;5;28mprint\u001b[39m(\u001b[43mz\u001b[49m\u001b[43m[\u001b[49m\u001b[32;43m11\u001b[39;49m\u001b[43m]\u001b[49m)\n",
      "\u001b[31mIndexError\u001b[39m: string index out of range"
     ]
    }
   ],
   "source": [
    "print(z[0])\n",
    "print(z[1])\n",
    "print(z[2])\n",
    "print(z[3])\n",
    "print(z[4])\n",
    "print(z[5])\n",
    "print(z[6])\n",
    "print(z[7])\n",
    "print(z[8])\n",
    "print(z[9])\n",
    "print(z[10])\n",
    "print(z[11])\n"
   ]
  },
  {
   "cell_type": "code",
   "execution_count": null,
   "id": "fc069368",
   "metadata": {},
   "outputs": [
    {
     "name": "stdout",
     "output_type": "stream",
     "text": [
      "h\n",
      "e\n",
      "l\n",
      "l\n",
      "o\n",
      " \n",
      "w\n",
      "o\n",
      "r\n",
      "l\n",
      "d\n"
     ]
    }
   ],
   "source": [
    "for i in range(11):\n",
    "    print(z[i])  # This will print each character in the string 'z'"
   ]
  },
  {
   "cell_type": "code",
   "execution_count": 14,
   "id": "178dc6ea",
   "metadata": {},
   "outputs": [
    {
     "data": {
      "text/plain": [
       "['hello', 10, 12.5, 20, 23, 30, '1+4j', [3, 4, 5, 6]]"
      ]
     },
     "execution_count": 14,
     "metadata": {},
     "output_type": "execute_result"
    }
   ],
   "source": [
    "l2=[\"hello\", 10, 12.5, 20, 23, 30, \"1+4j\", [3, 4, 5, 6]] \n",
    "l2 # This will create a list 'l2' with mixed data types"
   ]
  },
  {
   "cell_type": "code",
   "execution_count": 15,
   "id": "a5d9c9eb",
   "metadata": {},
   "outputs": [
    {
     "data": {
      "text/plain": [
       "['hello', 10, 12.5, 20, 23, 30, '1+4j', [3, 4, 5, 6]]"
      ]
     },
     "execution_count": 15,
     "metadata": {},
     "output_type": "execute_result"
    }
   ],
   "source": [
    "l2"
   ]
  },
  {
   "cell_type": "code",
   "execution_count": 17,
   "id": "a18d8589",
   "metadata": {},
   "outputs": [
    {
     "data": {
      "text/plain": [
       "['hello', 10, 12.5, 20, 23, 30, '1+4j', [3, 4, 5, 6]]"
      ]
     },
     "execution_count": 17,
     "metadata": {},
     "output_type": "execute_result"
    }
   ],
   "source": [
    "list1=[\"hello\", 10, 12.5, 20, 23, 30, \"1+4j\", [3, 4, 5, 6]]\n",
    "list1"
   ]
  },
  {
   "cell_type": "code",
   "execution_count": 18,
   "id": "d5bb7f93",
   "metadata": {},
   "outputs": [
    {
     "data": {
      "text/plain": [
       "list"
      ]
     },
     "execution_count": 18,
     "metadata": {},
     "output_type": "execute_result"
    }
   ],
   "source": [
    "type(l2)\n",
    "type(list1)  # This will show the type of the variable 'list1'"
   ]
  },
  {
   "cell_type": "code",
   "execution_count": 19,
   "id": "54cda462",
   "metadata": {},
   "outputs": [],
   "source": [
    "del l2  # This will delete the list 'l2'"
   ]
  },
  {
   "cell_type": "code",
   "execution_count": 20,
   "id": "c2dc9be5",
   "metadata": {},
   "outputs": [
    {
     "data": {
      "text/plain": [
       "['hello', 10, 12.5, 20, 23, 30, '1+4j', [3, 4, 5, 6], 50]"
      ]
     },
     "execution_count": 20,
     "metadata": {},
     "output_type": "execute_result"
    }
   ],
   "source": [
    "list1.append(50) \n",
    "list1 # This will add the element 50 to the end of the list 'list1'"
   ]
  },
  {
   "cell_type": "code",
   "execution_count": 21,
   "id": "b5b980d2",
   "metadata": {},
   "outputs": [
    {
     "data": {
      "text/plain": [
       "1"
      ]
     },
     "execution_count": 21,
     "metadata": {},
     "output_type": "execute_result"
    }
   ],
   "source": [
    "list1.count(10)"
   ]
  },
  {
   "cell_type": "code",
   "execution_count": 23,
   "id": "e1af1f2f",
   "metadata": {},
   "outputs": [
    {
     "data": {
      "text/plain": [
       "1"
      ]
     },
     "execution_count": 23,
     "metadata": {},
     "output_type": "execute_result"
    }
   ],
   "source": [
    "list1.count('hello')"
   ]
  },
  {
   "cell_type": "code",
   "execution_count": 24,
   "id": "d39c0b16",
   "metadata": {},
   "outputs": [
    {
     "data": {
      "text/plain": [
       "['hello', 10, 12.5, 20, 23, 30, '1+4j', [3, 4, 5, 6], 50]"
      ]
     },
     "execution_count": 24,
     "metadata": {},
     "output_type": "execute_result"
    }
   ],
   "source": [
    "list1"
   ]
  },
  {
   "cell_type": "code",
   "execution_count": 25,
   "metadata": {},
   "outputs": [],
   "source": [
    "list1.remove(50)"
   ]
  },
  {
   "cell_type": "code",
   "execution_count": 26,
   "metadata": {},
   "outputs": [
    {
     "data": {
      "text/plain": [
       "['hello', 10, 12.5, 20, 23, 30, '1+4j', [3, 4, 5, 6]]"
      ]
     },
     "execution_count": 26,
     "metadata": {},
     "output_type": "execute_result"
    }
   ],
   "source": [
    "list1"
   ]
  },
  {
   "cell_type": "code",
   "execution_count": 27,
   "metadata": {},
   "outputs": [
    {
     "data": {
      "text/plain": [
       "[3, 4, 5, 6]"
      ]
     },
     "execution_count": 27,
     "metadata": {},
     "output_type": "execute_result"
    }
   ],
   "source": [
    "list1.pop()"
   ]
  },
  {
   "cell_type": "code",
   "execution_count": 28,
   "id": "5502824f",
   "metadata": {},
   "outputs": [
    {
     "data": {
      "text/plain": [
       "['hello', 10, 12.5, 20, 23, 30, '1+4j']"
      ]
     },
     "execution_count": 28,
     "metadata": {},
     "output_type": "execute_result"
    }
   ],
   "source": [
    "list1"
   ]
  },
  {
   "cell_type": "code",
   "execution_count": 29,
   "metadata": {},
   "outputs": [
    {
     "data": {
      "text/plain": [
       "'1+4j'"
      ]
     },
     "execution_count": 29,
     "metadata": {},
     "output_type": "execute_result"
    }
   ],
   "source": [
    "list1.pop()"
   ]
  },
  {
   "cell_type": "code",
   "execution_count": 30,
   "id": "3ae07172",
   "metadata": {},
   "outputs": [
    {
     "data": {
      "text/plain": [
       "['hello', 10, 12.5, 20, 23, 30]"
      ]
     },
     "execution_count": 30,
     "metadata": {},
     "output_type": "execute_result"
    }
   ],
   "source": [
    "list1"
   ]
  },
  {
   "cell_type": "code",
   "execution_count": 31,
   "id": "42713fe6",
   "metadata": {},
   "outputs": [],
   "source": [
    "list1.remove(20)"
   ]
  },
  {
   "cell_type": "code",
   "execution_count": 32,
   "metadata": {},
   "outputs": [
    {
     "data": {
      "text/plain": [
       "['hello', 10, 12.5, 23, 30]"
      ]
     },
     "execution_count": 32,
     "metadata": {},
     "output_type": "execute_result"
    }
   ],
   "source": [
    "list1"
   ]
  },
  {
   "cell_type": "code",
   "execution_count": 34,
   "id": "77a74908",
   "metadata": {},
   "outputs": [],
   "source": [
    "list2=list1.copy()  # This will create a copy of the list 'list1'"
   ]
  },
  {
   "cell_type": "code",
   "execution_count": 35,
   "id": "30300505",
   "metadata": {},
   "outputs": [
    {
     "data": {
      "text/plain": [
       "['hello', 10, 12.5, 23, 30]"
      ]
     },
     "execution_count": 35,
     "metadata": {},
     "output_type": "execute_result"
    }
   ],
   "source": [
    "list2"
   ]
  },
  {
   "cell_type": "code",
   "execution_count": 36,
   "id": "3c30c5c8",
   "metadata": {},
   "outputs": [
    {
     "data": {
      "text/plain": [
       "['hello', 10, 12.5, 23, 30, 'hello', 10, 12.5, 23, 30]"
      ]
     },
     "execution_count": 36,
     "metadata": {},
     "output_type": "execute_result"
    }
   ],
   "source": [
    "list3=list1+ list2\n",
    "list3  # This will concatenate 'list1' and 'list2'"
   ]
  },
  {
   "cell_type": "code",
   "execution_count": 37,
   "id": "5167f516",
   "metadata": {},
   "outputs": [],
   "source": [
    "del list2"
   ]
  },
  {
   "cell_type": "code",
   "execution_count": 38,
   "id": "e8910069",
   "metadata": {},
   "outputs": [
    {
     "data": {
      "text/plain": [
       "['hello', 10, 12.5, 23, 30, 'hello', 10, 12.5, 23, 30]"
      ]
     },
     "execution_count": 38,
     "metadata": {},
     "output_type": "execute_result"
    }
   ],
   "source": [
    "list3"
   ]
  },
  {
   "cell_type": "code",
   "execution_count": 39,
   "metadata": {},
   "outputs": [
    {
     "data": {
      "text/plain": [
       "['hello', 10, 12.5, 23, 30]"
      ]
     },
     "execution_count": 39,
     "metadata": {},
     "output_type": "execute_result"
    }
   ],
   "source": [
    "list1"
   ]
  },
  {
   "cell_type": "code",
   "execution_count": 40,
   "metadata": {},
   "outputs": [
    {
     "data": {
      "text/plain": [
       "0"
      ]
     },
     "execution_count": 40,
     "metadata": {},
     "output_type": "execute_result"
    }
   ],
   "source": [
    "list3.index('hello')  # This will return the index of the first occurrence of 'hello' in 'list3'"
   ]
  },
  {
   "cell_type": "code",
   "execution_count": 41,
   "metadata": {},
   "outputs": [
    {
     "data": {
      "text/plain": [
       "4"
      ]
     },
     "execution_count": 41,
     "metadata": {},
     "output_type": "execute_result"
    }
   ],
   "source": [
    "list1.index(30)"
   ]
  },
  {
   "cell_type": "code",
   "execution_count": 42,
   "metadata": {},
   "outputs": [],
   "source": [
    "list1.insert(4,55)"
   ]
  },
  {
   "cell_type": "code",
   "execution_count": 43,
   "id": "b12667ea",
   "metadata": {},
   "outputs": [
    {
     "data": {
      "text/plain": [
       "['hello', 10, 12.5, 23, 55, 30]"
      ]
     },
     "execution_count": 43,
     "metadata": {},
     "output_type": "execute_result"
    }
   ],
   "source": [
    "list1"
   ]
  },
  {
   "cell_type": "code",
   "execution_count": 44,
   "metadata": {},
   "outputs": [
    {
     "data": {
      "text/plain": [
       "['hello', 10, 12.5, 23, 30, 'hello', 10, 12.5, 23, 30]"
      ]
     },
     "execution_count": 44,
     "metadata": {},
     "output_type": "execute_result"
    }
   ],
   "source": [
    "list3"
   ]
  },
  {
   "cell_type": "code",
   "execution_count": 46,
   "metadata": {},
   "outputs": [],
   "source": [
    "list3.insert(3,'hi')"
   ]
  },
  {
   "cell_type": "code",
   "execution_count": 47,
   "id": "b60eadcc",
   "metadata": {},
   "outputs": [
    {
     "data": {
      "text/plain": [
       "['hello', 10, 12.5, 'hi', 23, 30, 'hello', 10, 12.5, 23, 30]"
      ]
     },
     "execution_count": 47,
     "metadata": {},
     "output_type": "execute_result"
    }
   ],
   "source": [
    "list3"
   ]
  },
  {
   "cell_type": "code",
   "execution_count": 48,
   "id": "ec9d726b",
   "metadata": {},
   "outputs": [],
   "source": [
    "list3.extend(\"hello\")  # This will extend 'list3' with the characters of the string \"hello\""
   ]
  },
  {
   "cell_type": "code",
   "execution_count": 49,
   "metadata": {},
   "outputs": [
    {
     "data": {
      "text/plain": [
       "['hello',\n",
       " 10,\n",
       " 12.5,\n",
       " 'hi',\n",
       " 23,\n",
       " 30,\n",
       " 'hello',\n",
       " 10,\n",
       " 12.5,\n",
       " 23,\n",
       " 30,\n",
       " 'h',\n",
       " 'e',\n",
       " 'l',\n",
       " 'l',\n",
       " 'o']"
      ]
     },
     "execution_count": 49,
     "metadata": {},
     "output_type": "execute_result"
    }
   ],
   "source": [
    "list3"
   ]
  },
  {
   "cell_type": "code",
   "execution_count": 51,
   "id": "2009b25d",
   "metadata": {},
   "outputs": [],
   "source": [
    "list1.extend(\"hello\")  # This will extend 'list1' with the characters of the string \"hello\""
   ]
  },
  {
   "cell_type": "code",
   "execution_count": 52,
   "id": "ba30c972",
   "metadata": {},
   "outputs": [
    {
     "data": {
      "text/plain": [
       "['hello', 10, 12.5, 23, 55, 30, 'h', 'e', 'l', 'l', 'o']"
      ]
     },
     "execution_count": 52,
     "metadata": {},
     "output_type": "execute_result"
    }
   ],
   "source": [
    "list1"
   ]
  },
  {
   "cell_type": "code",
   "execution_count": 53,
   "id": "1a767c67",
   "metadata": {},
   "outputs": [],
   "source": [
    "list1.reverse()"
   ]
  },
  {
   "cell_type": "code",
   "execution_count": 54,
   "id": "8aafbf7f",
   "metadata": {},
   "outputs": [
    {
     "data": {
      "text/plain": [
       "['o', 'l', 'l', 'e', 'h', 30, 55, 23, 12.5, 10, 'hello']"
      ]
     },
     "execution_count": 54,
     "metadata": {},
     "output_type": "execute_result"
    }
   ],
   "source": [
    "list1"
   ]
  },
  {
   "cell_type": "code",
   "execution_count": 61,
   "metadata": {},
   "outputs": [
    {
     "data": {
      "text/plain": [
       "[10, 25, 37, 43, 15]"
      ]
     },
     "execution_count": 61,
     "metadata": {},
     "output_type": "execute_result"
    }
   ],
   "source": [
    "list4=[10, 25, 37, 43, 15]\n",
    "list4  # This will create a tuple 'list4'"
   ]
  },
  {
   "cell_type": "code",
   "execution_count": 62,
   "metadata": {},
   "outputs": [
    {
     "data": {
      "text/plain": [
       "[10, 25, 37, 43, 15]"
      ]
     },
     "execution_count": 62,
     "metadata": {},
     "output_type": "execute_result"
    }
   ],
   "source": [
    "list4"
   ]
  },
  {
   "cell_type": "code",
   "execution_count": 63,
   "metadata": {},
   "outputs": [
    {
     "data": {
      "text/plain": [
       "[10, 15, 25, 37, 43]"
      ]
     },
     "execution_count": 63,
     "metadata": {},
     "output_type": "execute_result"
    }
   ],
   "source": [
    "list4.sort()\n",
    "list4  # This will sort 'list4' in descending order"
   ]
  },
  {
   "cell_type": "code",
   "execution_count": 64,
   "metadata": {},
   "outputs": [
    {
     "data": {
      "text/plain": [
       "[43, 37, 25, 15, 10]"
      ]
     },
     "execution_count": 64,
     "metadata": {},
     "output_type": "execute_result"
    }
   ],
   "source": [
    "list4.sort(reverse=True)\n",
    "list4  # This will sort 'list4' in reverse order"
   ]
  },
  {
   "cell_type": "code",
   "execution_count": 67,
   "metadata": {},
   "outputs": [],
   "source": [
    "list4[2]=333"
   ]
  },
  {
   "cell_type": "code",
   "execution_count": 68,
   "metadata": {},
   "outputs": [
    {
     "data": {
      "text/plain": [
       "[43, 37, 333, 15, 10]"
      ]
     },
     "execution_count": 68,
     "metadata": {},
     "output_type": "execute_result"
    }
   ],
   "source": [
    "list4"
   ]
  },
  {
   "cell_type": "code",
   "execution_count": 69,
   "id": "974fca39",
   "metadata": {},
   "outputs": [],
   "source": [
    "list4.sort()"
   ]
  },
  {
   "cell_type": "code",
   "execution_count": 70,
   "metadata": {},
   "outputs": [
    {
     "data": {
      "text/plain": [
       "[10, 15, 37, 43, 333]"
      ]
     },
     "execution_count": 70,
     "metadata": {},
     "output_type": "execute_result"
    }
   ],
   "source": [
    "list4"
   ]
  },
  {
   "cell_type": "code",
   "execution_count": 71,
   "metadata": {},
   "outputs": [],
   "source": [
    "list4.sort(reverse=True)  # This will sort 'list4' in reverse order"
   ]
  },
  {
   "cell_type": "code",
   "execution_count": 72,
   "metadata": {},
   "outputs": [
    {
     "data": {
      "text/plain": [
       "[333, 43, 37, 15, 10]"
      ]
     },
     "execution_count": 72,
     "metadata": {},
     "output_type": "execute_result"
    }
   ],
   "source": [
    "list4"
   ]
  }
 ],
 "metadata": {
  "kernelspec": {
   "display_name": "playground",
   "language": "python",
   "name": "python3"
  },
  "language_info": {
   "codemirror_mode": {
    "name": "ipython",
    "version": 3
   },
   "file_extension": ".py",
   "mimetype": "text/x-python",
   "name": "python",
   "nbconvert_exporter": "python",
   "pygments_lexer": "ipython3",
   "version": "3.13.5"
  }
 },
 "nbformat": 4,
 "nbformat_minor": 5
}
