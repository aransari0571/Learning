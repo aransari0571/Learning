{
 "cells": [
  {
   "cell_type": "code",
   "execution_count": 4,
   "id": "776a8541",
   "metadata": {},
   "outputs": [
    {
     "data": {
      "text/plain": [
       "dict"
      ]
     },
     "execution_count": 4,
     "metadata": {},
     "output_type": "execute_result"
    }
   ],
   "source": [
    "s = {}\n",
    "type(s)#set and dict are both as assing with {}"
   ]
  },
  {
   "cell_type": "code",
   "execution_count": 5,
   "id": "21b28090",
   "metadata": {},
   "outputs": [
    {
     "data": {
      "text/plain": [
       "set()"
      ]
     },
     "execution_count": 5,
     "metadata": {},
     "output_type": "execute_result"
    }
   ],
   "source": [
    "s1 = set()# Create an empty set and deffine\n",
    "s1"
   ]
  },
  {
   "cell_type": "code",
   "execution_count": 6,
   "id": "2ed03924",
   "metadata": {},
   "outputs": [
    {
     "data": {
      "text/plain": [
       "()"
      ]
     },
     "execution_count": 6,
     "metadata": {},
     "output_type": "execute_result"
    }
   ],
   "source": [
    "s2 = tuple()# Create an empty tuple and define\n",
    "s2"
   ]
  },
  {
   "cell_type": "code",
   "execution_count": 7,
   "id": "ffd06dc7",
   "metadata": {},
   "outputs": [
    {
     "data": {
      "text/plain": [
       "[]"
      ]
     },
     "execution_count": 7,
     "metadata": {},
     "output_type": "execute_result"
    }
   ],
   "source": [
    "s3 = list()# Create an empty list and define\n",
    "s3"
   ]
  },
  {
   "cell_type": "code",
   "execution_count": 8,
   "id": "193f64ba",
   "metadata": {},
   "outputs": [
    {
     "data": {
      "text/plain": [
       "{2, 3, 4, 6, 8, 32, 48, 78}"
      ]
     },
     "execution_count": 8,
     "metadata": {},
     "output_type": "execute_result"
    }
   ],
   "source": [
    "s1 = {48,78,32,6,4,3,2,8,}\n",
    "s1"
   ]
  },
  {
   "cell_type": "code",
   "execution_count": 9,
   "id": "29597ff1",
   "metadata": {},
   "outputs": [
    {
     "data": {
      "text/plain": [
       "set"
      ]
     },
     "execution_count": 9,
     "metadata": {},
     "output_type": "execute_result"
    }
   ],
   "source": [
    "type(s1)"
   ]
  },
  {
   "cell_type": "code",
   "execution_count": 10,
   "id": "c167b7e6",
   "metadata": {},
   "outputs": [
    {
     "data": {
      "text/plain": [
       "{'a', 'b', 'c', 'd', 'e', 'f', 'g', 'h', 'i', 'j', 'z'}"
      ]
     },
     "execution_count": 10,
     "metadata": {},
     "output_type": "execute_result"
    }
   ],
   "source": [
    "s2 = {'z','c','a','b','d','e','f','g','h','i','j'}\n",
    "s2"
   ]
  },
  {
   "cell_type": "code",
   "execution_count": 11,
   "id": "f6e5f1d8",
   "metadata": {},
   "outputs": [
    {
     "name": "stdout",
     "output_type": "stream",
     "text": [
      "{32, 2, 3, 4, 6, 8, 78, 48}\n",
      "{'f', 'g', 'c', 'd', 'h', 'i', 'e', 'a', 'j', 'b', 'z'}\n"
     ]
    }
   ],
   "source": [
    "print(s1)\n",
    "print(s2)\n"
   ]
  },
  {
   "cell_type": "code",
   "execution_count": 12,
   "id": "d2742ec0",
   "metadata": {},
   "outputs": [
    {
     "data": {
      "text/plain": [
       "11"
      ]
     },
     "execution_count": 12,
     "metadata": {},
     "output_type": "execute_result"
    }
   ],
   "source": [
    "len(s1) #length of set\n",
    "len(s2) #length of set"
   ]
  },
  {
   "cell_type": "code",
   "execution_count": 13,
   "id": "b304f821",
   "metadata": {},
   "outputs": [
    {
     "data": {
      "text/plain": [
       "8"
      ]
     },
     "execution_count": 13,
     "metadata": {},
     "output_type": "execute_result"
    }
   ],
   "source": [
    "len(s1) #length of set"
   ]
  },
  {
   "cell_type": "code",
   "execution_count": 14,
   "id": "33e8e2fe",
   "metadata": {},
   "outputs": [
    {
     "data": {
      "text/plain": [
       "{(1+2j), 3.14, True, 'hello'}"
      ]
     },
     "execution_count": 14,
     "metadata": {},
     "output_type": "execute_result"
    }
   ],
   "source": [
    "s3 = {1+2j, 3.14, 'hello', True} # Create a set with mixed data types  \n",
    "s3 "
   ]
  },
  {
   "cell_type": "code",
   "execution_count": 15,
   "id": "1902b9ec",
   "metadata": {},
   "outputs": [
    {
     "data": {
      "text/plain": [
       "{2, 3, 4, 6, 8, 32, 48, 78}"
      ]
     },
     "execution_count": 15,
     "metadata": {},
     "output_type": "execute_result"
    }
   ],
   "source": [
    "s1"
   ]
  },
  {
   "cell_type": "code",
   "execution_count": 16,
   "id": "79bf9c61",
   "metadata": {},
   "outputs": [
    {
     "data": {
      "text/plain": [
       "{2, 3, 4, 6, 8, 32, 48, 78}"
      ]
     },
     "execution_count": 16,
     "metadata": {},
     "output_type": "execute_result"
    }
   ],
   "source": [
    "s1.add(3) # Add an element to the set & duicate not allowed because it is overwrite\n",
    "s1"
   ]
  },
  {
   "cell_type": "code",
   "execution_count": 17,
   "id": "1f017221",
   "metadata": {},
   "outputs": [
    {
     "data": {
      "text/plain": [
       "{2, 3, 4, 6, 8, 32, 48, 78, 100}"
      ]
     },
     "execution_count": 17,
     "metadata": {},
     "output_type": "execute_result"
    }
   ],
   "source": [
    "s1.add(100) # Add an element to the set\n",
    "s1"
   ]
  },
  {
   "cell_type": "code",
   "execution_count": 18,
   "id": "a31adeef",
   "metadata": {},
   "outputs": [
    {
     "data": {
      "text/plain": [
       "{2, 3, 4, 5, 6, 8, 32, 48, 78, 100}"
      ]
     },
     "execution_count": 18,
     "metadata": {},
     "output_type": "execute_result"
    }
   ],
   "source": [
    "s1.add(5) # Add an element to the set\n",
    "s1"
   ]
  },
  {
   "cell_type": "code",
   "execution_count": 19,
   "id": "907fd7ea",
   "metadata": {},
   "outputs": [
    {
     "name": "stdout",
     "output_type": "stream",
     "text": [
      "{32, 2, 3, 4, 100, 6, 5, 8, 78, 48}\n"
     ]
    }
   ],
   "source": [
    "print(s1)#unordered output"
   ]
  },
  {
   "cell_type": "code",
   "execution_count": 20,
   "id": "32a9af5a",
   "metadata": {},
   "outputs": [
    {
     "data": {
      "text/plain": [
       "{'a', 'b', 'c', 'd', 'e', 'f', 'g', 'h', 'i', 'j', 'z'}"
      ]
     },
     "execution_count": 20,
     "metadata": {},
     "output_type": "execute_result"
    }
   ],
   "source": [
    "s2"
   ]
  },
  {
   "cell_type": "code",
   "execution_count": 21,
   "id": "f02bfd72",
   "metadata": {},
   "outputs": [],
   "source": [
    "s2.clear()#all elements are clear from the set"
   ]
  },
  {
   "cell_type": "code",
   "execution_count": 22,
   "id": "226dd1a3",
   "metadata": {},
   "outputs": [
    {
     "data": {
      "text/plain": [
       "set()"
      ]
     },
     "execution_count": 22,
     "metadata": {},
     "output_type": "execute_result"
    }
   ],
   "source": [
    "s2"
   ]
  },
  {
   "cell_type": "code",
   "execution_count": 23,
   "id": "c9ad0356",
   "metadata": {},
   "outputs": [
    {
     "data": {
      "text/plain": [
       "{2, 3, 4, 5, 6, 8, 32, 48, 78, 100}"
      ]
     },
     "execution_count": 23,
     "metadata": {},
     "output_type": "execute_result"
    }
   ],
   "source": [
    "s3 = s1.copy()#copy the set\n",
    "s3"
   ]
  },
  {
   "cell_type": "code",
   "execution_count": 24,
   "id": "3b446dc0",
   "metadata": {},
   "outputs": [
    {
     "name": "stdout",
     "output_type": "stream",
     "text": [
      "{32, 2, 3, 4, 100, 6, 5, 8, 78, 48}\n",
      "set()\n",
      "{32, 2, 3, 4, 100, 6, 5, 8, 78, 48}\n"
     ]
    }
   ],
   "source": [
    "print(s1)\n",
    "print(s2)\n",
    "print(s3)   "
   ]
  },
  {
   "cell_type": "code",
   "execution_count": 25,
   "id": "3ed4a634",
   "metadata": {},
   "outputs": [
    {
     "ename": "TypeError",
     "evalue": "'set' object is not subscriptable",
     "output_type": "error",
     "traceback": [
      "\u001b[31m---------------------------------------------------------------------------\u001b[39m",
      "\u001b[31mTypeError\u001b[39m                                 Traceback (most recent call last)",
      "\u001b[36mCell\u001b[39m\u001b[36m \u001b[39m\u001b[32mIn[25]\u001b[39m\u001b[32m, line 1\u001b[39m\n\u001b[32m----> \u001b[39m\u001b[32m1\u001b[39m \u001b[43ms1\u001b[49m\u001b[43m[\u001b[49m\u001b[32;43m1\u001b[39;49m\u001b[43m:\u001b[49m\u001b[32;43m3\u001b[39;49m\u001b[43m]\u001b[49m\u001b[38;5;66;03m# indexing and sliceing not allowed in set\u001b[39;00m\n",
      "\u001b[31mTypeError\u001b[39m: 'set' object is not subscriptable"
     ]
    }
   ],
   "source": [
    "s1[1:3]# indexing and sliceing not allowed in set"
   ]
  },
  {
   "cell_type": "code",
   "execution_count": null,
   "id": "d8c6272a",
   "metadata": {},
   "outputs": [],
   "source": [
    "s1"
   ]
  },
  {
   "cell_type": "code",
   "execution_count": null,
   "id": "4a63c7f5",
   "metadata": {},
   "outputs": [],
   "source": [
    "s1.pop()#randamly remove an element from the set\n"
   ]
  },
  {
   "cell_type": "code",
   "execution_count": null,
   "id": "7a11d339",
   "metadata": {},
   "outputs": [],
   "source": [
    "s1"
   ]
  },
  {
   "cell_type": "code",
   "execution_count": null,
   "id": "db5d4477",
   "metadata": {},
   "outputs": [],
   "source": [
    "s1.pop()#remove the last element from the set\n"
   ]
  },
  {
   "cell_type": "code",
   "execution_count": null,
   "id": "11f7fa12",
   "metadata": {},
   "outputs": [],
   "source": [
    "s1"
   ]
  },
  {
   "cell_type": "code",
   "execution_count": null,
   "id": "df1439fc",
   "metadata": {},
   "outputs": [],
   "source": [
    "s1.pop(2)#remove the last element from the set\n",
    "s1"
   ]
  },
  {
   "cell_type": "code",
   "execution_count": null,
   "id": "f7253ec9",
   "metadata": {},
   "outputs": [],
   "source": [
    "s1.remove(78) # Remove an element from the set\n",
    "s1"
   ]
  },
  {
   "cell_type": "code",
   "execution_count": null,
   "id": "eded3040",
   "metadata": {},
   "outputs": [],
   "source": [
    "s1.remove(66) # Remove an element from the set\n",
    "s1"
   ]
  },
  {
   "cell_type": "code",
   "execution_count": null,
   "id": "2c56704e",
   "metadata": {},
   "outputs": [],
   "source": [
    "s1"
   ]
  },
  {
   "cell_type": "code",
   "execution_count": null,
   "id": "a1581c6a",
   "metadata": {},
   "outputs": [],
   "source": [
    "s1.discard(66) # Remove an element from the set without error if not found\n"
   ]
  },
  {
   "cell_type": "code",
   "execution_count": null,
   "id": "2dfa8cbe",
   "metadata": {},
   "outputs": [],
   "source": [
    "66 in s1 # Check if an element is in the set"
   ]
  },
  {
   "cell_type": "code",
   "execution_count": null,
   "id": "f85ff495",
   "metadata": {},
   "outputs": [],
   "source": [
    "5 in s1 # Check if an element is in the set"
   ]
  },
  {
   "cell_type": "code",
   "execution_count": null,
   "id": "1bb1fed2",
   "metadata": {},
   "outputs": [],
   "source": [
    "s1"
   ]
  },
  {
   "cell_type": "code",
   "execution_count": null,
   "id": "67a3ae4c",
   "metadata": {},
   "outputs": [],
   "source": [
    "s1.discard(8)\n",
    "s1"
   ]
  },
  {
   "cell_type": "code",
   "execution_count": null,
   "id": "c0cd5ce9",
   "metadata": {},
   "outputs": [],
   "source": [
    "s1.add(100) # Add an element to the set"
   ]
  },
  {
   "cell_type": "code",
   "execution_count": null,
   "id": "1768c96e",
   "metadata": {},
   "outputs": [],
   "source": [
    "s1"
   ]
  },
  {
   "cell_type": "markdown",
   "id": "1a23b92b",
   "metadata": {},
   "source": [
    "SET OPERATION"
   ]
  },
  {
   "cell_type": "code",
   "execution_count": 53,
   "id": "877d3ea2",
   "metadata": {},
   "outputs": [],
   "source": [
    "a = {1,2,3,4,5,6,7,8,9,10}\n",
    "b = {3,4,5,6,7,8}\n",
    "c = { 20, 30, 40, 50}\n"
   ]
  },
  {
   "cell_type": "code",
   "execution_count": 52,
   "id": "53f76c92",
   "metadata": {},
   "outputs": [
    {
     "data": {
      "text/plain": [
       "{1, 2, 3, 4, 5, 6, 7, 8, 9, 10}"
      ]
     },
     "execution_count": 52,
     "metadata": {},
     "output_type": "execute_result"
    }
   ],
   "source": [
    "a.union(b)\n"
   ]
  },
  {
   "cell_type": "code",
   "execution_count": 50,
   "id": "9828dc81",
   "metadata": {},
   "outputs": [
    {
     "data": {
      "text/plain": [
       "{1, 2, 3, 4, 5, 6, 7, 8, 9, 10, 20, 30, 40, 50}"
      ]
     },
     "execution_count": 50,
     "metadata": {},
     "output_type": "execute_result"
    }
   ],
   "source": [
    "a.union(b,c) # multipel arguments passing in union"
   ]
  },
  {
   "cell_type": "code",
   "execution_count": 51,
   "metadata": {},
   "outputs": [
    {
     "data": {
      "text/plain": [
       "{1, 2, 3, 4, 5, 6, 7, 8, 9, 10, 20, 30, 40, 50}"
      ]
     },
     "execution_count": 51,
     "metadata": {},
     "output_type": "execute_result"
    }
   ],
   "source": [
    "a | b | c  # union operation using pipe operator"
   ]
  },
  {
   "cell_type": "code",
   "execution_count": 47,
   "id": "548658fb",
   "metadata": {},
   "outputs": [
    {
     "name": "stdout",
     "output_type": "stream",
     "text": [
      "{1, 2, 3, 4, 5, 6, 7, 8, 9, 10}\n",
      "{3, 4, 5, 6, 7, 8}\n",
      "{40, 50, 20, 30}\n"
     ]
    }
   ],
   "source": [
    "print(a)\n",
    "print(b)\n",
    "print(c)"
   ]
  },
  {
   "cell_type": "code",
   "execution_count": 48,
   "id": "39288f67",
   "metadata": {},
   "outputs": [
    {
     "data": {
      "text/plain": [
       "{3, 4, 5, 6, 7, 8}"
      ]
     },
     "execution_count": 48,
     "metadata": {},
     "output_type": "execute_result"
    }
   ],
   "source": [
    "a.intersection(b) # intersection operation same vaue in both set"
   ]
  },
  {
   "cell_type": "code",
   "execution_count": 46,
   "id": "a459b14c",
   "metadata": {},
   "outputs": [
    {
     "data": {
      "text/plain": [
       "set()"
      ]
     },
     "execution_count": 46,
     "metadata": {},
     "output_type": "execute_result"
    }
   ],
   "source": [
    "a.intersection(c) "
   ]
  },
  {
   "cell_type": "code",
   "execution_count": 44,
   "id": "d898cf09",
   "metadata": {},
   "outputs": [
    {
     "data": {
      "text/plain": [
       "{3, 4, 5, 6, 7, 8}"
      ]
     },
     "execution_count": 44,
     "metadata": {},
     "output_type": "execute_result"
    }
   ],
   "source": [
    "a & b # intersection operation using ampersand operator"
   ]
  },
  {
   "cell_type": "code",
   "execution_count": 45,
   "id": "68ad1c5a",
   "metadata": {},
   "outputs": [
    {
     "name": "stdout",
     "output_type": "stream",
     "text": [
      "{1, 2, 3, 4, 5, 6, 7, 8, 9, 10}\n",
      "{3, 4, 5, 6, 7, 8}\n",
      "{40, 50, 20, 30}\n"
     ]
    }
   ],
   "source": [
    "print(a)\n",
    "print(b)\n",
    "print(c)"
   ]
  },
  {
   "cell_type": "code",
   "execution_count": 41,
   "id": "4e8cc995",
   "metadata": {},
   "outputs": [
    {
     "data": {
      "text/plain": [
       "{1, 2, 9, 10}"
      ]
     },
     "execution_count": 41,
     "metadata": {},
     "output_type": "execute_result"
    }
   ],
   "source": [
    "a.difference(b) # difference operation same vaue in both set    "
   ]
  },
  {
   "cell_type": "code",
   "execution_count": 42,
   "id": "7f084388",
   "metadata": {},
   "outputs": [
    {
     "data": {
      "text/plain": [
       "set()"
      ]
     },
     "execution_count": 42,
     "metadata": {},
     "output_type": "execute_result"
    }
   ],
   "source": [
    "b.difference(a) # difference operation same vaue in both set & not comman elemnts"
   ]
  },
  {
   "cell_type": "code",
   "execution_count": 43,
   "id": "d78aca71",
   "metadata": {},
   "outputs": [
    {
     "data": {
      "text/plain": [
       "{1, 2, 3, 4, 5, 6, 7, 8, 9, 10}"
      ]
     },
     "execution_count": 43,
     "metadata": {},
     "output_type": "execute_result"
    }
   ],
   "source": [
    "a.difference(c) # difference operation same vaue in both set"
   ]
  },
  {
   "cell_type": "code",
   "execution_count": 40,
   "id": "6a2f9ce2",
   "metadata": {},
   "outputs": [
    {
     "data": {
      "text/plain": [
       "{1, 2, 9, 10}"
      ]
     },
     "execution_count": 40,
     "metadata": {},
     "output_type": "execute_result"
    }
   ],
   "source": [
    "a-b"
   ]
  },
  {
   "cell_type": "code",
   "execution_count": 38,
   "id": "839d4319",
   "metadata": {},
   "outputs": [
    {
     "data": {
      "text/plain": [
       "set()"
      ]
     },
     "execution_count": 38,
     "metadata": {},
     "output_type": "execute_result"
    }
   ],
   "source": [
    "b-a"
   ]
  },
  {
   "cell_type": "code",
   "execution_count": 37,
   "id": "3d7d2ea4",
   "metadata": {},
   "outputs": [
    {
     "data": {
      "text/plain": [
       "{20, 30, 40, 50}"
      ]
     },
     "execution_count": 37,
     "metadata": {},
     "output_type": "execute_result"
    }
   ],
   "source": [
    "c-b"
   ]
  },
  {
   "cell_type": "code",
   "execution_count": 36,
   "id": "1c5dfa90",
   "metadata": {},
   "outputs": [
    {
     "name": "stdout",
     "output_type": "stream",
     "text": [
      "{1, 2, 3, 4, 5, 6, 7, 8, 9, 10}\n",
      "{3, 4, 5, 6, 7, 8}\n",
      "{40, 50, 20, 30}\n"
     ]
    }
   ],
   "source": [
    "print(a)\n",
    "print(b)\n",
    "print(c)"
   ]
  },
  {
   "cell_type": "code",
   "execution_count": 35,
   "metadata": {},
   "outputs": [
    {
     "data": {
      "text/plain": [
       "{3, 4, 5, 6, 7, 8}"
      ]
     },
     "execution_count": 35,
     "metadata": {},
     "output_type": "execute_result"
    }
   ],
   "source": [
    "a&b # only common elements in both sets"
   ]
  },
  {
   "cell_type": "code",
   "execution_count": 33,
   "id": "5acdf9d8",
   "metadata": {},
   "outputs": [
    {
     "data": {
      "text/plain": [
       "{1, 2, 9, 10}"
      ]
     },
     "execution_count": 33,
     "metadata": {},
     "output_type": "execute_result"
    }
   ],
   "source": [
    "a- b # comman elements remove in both sets"
   ]
  },
  {
   "cell_type": "code",
   "execution_count": 34,
   "id": "0dc0f651",
   "metadata": {},
   "outputs": [
    {
     "data": {
      "text/plain": [
       "{1, 2, 3, 4, 5, 6, 7, 8, 9, 10}"
      ]
     },
     "execution_count": 34,
     "metadata": {},
     "output_type": "execute_result"
    }
   ],
   "source": [
    "a|b #all elements in both sets"
   ]
  },
  {
   "cell_type": "code",
   "execution_count": 32,
   "id": "a49044fa",
   "metadata": {},
   "outputs": [
    {
     "name": "stdout",
     "output_type": "stream",
     "text": [
      "{1, 2, 3, 4, 5, 6, 7, 8, 9, 10}\n",
      "{3, 4, 5, 6, 7, 8}\n",
      "{40, 50, 20, 30}\n"
     ]
    }
   ],
   "source": [
    "print(a)\n",
    "print(b)\n",
    "print(c)"
   ]
  },
  {
   "cell_type": "code",
   "execution_count": 26,
   "metadata": {},
   "outputs": [
    {
     "ename": "NameError",
     "evalue": "name 'a' is not defined",
     "output_type": "error",
     "traceback": [
      "\u001b[31m---------------------------------------------------------------------------\u001b[39m",
      "\u001b[31mNameError\u001b[39m                                 Traceback (most recent call last)",
      "\u001b[36mCell\u001b[39m\u001b[36m \u001b[39m\u001b[32mIn[26]\u001b[39m\u001b[32m, line 1\u001b[39m\n\u001b[32m----> \u001b[39m\u001b[32m1\u001b[39m \u001b[43ma\u001b[49m.difference_update(c)\n",
      "\u001b[31mNameError\u001b[39m: name 'a' is not defined"
     ]
    }
   ],
   "source": [
    "a.difference_update(c)"
   ]
  },
  {
   "cell_type": "code",
   "execution_count": 31,
   "id": "b31aa5b0",
   "metadata": {},
   "outputs": [
    {
     "data": {
      "text/plain": [
       "{3, 4, 5, 6, 7, 8}"
      ]
     },
     "execution_count": 31,
     "metadata": {},
     "output_type": "execute_result"
    }
   ],
   "source": [
    "b"
   ]
  },
  {
   "cell_type": "code",
   "execution_count": 30,
   "id": "da0517d2",
   "metadata": {},
   "outputs": [
    {
     "name": "stdout",
     "output_type": "stream",
     "text": [
      "{1, 2, 3, 4, 5, 6, 7, 8, 9, 10}\n",
      "{3, 4, 5, 6, 7, 8}\n",
      "{40, 50, 20, 30}\n"
     ]
    }
   ],
   "source": [
    "print(a)\n",
    "print(b)\n",
    "print(c)"
   ]
  },
  {
   "cell_type": "code",
   "execution_count": 29,
   "id": "4e5dc82c",
   "metadata": {},
   "outputs": [],
   "source": [
    "a = {1,2,3,4,5,6,7,8,9,10}\n",
    "b = {3,4,5,6,7,8}\n",
    "c = { 20, 30, 40, 50}\n"
   ]
  },
  {
   "cell_type": "code",
   "execution_count": 54,
   "id": "d8362c99",
   "metadata": {},
   "outputs": [],
   "source": [
    "a1 = {1,2,3,4,5,6,7,8,9,}\n",
    "b1 = {3,4,5,6,7,8}\n",
    "c1 = { 10,20, 30, 40, 50}\n"
   ]
  },
  {
   "cell_type": "code",
   "execution_count": 55,
   "id": "cc75ed92",
   "metadata": {},
   "outputs": [
    {
     "name": "stdout",
     "output_type": "stream",
     "text": [
      "{1, 2, 3, 4, 5, 6, 7, 8, 9}\n",
      "{3, 4, 5, 6, 7, 8}\n",
      "{50, 20, 40, 10, 30}\n"
     ]
    }
   ],
   "source": [
    "print(a1)  \n",
    "print(b1)  \n",
    "print(c1)   "
   ]
  },
  {
   "cell_type": "code",
   "execution_count": null,
   "id": "256a654d",
   "metadata": {},
   "outputs": [
    {
     "data": {
      "text/plain": [
       "True"
      ]
     },
     "execution_count": 57,
     "metadata": {},
     "output_type": "execute_result"
    }
   ],
   "source": [
    "a1.issuperset(b1)#like as dad\n"
   ]
  },
  {
   "cell_type": "code",
   "execution_count": null,
   "id": "36aa043e",
   "metadata": {},
   "outputs": [
    {
     "data": {
      "text/plain": [
       "True"
      ]
     },
     "execution_count": 58,
     "metadata": {},
     "output_type": "execute_result"
    }
   ],
   "source": [
    "b1.issubset(a1) #like as son\n",
    "\n"
   ]
  },
  {
   "cell_type": "code",
   "execution_count": null,
   "id": "b40413e3",
   "metadata": {},
   "outputs": [
    {
     "data": {
      "text/plain": [
       "True"
      ]
     },
     "execution_count": 59,
     "metadata": {},
     "output_type": "execute_result"
    }
   ],
   "source": [
    "c1.isdisjoint(a1)  #like as neighbor\n"
   ]
  },
  {
   "cell_type": "code",
   "execution_count": 60,
   "id": "675ffc52",
   "metadata": {},
   "outputs": [
    {
     "data": {
      "text/plain": [
       "True"
      ]
     },
     "execution_count": 60,
     "metadata": {},
     "output_type": "execute_result"
    }
   ],
   "source": [
    "c1.isdisjoint(b1)"
   ]
  },
  {
   "cell_type": "code",
   "execution_count": 61,
   "id": "caef5484",
   "metadata": {},
   "outputs": [
    {
     "data": {
      "text/plain": [
       "False"
      ]
     },
     "execution_count": 61,
     "metadata": {},
     "output_type": "execute_result"
    }
   ],
   "source": [
    "a1.isdisjoint(b1) # Check if two sets have no elements in common"
   ]
  },
  {
   "cell_type": "code",
   "execution_count": 62,
   "id": "e13acbae",
   "metadata": {},
   "outputs": [
    {
     "data": {
      "text/plain": [
       "False"
      ]
     },
     "execution_count": 62,
     "metadata": {},
     "output_type": "execute_result"
    }
   ],
   "source": [
    "b1.isdisjoint(a1) # Check if two sets have no elements in common"
   ]
  },
  {
   "cell_type": "code",
   "execution_count": 64,
   "id": "c05a0769",
   "metadata": {},
   "outputs": [],
   "source": [
    "a2 = {1,2,3,4,5,6,7,8,9,}\n",
    "b2 = {35,45,55,56,75,85}\n",
    "c2 = { 10,20, 30, 40, 50}\n"
   ]
  },
  {
   "cell_type": "code",
   "execution_count": 65,
   "id": "7ae1080b",
   "metadata": {},
   "outputs": [
    {
     "name": "stdout",
     "output_type": "stream",
     "text": [
      "{1, 2, 3, 4, 5, 6, 7, 8, 9}\n",
      "{35, 85, 55, 56, 75, 45}\n",
      "{50, 20, 40, 10, 30}\n"
     ]
    }
   ],
   "source": [
    "print(a2)\n",
    "print(b2)\n",
    "print(c2)"
   ]
  },
  {
   "cell_type": "code",
   "execution_count": 66,
   "id": "ed2a8e9b",
   "metadata": {},
   "outputs": [
    {
     "data": {
      "text/plain": [
       "False"
      ]
     },
     "execution_count": 66,
     "metadata": {},
     "output_type": "execute_result"
    }
   ],
   "source": [
    "a2.issubset(b2)\n"
   ]
  },
  {
   "cell_type": "code",
   "execution_count": 67,
   "id": "6073cc83",
   "metadata": {},
   "outputs": [
    {
     "data": {
      "text/plain": [
       "False"
      ]
     },
     "execution_count": 67,
     "metadata": {},
     "output_type": "execute_result"
    }
   ],
   "source": [
    "b2.issuperset(a2)\n"
   ]
  },
  {
   "cell_type": "code",
   "execution_count": 69,
   "id": "8fa67331",
   "metadata": {},
   "outputs": [
    {
     "data": {
      "text/plain": [
       "True"
      ]
     },
     "execution_count": 69,
     "metadata": {},
     "output_type": "execute_result"
    }
   ],
   "source": [
    "a2.isdisjoint(b2)\n",
    "c2.isdisjoint(b2)"
   ]
  },
  {
   "cell_type": "code",
   "execution_count": 79,
   "id": "569c1708",
   "metadata": {},
   "outputs": [
    {
     "data": {
      "text/plain": [
       "{1, 2, 3, 4, 5, 6, 7, 8, 9}"
      ]
     },
     "execution_count": 79,
     "metadata": {},
     "output_type": "execute_result"
    }
   ],
   "source": [
    "A = {1, 2, 3, 4, 5, 6, 7, 8, 9}\n",
    "A"
   ]
  },
  {
   "cell_type": "code",
   "execution_count": 71,
   "id": "ff783e1b",
   "metadata": {},
   "outputs": [
    {
     "data": {
      "text/plain": [
       "45"
      ]
     },
     "execution_count": 71,
     "metadata": {},
     "output_type": "execute_result"
    }
   ],
   "source": [
    "sum(A)  # Sum of all elements in the set"
   ]
  },
  {
   "cell_type": "code",
   "execution_count": 72,
   "id": "03dfca1b",
   "metadata": {},
   "outputs": [
    {
     "data": {
      "text/plain": [
       "9"
      ]
     },
     "execution_count": 72,
     "metadata": {},
     "output_type": "execute_result"
    }
   ],
   "source": [
    "max(A)  # Maximum element in the set"
   ]
  },
  {
   "cell_type": "code",
   "execution_count": 73,
   "id": "3b99be38",
   "metadata": {},
   "outputs": [
    {
     "data": {
      "text/plain": [
       "1"
      ]
     },
     "execution_count": 73,
     "metadata": {},
     "output_type": "execute_result"
    }
   ],
   "source": [
    "min(A)  # Minimum element in the set"
   ]
  },
  {
   "cell_type": "code",
   "execution_count": 74,
   "id": "e324c40b",
   "metadata": {},
   "outputs": [
    {
     "data": {
      "text/plain": [
       "9"
      ]
     },
     "execution_count": 74,
     "metadata": {},
     "output_type": "execute_result"
    }
   ],
   "source": [
    "len(A)  # Length of the set"
   ]
  },
  {
   "cell_type": "code",
   "execution_count": 75,
   "id": "8b13a147",
   "metadata": {},
   "outputs": [
    {
     "data": {
      "text/plain": [
       "[(0, 1), (1, 2), (2, 3), (3, 4), (4, 5), (5, 6), (6, 7), (7, 8), (8, 9)]"
      ]
     },
     "execution_count": 75,
     "metadata": {},
     "output_type": "execute_result"
    }
   ],
   "source": [
    "list(enumerate(A))  # Enumerate the set to get index and value pairs"
   ]
  },
  {
   "cell_type": "code",
   "execution_count": 77,
   "id": "e75825da",
   "metadata": {},
   "outputs": [
    {
     "data": {
      "text/plain": [
       "[9, 8, 7, 6, 5, 4, 3, 2, 1]"
      ]
     },
     "execution_count": 77,
     "metadata": {},
     "output_type": "execute_result"
    }
   ],
   "source": [
    "D=sorted(A,reverse=True)  # Sort the set and return a list\n",
    "D"
   ]
  },
  {
   "cell_type": "code",
   "execution_count": 78,
   "id": "2c010117",
   "metadata": {},
   "outputs": [
    {
     "data": {
      "text/plain": [
       "[1, 2, 3, 4, 5, 6, 7, 8, 9]"
      ]
     },
     "execution_count": 78,
     "metadata": {},
     "output_type": "execute_result"
    }
   ],
   "source": [
    "M=sorted(A,reverse=False)  # Sort the set and return a list\n",
    "M"
   ]
  },
  {
   "cell_type": "code",
   "execution_count": 80,
   "id": "bdb75239",
   "metadata": {},
   "outputs": [
    {
     "data": {
      "text/plain": [
       "[1, 2, 3, 4, 5, 6, 7, 8, 9]"
      ]
     },
     "execution_count": 80,
     "metadata": {},
     "output_type": "execute_result"
    }
   ],
   "source": [
    "sorted(D)"
   ]
  },
  {
   "cell_type": "code",
   "execution_count": null,
   "id": "14fd92e3",
   "metadata": {},
   "outputs": [],
   "source": []
  },
  {
   "cell_type": "code",
   "execution_count": null,
   "id": "b8428568",
   "metadata": {},
   "outputs": [],
   "source": []
  },
  {
   "cell_type": "code",
   "execution_count": null,
   "id": "36333d42",
   "metadata": {},
   "outputs": [],
   "source": []
  }
 ],
 "metadata": {
  "kernelspec": {
   "display_name": "playground",
   "language": "python",
   "name": "python3"
  },
  "language_info": {
   "codemirror_mode": {
    "name": "ipython",
    "version": 3
   },
   "file_extension": ".py",
   "mimetype": "text/x-python",
   "name": "python",
   "nbconvert_exporter": "python",
   "pygments_lexer": "ipython3",
   "version": "3.13.5"
  }
 },
 "nbformat": 4,
 "nbformat_minor": 5
}
